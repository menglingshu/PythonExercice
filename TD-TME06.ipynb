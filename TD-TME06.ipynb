{
 "cells": [
  {
   "cell_type": "markdown",
   "metadata": {},
   "source": [
    "IA & Data science -- 2017-2018\n",
    "--------\n",
    "*&copy; Equipe pédagogique: Ludovic Denoyer, Thibault Laugel, Marie-Jeanne Lesot, Christophe Marsala, Olivier Schwander*"
   ]
  },
  {
   "cell_type": "markdown",
   "metadata": {},
   "source": [
    "# TD-TME06: méthodes d'ensembles\n",
    "\n",
    "L'objectif de ce TP est d'implémenter des méthodes d'ensembles et de les évaluer: l'algorithme de bagging appliqué aux arbres de décision, dans un premier temps, puis au perceptron ensuite.\n",
    "\n",
    "Comme précédemment, on se restreint au cas binaire où les données sont étiquetées $+1$ ou $-1$. De plus, on ne considére que le cas où les attributs sont tous numériques."
   ]
  },
  {
   "cell_type": "markdown",
   "metadata": {},
   "source": [
    "<font size=\"+1\">**[Q]**</font> **MENG_LINGSHU_3502972**"
   ]
  },
  {
   "cell_type": "markdown",
   "metadata": {},
   "source": [
    "*Double-cliquer ici et insérer les noms et prénoms de votre binôme*"
   ]
  },
  {
   "cell_type": "markdown",
   "metadata": {},
   "source": [
    "<font color=\"RED\" size=\"+1\">IMPORTANT: soumission de votre fichier final</font>\n",
    "\n",
    "**Nom à donner au fichier à poster** : *Nom1_Nom2.ipynb* \n",
    "- *Nom1* et *Nom2* : noms des membres du binôme\n",
    "- ne pas compresser ou faire une archive: envoyer le fichier ipython tel quel, éventuellement, si vous avez d'autres fichiers à envoyer, vous les joignez au message."
   ]
  },
  {
   "cell_type": "markdown",
   "metadata": {},
   "source": [
    "## Questions de cours (à faire chez vous, sur papier)\n",
    "\n",
    "Pour vous entraîner sans machine... *(exercice de l'examen 2017)*\n",
    "\n",
    "Soit $V=\\{v_{1}, v_{2},..., v_{n}\\}$ un ensemble de $n$ valeurs réelles ordonnées,\n",
    "  telles que $v_1 \\geq v_2 \\geq \\ldots \\geq v_{n}$.. On note $\\bar{v}$ la valeur moyenne de $V$. La variance de $V$, $var(V)$ est définie par:\n",
    "$var(V) = \\frac{1}{n} \\sum_{i=1}^{n} (v_{i} - \\bar{v})^2$. \n",
    "\n",
    "Et soit $W=\\{w_{1}, w_{2},..., w_{n}\\}$ tel que,pour tout $i=1,...,n$.\n",
    "\n",
    "\n",
    "** [Q] ** Donner l'expression de $\\bar{v}$ en fonction des valeurs de $V$.\n",
    "\n",
    "** [Q] **  Montrer que $var(aV+b) = a^2 var(V)$.\n",
    "\n",
    "** [Q] ** Donner l'expression de $V\\cdot W$ (le produit scalaire) en fonction des coordonnées\n",
    "   de $V$ et de $W$.\n",
    "   \n",
    "** [Q] ** Comment doit-on définir $W$ si on souhaite que $V\\cdot W = \\bar{v}$ ?\n",
    "\n",
    "\n",
    "** [Q] ** Comment doit-on définir $W$ si on souhaite que\n",
    "   $V\\cdot W = \\displaystyle\\max_{i=1,...n} v_i$ ? Même question si on souhaite que\n",
    "   $V\\cdot W = \\displaystyle\\min_{i=1,...n} v_i$ ?\n",
    "\n",
    "** [Q] ** Soit un entier $k$ tel que $0<k\\leq n$. Proposer une définition de $W$ qui, par le\n",
    "   calcul du produit scalaire, permet de ne tenir compte, de façon équitable, que des $k$\n",
    "   valeurs les plus élevées de $V$.\n",
    "\n"
   ]
  },
  {
   "cell_type": "markdown",
   "metadata": {},
   "source": [
    "## Préparation\n"
   ]
  },
  {
   "cell_type": "code",
   "execution_count": 92,
   "metadata": {},
   "outputs": [],
   "source": [
    "#imports utiles\n",
    "import numpy as np\n",
    "import pandas as pd"
   ]
  },
  {
   "cell_type": "markdown",
   "metadata": {},
   "source": [
    "On utilise la classe <code>LabeledSet</code> pour stocker les données d'apprentissage, de validation et de test."
   ]
  },
  {
   "cell_type": "code",
   "execution_count": 93,
   "metadata": {},
   "outputs": [],
   "source": [
    "class LabeledSet:  \n",
    "    \n",
    "    def __init__(self, input_dimension):\n",
    "        self.input_dimension = input_dimension\n",
    "        self.nb_examples = 0\n",
    "    \n",
    "    def addExample(self,vector,label):\n",
    "        if (self.nb_examples == 0):\n",
    "            self.x = np.array([vector])\n",
    "            self.y = np.array([label])\n",
    "        else:\n",
    "            self.x = np.vstack((self.x, vector))\n",
    "            self.y = np.vstack((self.y, label))\n",
    "        \n",
    "        self.nb_examples = self.nb_examples + 1\n",
    "    \n",
    "    #Renvoie la dimension de l'espace d'entrée\n",
    "    def getInputDimension(self):\n",
    "        return self.input_dimension\n",
    "    \n",
    "    #Renvoie le nombre d'exemples dans le set\n",
    "    def size(self):\n",
    "        return self.nb_examples\n",
    "    \n",
    "    #Renvoie la valeur de x_i\n",
    "    def getX(self, i):\n",
    "        return self.x[i]\n",
    "        \n",
    "    \n",
    "    #Renvouie la valeur de y_i\n",
    "    def getY(self, i):\n",
    "        return(self.y[i])"
   ]
  },
  {
   "cell_type": "markdown",
   "metadata": {},
   "source": [
    "Pour tester les fonctions à implémenter dans cette séance, on utilise la base d'exemples suivante :"
   ]
  },
  {
   "cell_type": "code",
   "execution_count": 94,
   "metadata": {},
   "outputs": [],
   "source": [
    "# Base d'exemples pour tester les fonctions:\n",
    "set_exemples = LabeledSet(2)\n",
    "set_exemples.addExample([2.10492662303,1.10648470933],1)\n",
    "set_exemples.addExample([0.297525816499,-0.662504551625],1)\n",
    "set_exemples.addExample([1.6694258992,0.313687975072],1)\n",
    "set_exemples.addExample([1.20583098523,3.50817309097],1)\n",
    "set_exemples.addExample([1.13739407316,1.96688273992],1)\n",
    "set_exemples.addExample([2.32319808376,0.536577798714],1)\n",
    "set_exemples.addExample([-0.953004346997,0.596926923927],1)\n",
    "set_exemples.addExample([1.00574784804,-0.0959606771199],1)\n",
    "set_exemples.addExample([0.747509778063,0.429544908608],1)\n",
    "set_exemples.addExample([1.39048336283,0.442578873406],1)\n",
    "set_exemples.addExample([0.0470799329584,-1.97596265858],-1)\n",
    "set_exemples.addExample([-0.673998013071,0.0693931940855],-1)\n",
    "set_exemples.addExample([-0.84587451642,0.761766191612],-1)\n",
    "set_exemples.addExample([-1.39596839858,-0.943807082082],-1)\n",
    "set_exemples.addExample([0.319301767707,0.566169775123],-1)\n",
    "set_exemples.addExample([1.43459714786,0.935712030926],-1)\n",
    "set_exemples.addExample([-1.69323475458,-1.89563184035],-1)\n",
    "set_exemples.addExample([0.81167008598,-1.17927660655],-1)\n",
    "set_exemples.addExample([-1.03264043689,-1.08118488864],-1)\n",
    "set_exemples.addExample([0.609517439986,-2.88593327349],-1)"
   ]
  },
  {
   "cell_type": "markdown",
   "metadata": {},
   "source": [
    "Pour afficher, nous utilisons la fonction <code>plot2DSet()</code> déjà vue dans les séances précédentes. \n"
   ]
  },
  {
   "cell_type": "code",
   "execution_count": 95,
   "metadata": {},
   "outputs": [],
   "source": [
    "import matplotlib.pyplot as plt\n",
    "%matplotlib inline \n",
    "\n",
    "def plot2DSet(set):\n",
    "    \"\"\" LabeledSet -> NoneType\n",
    "        Hypothèse: set est de dimension 2\n",
    "        affiche une représentation graphique du LabeledSet\n",
    "        remarque: l'ordre des labels dans set peut être quelconque\n",
    "    \"\"\"\n",
    "    S_pos = set.x[np.where(set.y == 1),:][0]      # tous les exemples de label +1\n",
    "    S_neg = set.x[np.where(set.y == -1),:][0]     # tous les exemples de label -1\n",
    "    plt.scatter(S_pos[:,0],S_pos[:,1],marker='o')\n",
    "    plt.scatter(S_neg[:,0],S_neg[:,1],marker='x')"
   ]
  },
  {
   "cell_type": "code",
   "execution_count": 96,
   "metadata": {
    "scrolled": true
   },
   "outputs": [
    {
     "data": {
      "image/png": "[encoded data removed]",
      "text/plain": [
       "<matplotlib.figure.Figure at 0x11a654f28>"
      ]
     },
     "metadata": {},
     "output_type": "display_data"
    }
   ],
   "source": [
    "# Essai de la fonction : (the_set : variable du dataset généré précédemment)\n",
    "plot2DSet(set_exemples)"
   ]
  },
  {
   "cell_type": "markdown",
   "metadata": {},
   "source": [
    "### Les classifieurs\n",
    "\n",
    "On reprend ici la classe <code>Classifier</code> qui sert encore de classe de base pour implémenter un nouveau classifieur."
   ]
  },
  {
   "cell_type": "code",
   "execution_count": 97,
   "metadata": {},
   "outputs": [],
   "source": [
    "class Classifier:\n",
    "    def __init__(self,input_dimension):\n",
    "        \"\"\" Constructeur \"\"\"\n",
    "        raise NotImplementedError(\"Please Implement this method\")\n",
    "    \n",
    "    \n",
    "    # Permet de calculer la prediction sur x => renvoie un score\n",
    "    def predict(self,x):\n",
    "        raise NotImplementedError(\"Please Implement this method\")\n",
    "\n",
    "    \n",
    "    # Permet d'entrainer le modele sur un ensemble de données étiquetés\n",
    "    def train(self,labeledSet):\n",
    "        raise NotImplementedError(\"Please Implement this method\")\n",
    "    \n",
    "    # Permet de calculer le taux de bonne classification\n",
    "    def accuracy(self,set):\n",
    "        nb_ok=0\n",
    "        for i in range(set.size()):\n",
    "            score = self.predict(set.getX(i))\n",
    "            if (score*set.getY(i)>0):\n",
    "                nb_ok = nb_ok+1\n",
    "        acc = nb_ok/(set.size() * 1.0)\n",
    "        return acc\n"
   ]
  },
  {
   "cell_type": "markdown",
   "metadata": {},
   "source": [
    "On reprend aussi la fonction <code>plot_frontiere</code> pour dessiner la frontière de décision d'un classifieur. "
   ]
  },
  {
   "cell_type": "code",
   "execution_count": 98,
   "metadata": {},
   "outputs": [],
   "source": [
    "def plot_frontiere(set,classifier,step=10):\n",
    "    \"\"\" LabeledSet * Classifier * int -> NoneType\n",
    "        Remarque: le 3e argument est optionnel et donne la \"résolution\" du tracé\n",
    "        affiche la frontière de décision associée au classifieur\n",
    "    \"\"\"\n",
    "    mmax=set.x.max(0)\n",
    "    mmin=set.x.min(0)\n",
    "    x1grid,x2grid=np.meshgrid(np.linspace(mmin[0],mmax[0],step),np.linspace(mmin[1],mmax[1],step))\n",
    "    grid=np.hstack((x1grid.reshape(x1grid.size,1),x2grid.reshape(x2grid.size,1)))\n",
    "    \n",
    "    # calcul de la prediction pour chaque point de la grille\n",
    "    res=np.array([classifier.predict(grid[i,:]) for i in range(len(grid)) ])\n",
    "    res=res.reshape(x1grid.shape)\n",
    "    # tracer des frontieres\n",
    "    plt.contourf(x1grid,x2grid,res,colors=[\"red\",\"cyan\"],levels=[-1000,0,1000],linewidth=2)"
   ]
  },
  {
   "cell_type": "markdown",
   "metadata": {},
   "source": [
    "## Etape 1: Bagging d'arbres de décision\n",
    "\n",
    "Dans cette étape, on procède à l'implémentation de l'algorithme du bagging. Dans un premier temps, le classifieur que l'on utilise est celui des arbres de décision.\n",
    "\n",
    "### Classifieurs par arbres de décision\n",
    "Reprendre ici les fonctions réalisées pour l'implémentation des arbres de décision : <code>classe_majoritaire()</code>, <code>shannon()</code>, <code>entropie()</code>, <code>discretise()</code>, <code>divise()</code>, et <code>construit_AD()</code>.\n",
    "Ainsi que les classes <code>ArbreBinaire</code> et <code>ArbreDecision</code>.\n"
   ]
  },
  {
   "cell_type": "code",
   "execution_count": 99,
   "metadata": {},
   "outputs": [],
   "source": [
    "#Alors, cette fonction doit rendre la classe dont les éléments encore plus !!\n",
    "def classe_majoritaire(the_set):\n",
    "    #Toutes les Xs dans l'ensemble the_set dont les Ys = +1 ou -1\n",
    "    list_plus_1 = the_set.x[np.where(the_set.y == 1),:]\n",
    "    list_moins_1 = the_set.x[np.where(the_set.y == -1),:]\n",
    "    if ( len(list_plus_1[0]) >= len(list_moins_1[0]) ):\n",
    "        return +1;\n",
    "    else:\n",
    "        return -1;"
   ]
  },
  {
   "cell_type": "code",
   "execution_count": 100,
   "metadata": {},
   "outputs": [],
   "source": [
    "import math\n",
    "def shannon(data):\n",
    "    k = len(data)\n",
    "    ValeurEntropie=0\n",
    "    for i in range(k):\n",
    "        if(data[i] == 0):\n",
    "            ValeurEntropie += 0\n",
    "        else:\n",
    "            ValeurEntropie += - data[i] * math.log(data[i], k)\n",
    "    return ValeurEntropie"
   ]
  },
  {
   "cell_type": "code",
   "execution_count": 101,
   "metadata": {},
   "outputs": [],
   "source": [
    "def entropie(dataset):\n",
    "    \n",
    "    entropie = 0;\n",
    "    label1 = 0\n",
    "    label2 = 0\n",
    "    \n",
    "    for i in range(dataset.size()):\n",
    "        if(dataset.getY(i) == +1):\n",
    "            label1 += 1\n",
    "        else:\n",
    "            label2 += 1\n",
    "    \n",
    "    label1 = label1/dataset.size()\n",
    "    label2 = label2/dataset.size()\n",
    "        \n",
    "    data = [label1, label2]    \n",
    "    entropie = shannon(data)\n",
    "\n",
    "    return entropie"
   ]
  },
  {
   "cell_type": "code",
   "execution_count": 102,
   "metadata": {},
   "outputs": [],
   "source": [
    "def discretise(LSet, col):\n",
    "    \"\"\" LabelledSet * int -> tuple[float, float]\n",
    "        col est le numéro de colonne sur X à discrétiser\n",
    "        rend la valeur de coupure qui minimise l'entropie ainsi que son entropie.\n",
    "    \"\"\"\n",
    "    # initialisation:\n",
    "    min_entropie = 1.1  # on met à une valeur max car on veut minimiser\n",
    "    min_seuil = 0.0     \n",
    "    # trie des valeurs:\n",
    "    ind= np.argsort(LSet.x,axis=0)\n",
    "    \n",
    "    # calcul des distributions des classes pour E1 et E2:\n",
    "    inf_plus  = 0               # nombre de +1 dans E1\n",
    "    inf_moins = 0               # nombre de -1 dans E1\n",
    "    sup_plus  = 0               # nombre de +1 dans E2\n",
    "    sup_moins = 0               # nombre de -1 dans E2       \n",
    "    # remarque: au départ on considère que E1 est vide et donc E2 correspond à E. \n",
    "    # Ainsi inf_plus et inf_moins valent 0. Il reste à calculer sup_plus et sup_moins \n",
    "    # dans E.\n",
    "    for j in range(0,LSet.size()):\n",
    "        if (LSet.getY(j) == -1):\n",
    "            sup_moins += 1\n",
    "        else:\n",
    "            sup_plus += 1\n",
    "    nb_total = (sup_plus + sup_moins) # nombre d'exemples total dans E\n",
    "    \n",
    "    # parcours pour trouver le meilleur seuil:\n",
    "    for i in range(len(LSet.x)-1):\n",
    "        v_ind_i = ind[i]   # vecteur d'indices\n",
    "        courant = LSet.getX(v_ind_i[col])[col]\n",
    "        lookahead = LSet.getX(ind[i+1][col])[col]\n",
    "        val_seuil = (courant + lookahead) / 2.0;\n",
    "        # M-A-J de la distrib. des classes:\n",
    "        # pour réduire les traitements: on retire un exemple de E2 et on le place\n",
    "        # dans E1, c'est ainsi que l'on déplace donc le seuil de coupure.\n",
    "        if LSet.getY(ind[i][col])[0] == -1:\n",
    "            inf_moins += 1\n",
    "            sup_moins -= 1\n",
    "        else:\n",
    "            inf_plus += 1\n",
    "            sup_plus -= 1\n",
    "        # calcul de la distribution des classes de chaque côté du seuil:\n",
    "        nb_inf = (inf_moins + inf_plus)*1.0     # rem: on en fait un float pour éviter\n",
    "        nb_sup = (sup_moins + sup_plus)*1.0     # que ce soit une division entière.\n",
    "        # calcul de l'entropie de la coupure\n",
    "        val_entropie_inf = shannon([inf_moins / nb_inf, inf_plus  / nb_inf])\n",
    "        val_entropie_sup = shannon([sup_moins / nb_sup, sup_plus  / nb_sup])\n",
    "        val_entropie = (nb_inf / nb_total) * val_entropie_inf + (nb_sup / nb_total) * val_entropie_sup\n",
    "        # si cette coupure minimise l'entropie, on mémorise ce seuil et son entropie:\n",
    "        if (min_entropie > val_entropie):\n",
    "            min_entropie = val_entropie\n",
    "            min_seuil = val_seuil\n",
    "    return (min_seuil, min_entropie)"
   ]
  },
  {
   "cell_type": "code",
   "execution_count": 103,
   "metadata": {},
   "outputs": [],
   "source": [
    "def divise(LSet,att,seuil):\n",
    "    taille=LSet.size()\n",
    "    i=0\n",
    "    linf=LabeledSet(2)\n",
    "    lsup=LabeledSet(2)\n",
    "    while (i<taille):\n",
    "        a=LSet.getX(i)\n",
    "        if (a[att]<=seuil):\n",
    "            linf.addExample(LSet.getX(i),LSet.getY(i))\n",
    "        else:\n",
    "            lsup.addExample(LSet.getX(i),LSet.getY(i))\n",
    "        i=i+1\n",
    "    #print(linf.x)\n",
    "    #print(linf.y)\n",
    "    #print(\"=============================================\")\n",
    "    #print(lsup.x)\n",
    "    #print(lsup.y)\n",
    "    return (linf,lsup)"
   ]
  },
  {
   "cell_type": "code",
   "execution_count": 104,
   "metadata": {},
   "outputs": [],
   "source": [
    "def construit_AD(LSet, epsilon):\n",
    "    un_arbre = ArbreBinaire();\n",
    "    if(entropie(LSet) <= epsilon):\n",
    "        feuille = ArbreBinaire();\n",
    "        feuille.ajoute_feuille(classe_majoritaire(LSet));\n",
    "        feuille.est_feuille();\n",
    "        return feuille;\n",
    "    else:\n",
    "        seuiles =[]\n",
    "        entropies = []\n",
    "        for c in range(LSet.getInputDimension()):\n",
    "            seuile, ent = discretise(LSet,c);\n",
    "            seuiles.append(seuile);\n",
    "            entropies.append(ent);\n",
    "            \n",
    "        index = entropies.index(min(entropies));    \n",
    "        Linf, Lsup = divise(LSet,index,seuiles[index])\n",
    "        un_arbre.ajoute_fils(construit_AD(Linf,epsilon),construit_AD(Lsup,epsilon),index,seuiles[index])\n",
    "\n",
    "\n",
    "    return un_arbre;"
   ]
  },
  {
   "cell_type": "code",
   "execution_count": 105,
   "metadata": {},
   "outputs": [],
   "source": [
    "import graphviz as gv\n",
    "\n",
    "class ArbreBinaire:\n",
    "    def __init__(self):\n",
    "        self.attribut = None   # numéro de l'attribut\n",
    "        self.seuil = None\n",
    "        self.inferieur = None # ArbreBinaire Gauche (valeurs <= au seuil)\n",
    "        self.superieur = None # ArbreBinaire Droit (valeurs > au seuil)\n",
    "        self.classe = None # Classe si c'est une feuille: -1 ou +1\n",
    "        \n",
    "    def est_feuille(self):\n",
    "        \"\"\" rend True si l'arbre est une feuille \"\"\"\n",
    "        return self.seuil == None\n",
    "    \n",
    "    def ajoute_fils(self,ABinf,ABsup,att,seuil):\n",
    "        \"\"\" ABinf, ABsup: 2 arbres binaires\n",
    "            att: numéro d'attribut\n",
    "            seuil: valeur de seuil\n",
    "        \"\"\"\n",
    "        self.attribut = att\n",
    "        self.seuil = seuil\n",
    "        self.inferieur = ABinf\n",
    "        self.superieur = ABsup\n",
    "    \n",
    "    def ajoute_feuille(self,classe):\n",
    "        \"\"\" classe: -1 ou + 1\n",
    "        \"\"\"\n",
    "        self.classe = classe\n",
    "        \n",
    "    def classifie(self,exemple):\n",
    "        \"\"\" exemple : numpy.array\n",
    "            rend la classe de l'exemple: +1 ou -1\n",
    "        \"\"\"\n",
    "        if self.est_feuille():\n",
    "            return self.classe\n",
    "        if exemple[self.attribut] <= self.seuil:\n",
    "            return self.inferieur.classifie(exemple)\n",
    "        return self.superieur.classifie(exemple)\n",
    "    \n",
    "    def to_graph(self, g, prefixe='A'):\n",
    "        \"\"\" construit une représentation de l'arbre pour pouvoir\n",
    "            l'afficher\n",
    "        \"\"\"\n",
    "        if self.est_feuille():\n",
    "            g.node(prefixe,str(self.classe),shape='box')\n",
    "        else:\n",
    "            g.node(prefixe, \"attr: \"+str(self.attribut))\n",
    "            self.inferieur.to_graph(g,prefixe+\"g\")\n",
    "            self.superieur.to_graph(g,prefixe+\"d\")\n",
    "            g.edge(prefixe,prefixe+\"g\", '<='+ str(self.seuil))\n",
    "            g.edge(prefixe,prefixe+\"d\", '>'+ str(self.seuil))\n",
    "        \n",
    "        return g"
   ]
  },
  {
   "cell_type": "code",
   "execution_count": 106,
   "metadata": {},
   "outputs": [],
   "source": [
    "class ArbreDecision(Classifier):\n",
    "    # Constructeur\n",
    "    def __init__(self,epsilon):\n",
    "        # valeur seuil d'entropie pour arrêter la construction\n",
    "        self.epsilon= epsilon\n",
    "        self.racine = None\n",
    "    \n",
    "    # Permet de calculer la prediction sur x => renvoie un score\n",
    "    def predict(self,x):\n",
    "        # classification de l'exemple x avec l'arbre de décision\n",
    "        # on rend 0 (classe -1) ou 1 (classe 1)\n",
    "        classe = self.racine.classifie(x)\n",
    "        if (classe == 1):\n",
    "            return(1)\n",
    "        else:\n",
    "            return(-1)\n",
    "    \n",
    "    # Permet d'entrainer le modele sur un ensemble de données\n",
    "    def train(self,set):\n",
    "        # construction de l'arbre de décision \n",
    "        self.set=set\n",
    "        self.racine = construit_AD(set,self.epsilon)\n",
    "\n",
    "    # Permet d'afficher l'arbre\n",
    "    def plot(self):\n",
    "        gtree = gv.Digraph(format='png')\n",
    "        return self.racine.to_graph(gtree)\n",
    "    \n",
    "    #Permet de calculer la qualité du système \n",
    "    def accuracy(self, dataset):\n",
    "        nb_ok = 0\n",
    "        for i in range(dataset.size()):\n",
    "            output = self.predict(dataset.getX(i))\n",
    "            if (output * dataset.getY(i) > 0):\n",
    "                nb_ok = nb_ok + 1\n",
    "        acc = nb_ok / (dataset.size() * 1.0)\n",
    "        return acc"
   ]
  },
  {
   "cell_type": "markdown",
   "metadata": {},
   "source": [
    "Ainsi, vous devez donc pouvoir utiliser à partir d'ici la classe <code>ArbreDecision</code>.\n",
    "\n",
    "Par exemple, sur la base <code>set_exemples</code>:"
   ]
  },
  {
   "cell_type": "code",
   "execution_count": 107,
   "metadata": {},
   "outputs": [
    {
     "name": "stdout",
     "output_type": "stream",
     "text": [
      "accuracy: 1.0\n"
     ]
    },
    {
     "data": {
      "image/svg+xml": [
       "<?xml version=\"1.0\" encoding=\"UTF-8\" standalone=\"no\"?>\n",
       "<!DOCTYPE svg PUBLIC \"-//W3C//DTD SVG 1.1//EN\"\n",
       " \"http://www.w3.org/Graphics/SVG/1.1/DTD/svg11.dtd\">\n",
       "<!-- Generated by graphviz version 2.40.1 (20161225.0304)\n",
       " -->\n",
       "<!-- Title: %3 Pages: 1 -->\n",
       "<svg width=\"664pt\" height=\"399pt\"\n",
       " viewBox=\"0.00 0.00 664.39 399.20\" xmlns=\"http://www.w3.org/2000/svg\" xmlns:xlink=\"http://www.w3.org/1999/xlink\">\n",
       "<g id=\"graph0\" class=\"graph\" transform=\"scale(1 1) rotate(0) translate(4 395.2)\">\n",
       "<title>%3</title>\n",
       "<polygon fill=\"#ffffff\" stroke=\"transparent\" points=\"-4,4 -4,-395.2 660.3946,-395.2 660.3946,4 -4,4\"/>\n",
       "<!-- A -->\n",
       "<g id=\"node1\" class=\"node\">\n",
       "<title>A</title>\n",
       "<ellipse fill=\"none\" stroke=\"#000000\" cx=\"199\" cy=\"-373.2\" rx=\"33.6643\" ry=\"18\"/>\n",
       "<text text-anchor=\"middle\" x=\"199\" y=\"-369\" font-family=\"Times,serif\" font-size=\"14.00\" fill=\"#000000\">attr: 1</text>\n",
       "</g>\n",
       "<!-- Ag -->\n",
       "<g id=\"node2\" class=\"node\">\n",
       "<title>Ag</title>\n",
       "<polygon fill=\"none\" stroke=\"#000000\" points=\"154,-302.4 100,-302.4 100,-266.4 154,-266.4 154,-302.4\"/>\n",
       "<text text-anchor=\"middle\" x=\"127\" y=\"-280.2\" font-family=\"Times,serif\" font-size=\"14.00\" fill=\"#000000\">&#45;1</text>\n",
       "</g>\n",
       "<!-- A&#45;&gt;Ag -->\n",
       "<g id=\"edge11\" class=\"edge\">\n",
       "<title>A&#45;&gt;Ag</title>\n",
       "<path fill=\"none\" stroke=\"#000000\" d=\"M168.0312,-365.5343C153.2725,-360.172 136.9361,-351.3553 128.0502,-337.2 123.5945,-330.102 122.1868,-321.3414 122.2185,-313.0104\"/>\n",
       "<polygon fill=\"#000000\" stroke=\"#000000\" points=\"125.7232,-313.0587 122.9075,-302.8449 118.7392,-312.5853 125.7232,-313.0587\"/>\n",
       "<text text-anchor=\"middle\" x=\"189.9749\" y=\"-324.6\" font-family=\"Times,serif\" font-size=\"14.00\" fill=\"#000000\">&lt;=&#45;0.8031558168535</text>\n",
       "</g>\n",
       "<!-- Ad -->\n",
       "<g id=\"node3\" class=\"node\">\n",
       "<title>Ad</title>\n",
       "<ellipse fill=\"none\" stroke=\"#000000\" cx=\"272\" cy=\"-284.4\" rx=\"33.6643\" ry=\"18\"/>\n",
       "<text text-anchor=\"middle\" x=\"272\" y=\"-280.2\" font-family=\"Times,serif\" font-size=\"14.00\" fill=\"#000000\">attr: 0</text>\n",
       "</g>\n",
       "<!-- A&#45;&gt;Ad -->\n",
       "<g id=\"edge12\" class=\"edge\">\n",
       "<title>A&#45;&gt;Ad</title>\n",
       "<path fill=\"none\" stroke=\"#000000\" d=\"M222.8296,-360.3412C232.2715,-354.3142 242.6137,-346.4193 250,-337.2 255.955,-329.7673 260.5358,-320.4932 263.9363,-311.8005\"/>\n",
       "<polygon fill=\"#000000\" stroke=\"#000000\" points=\"267.2396,-312.9572 267.2843,-302.3625 260.6424,-310.6169 267.2396,-312.9572\"/>\n",
       "<text text-anchor=\"middle\" x=\"317.0276\" y=\"-324.6\" font-family=\"Times,serif\" font-size=\"14.00\" fill=\"#000000\">&gt;&#45;0.8031558168535</text>\n",
       "</g>\n",
       "<!-- Adg -->\n",
       "<g id=\"node4\" class=\"node\">\n",
       "<title>Adg</title>\n",
       "<ellipse fill=\"none\" stroke=\"#000000\" cx=\"193\" cy=\"-195.6\" rx=\"33.6643\" ry=\"18\"/>\n",
       "<text text-anchor=\"middle\" x=\"193\" y=\"-191.4\" font-family=\"Times,serif\" font-size=\"14.00\" fill=\"#000000\">attr: 0</text>\n",
       "</g>\n",
       "<!-- Ad&#45;&gt;Adg -->\n",
       "<g id=\"edge9\" class=\"edge\">\n",
       "<title>Ad&#45;&gt;Adg</title>\n",
       "<path fill=\"none\" stroke=\"#000000\" d=\"M245.2882,-273.0647C233.9535,-267.1273 221.3851,-258.8845 212.7108,-248.4 206.7932,-241.2475 202.5545,-232.1445 199.5631,-223.5192\"/>\n",
       "<polygon fill=\"#000000\" stroke=\"#000000\" points=\"202.8538,-222.3098 196.5986,-213.7586 196.1559,-224.3442 202.8538,-222.3098\"/>\n",
       "<text text-anchor=\"middle\" x=\"268.1446\" y=\"-235.8\" font-family=\"Times,serif\" font-size=\"14.00\" fill=\"#000000\">&lt;=0.533405772885</text>\n",
       "</g>\n",
       "<!-- Add -->\n",
       "<g id=\"node9\" class=\"node\">\n",
       "<title>Add</title>\n",
       "<ellipse fill=\"none\" stroke=\"#000000\" cx=\"351\" cy=\"-195.6\" rx=\"33.6643\" ry=\"18\"/>\n",
       "<text text-anchor=\"middle\" x=\"351\" y=\"-191.4\" font-family=\"Times,serif\" font-size=\"14.00\" fill=\"#000000\">attr: 0</text>\n",
       "</g>\n",
       "<!-- Ad&#45;&gt;Add -->\n",
       "<g id=\"edge10\" class=\"edge\">\n",
       "<title>Ad&#45;&gt;Add</title>\n",
       "<path fill=\"none\" stroke=\"#000000\" d=\"M295.4145,-271.1924C304.7895,-265.1093 315.194,-257.2667 323,-248.4 329.6462,-240.8507 335.2739,-231.4479 339.7014,-222.6778\"/>\n",
       "<polygon fill=\"#000000\" stroke=\"#000000\" points=\"342.9174,-224.064 344.0261,-213.5273 336.5887,-221.0728 342.9174,-224.064\"/>\n",
       "<text text-anchor=\"middle\" x=\"386.1973\" y=\"-235.8\" font-family=\"Times,serif\" font-size=\"14.00\" fill=\"#000000\">&gt;0.533405772885</text>\n",
       "</g>\n",
       "<!-- Adgg -->\n",
       "<g id=\"node5\" class=\"node\">\n",
       "<title>Adgg</title>\n",
       "<polygon fill=\"none\" stroke=\"#000000\" points=\"54,-124.8 0,-124.8 0,-88.8 54,-88.8 54,-124.8\"/>\n",
       "<text text-anchor=\"middle\" x=\"27\" y=\"-102.6\" font-family=\"Times,serif\" font-size=\"14.00\" fill=\"#000000\">1</text>\n",
       "</g>\n",
       "<!-- Adg&#45;&gt;Adgg -->\n",
       "<g id=\"edge3\" class=\"edge\">\n",
       "<title>Adg&#45;&gt;Adgg</title>\n",
       "<path fill=\"none\" stroke=\"#000000\" d=\"M160.0113,-191.1957C122.0061,-185.5054 62.6517,-174.5286 46.0502,-159.6 38.89,-153.1613 34.4191,-143.8267 31.6282,-134.791\"/>\n",
       "<polygon fill=\"#000000\" stroke=\"#000000\" points=\"34.9707,-133.731 29.1372,-124.8867 28.1821,-135.4384 34.9707,-133.731\"/>\n",
       "<text text-anchor=\"middle\" x=\"118.4749\" y=\"-147\" font-family=\"Times,serif\" font-size=\"14.00\" fill=\"#000000\">&lt;=&#45;0.8994394317084999</text>\n",
       "</g>\n",
       "<!-- Adgd -->\n",
       "<g id=\"node6\" class=\"node\">\n",
       "<title>Adgd</title>\n",
       "<ellipse fill=\"none\" stroke=\"#000000\" cx=\"193\" cy=\"-106.8\" rx=\"33.6643\" ry=\"18\"/>\n",
       "<text text-anchor=\"middle\" x=\"193\" y=\"-102.6\" font-family=\"Times,serif\" font-size=\"14.00\" fill=\"#000000\">attr: 1</text>\n",
       "</g>\n",
       "<!-- Adg&#45;&gt;Adgd -->\n",
       "<g id=\"edge4\" class=\"edge\">\n",
       "<title>Adg&#45;&gt;Adgd</title>\n",
       "<path fill=\"none\" stroke=\"#000000\" d=\"M193,-177.2006C193,-165.0949 193,-149.0076 193,-135.2674\"/>\n",
       "<polygon fill=\"#000000\" stroke=\"#000000\" points=\"196.5001,-134.872 193,-124.872 189.5001,-134.8721 196.5001,-134.872\"/>\n",
       "<text text-anchor=\"middle\" x=\"260.5276\" y=\"-147\" font-family=\"Times,serif\" font-size=\"14.00\" fill=\"#000000\">&gt;&#45;0.8994394317084999</text>\n",
       "</g>\n",
       "<!-- Adgdg -->\n",
       "<g id=\"node7\" class=\"node\">\n",
       "<title>Adgdg</title>\n",
       "<polygon fill=\"none\" stroke=\"#000000\" points=\"105,-36 51,-36 51,0 105,0 105,-36\"/>\n",
       "<text text-anchor=\"middle\" x=\"78\" y=\"-13.8\" font-family=\"Times,serif\" font-size=\"14.00\" fill=\"#000000\">1</text>\n",
       "</g>\n",
       "<!-- Adgd&#45;&gt;Adgdg -->\n",
       "<g id=\"edge1\" class=\"edge\">\n",
       "<title>Adgd&#45;&gt;Adgdg</title>\n",
       "<path fill=\"none\" stroke=\"#000000\" d=\"M160.5454,-101.2337C129.5758,-95.1825 86.1778,-84.5141 76.0502,-70.8 70.9365,-63.8753 69.8339,-54.9323 70.4889,-46.3812\"/>\n",
       "<polygon fill=\"#000000\" stroke=\"#000000\" points=\"73.9777,-46.7173 72.008,-36.3072 67.0559,-45.6735 73.9777,-46.7173\"/>\n",
       "<text text-anchor=\"middle\" x=\"141.4749\" y=\"-58.2\" font-family=\"Times,serif\" font-size=\"14.00\" fill=\"#000000\">&lt;=&#45;0.29655567876975</text>\n",
       "</g>\n",
       "<!-- Adgdd -->\n",
       "<g id=\"node8\" class=\"node\">\n",
       "<title>Adgdd</title>\n",
       "<polygon fill=\"none\" stroke=\"#000000\" points=\"257,-36 203,-36 203,0 257,0 257,-36\"/>\n",
       "<text text-anchor=\"middle\" x=\"230\" y=\"-13.8\" font-family=\"Times,serif\" font-size=\"14.00\" fill=\"#000000\">&#45;1</text>\n",
       "</g>\n",
       "<!-- Adgd&#45;&gt;Adgdd -->\n",
       "<g id=\"edge2\" class=\"edge\">\n",
       "<title>Adgd&#45;&gt;Adgdd</title>\n",
       "<path fill=\"none\" stroke=\"#000000\" d=\"M200.4875,-88.83C205.6689,-76.3946 212.6623,-59.6104 218.5409,-45.5018\"/>\n",
       "<polygon fill=\"#000000\" stroke=\"#000000\" points=\"221.7812,-46.825 222.3966,-36.2481 215.3197,-44.1327 221.7812,-46.825\"/>\n",
       "<text text-anchor=\"middle\" x=\"275.5276\" y=\"-58.2\" font-family=\"Times,serif\" font-size=\"14.00\" fill=\"#000000\">&gt;&#45;0.29655567876975</text>\n",
       "</g>\n",
       "<!-- Addg -->\n",
       "<g id=\"node10\" class=\"node\">\n",
       "<title>Addg</title>\n",
       "<polygon fill=\"none\" stroke=\"#000000\" points=\"378,-124.8 324,-124.8 324,-88.8 378,-88.8 378,-124.8\"/>\n",
       "<text text-anchor=\"middle\" x=\"351\" y=\"-102.6\" font-family=\"Times,serif\" font-size=\"14.00\" fill=\"#000000\">1</text>\n",
       "</g>\n",
       "<!-- Add&#45;&gt;Addg -->\n",
       "<g id=\"edge7\" class=\"edge\">\n",
       "<title>Add&#45;&gt;Addg</title>\n",
       "<path fill=\"none\" stroke=\"#000000\" d=\"M351,-177.2006C351,-165.0949 351,-149.0076 351,-135.2674\"/>\n",
       "<polygon fill=\"#000000\" stroke=\"#000000\" points=\"354.5001,-134.872 351,-124.872 347.5001,-134.8721 354.5001,-134.872\"/>\n",
       "<text text-anchor=\"middle\" x=\"406.1446\" y=\"-147\" font-family=\"Times,serif\" font-size=\"14.00\" fill=\"#000000\">&lt;=1.412540255345</text>\n",
       "</g>\n",
       "<!-- Addd -->\n",
       "<g id=\"node11\" class=\"node\">\n",
       "<title>Addd</title>\n",
       "<ellipse fill=\"none\" stroke=\"#000000\" cx=\"484\" cy=\"-106.8\" rx=\"33.6643\" ry=\"18\"/>\n",
       "<text text-anchor=\"middle\" x=\"484\" y=\"-102.6\" font-family=\"Times,serif\" font-size=\"14.00\" fill=\"#000000\">attr: 0</text>\n",
       "</g>\n",
       "<!-- Add&#45;&gt;Addd -->\n",
       "<g id=\"edge8\" class=\"edge\">\n",
       "<title>Add&#45;&gt;Addd</title>\n",
       "<path fill=\"none\" stroke=\"#000000\" d=\"M384.3389,-192.2278C408.5616,-188.1689 440.7005,-179.2371 462,-159.6 469.1613,-152.9976 474.0646,-143.7034 477.3889,-134.7494\"/>\n",
       "<polygon fill=\"#000000\" stroke=\"#000000\" points=\"480.8112,-135.5367 480.5074,-124.9462 474.1406,-133.4146 480.8112,-135.5367\"/>\n",
       "<text text-anchor=\"middle\" x=\"525.1973\" y=\"-147\" font-family=\"Times,serif\" font-size=\"14.00\" fill=\"#000000\">&gt;1.412540255345</text>\n",
       "</g>\n",
       "<!-- Adddg -->\n",
       "<g id=\"node12\" class=\"node\">\n",
       "<title>Adddg</title>\n",
       "<polygon fill=\"none\" stroke=\"#000000\" points=\"474,-36 420,-36 420,0 474,0 474,-36\"/>\n",
       "<text text-anchor=\"middle\" x=\"447\" y=\"-13.8\" font-family=\"Times,serif\" font-size=\"14.00\" fill=\"#000000\">&#45;1</text>\n",
       "</g>\n",
       "<!-- Addd&#45;&gt;Adddg -->\n",
       "<g id=\"edge5\" class=\"edge\">\n",
       "<title>Addd&#45;&gt;Adddg</title>\n",
       "<path fill=\"none\" stroke=\"#000000\" d=\"M463.8596,-92.0882C457.4742,-86.249 451.1783,-78.9689 447.7108,-70.8 444.5228,-63.2895 443.4655,-54.6195 443.4428,-46.504\"/>\n",
       "<polygon fill=\"#000000\" stroke=\"#000000\" points=\"446.9489,-46.4504 443.9166,-36.2988 439.9565,-46.1257 446.9489,-46.4504\"/>\n",
       "<text text-anchor=\"middle\" x=\"499.6446\" y=\"-58.2\" font-family=\"Times,serif\" font-size=\"14.00\" fill=\"#000000\">&lt;=1.55201152353</text>\n",
       "</g>\n",
       "<!-- Adddd -->\n",
       "<g id=\"node13\" class=\"node\">\n",
       "<title>Adddd</title>\n",
       "<polygon fill=\"none\" stroke=\"#000000\" points=\"600,-36 546,-36 546,0 600,0 600,-36\"/>\n",
       "<text text-anchor=\"middle\" x=\"573\" y=\"-13.8\" font-family=\"Times,serif\" font-size=\"14.00\" fill=\"#000000\">1</text>\n",
       "</g>\n",
       "<!-- Addd&#45;&gt;Adddd -->\n",
       "<g id=\"edge6\" class=\"edge\">\n",
       "<title>Addd&#45;&gt;Adddd</title>\n",
       "<path fill=\"none\" stroke=\"#000000\" d=\"M512.2961,-96.76C525.484,-90.8963 540.5365,-82.3456 551,-70.8 557.3956,-63.7429 562.0869,-54.5629 565.4533,-45.8412\"/>\n",
       "<polygon fill=\"#000000\" stroke=\"#000000\" points=\"568.783,-46.9209 568.7112,-36.3263 562.1605,-44.6533 568.783,-46.9209\"/>\n",
       "<text text-anchor=\"middle\" x=\"608.6973\" y=\"-58.2\" font-family=\"Times,serif\" font-size=\"14.00\" fill=\"#000000\">&gt;1.55201152353</text>\n",
       "</g>\n",
       "</g>\n",
       "</svg>\n"
      ],
      "text/plain": [
       "<graphviz.dot.Digraph at 0x11a5df438>"
      ]
     },
     "execution_count": 107,
     "metadata": {},
     "output_type": "execute_result"
    }
   ],
   "source": [
    "# un exemple d'utilisation:\n",
    "ad=ArbreDecision(0.0)               # initialisation d'un arbre binaire qui utilise epsilon= 0.0\n",
    "ad.train(set_exemples)              # construction de l'arbre à partir de la base jouet\n",
    "\n",
    "print(\"accuracy:\", ad.accuracy(set_exemples))    \n",
    "\n",
    "#test de l'affichage \n",
    "ad.plot()\n"
   ]
  },
  {
   "cell_type": "markdown",
   "metadata": {},
   "source": [
    "### Tirage aléatoire d'exemples\n",
    "\n",
    "Le bootstrap s'effectue en tirant aléatoirement un échantillon de $m$ exemples à partir de la base d'apprentissage $X$ à partir duquel, on construit un classifieur.\n",
    "Ce processus est répété $B$ fois.\n",
    "\n",
    "Afin de ne pas alourdir la place mémoire nécessaire pour réaliser un tel tirage, on ne travaille que sur les indices des exemples dans la base. Un **échantillon de $X$ est donc un vecteur d'entiers** qui représentent les indices des exemples choisis.\n"
   ]
  },
  {
   "cell_type": "markdown",
   "metadata": {},
   "source": [
    "#### Tirages aléatoires en Python\n",
    "\n",
    "Consulter la librairie Python random qui propose différentes fonctions utiles pour implémenter le tirage aléatoire du bootstrap.\n",
    "\n",
    "Par exemple, la fonction <code>sample()</code> de la librairie <code>random</code> rend une sélection aléatoire dans une population donnée en réalisant un tirage sans remise.\n",
    "\n",
    "Pour tester, exécuter plusieurs fois les instructions de la boîte suivante :"
   ]
  },
  {
   "cell_type": "code",
   "execution_count": 108,
   "metadata": {},
   "outputs": [
    {
     "name": "stdout",
     "output_type": "stream",
     "text": [
      "La liste L de départ:  [0, 1, 2, 3, 4, 5, 6, 7, 8, 9, 10]\n",
      "Echantillon:  [3, 9, 6, 10, 4, 1]\n"
     ]
    }
   ],
   "source": [
    "import random\n",
    "L= [i for i in range(0,11)]             # construction de la liste des entiers de 0 à 10\n",
    "print(\"La liste L de départ: \",L)\n",
    "EchL = random.sample(L,6)               # tirage de 6 éléments de L\n",
    "print(\"Echantillon: \",EchL)"
   ]
  },
  {
   "cell_type": "markdown",
   "metadata": {},
   "source": [
    "La fonction <code>choice()</code> permet de choisir aléatoirement un élément:"
   ]
  },
  {
   "cell_type": "code",
   "execution_count": 109,
   "metadata": {},
   "outputs": [
    {
     "name": "stdout",
     "output_type": "stream",
     "text": [
      "La liste L de départ:  [0, 1, 2, 3, 4, 5, 6, 7, 8, 9, 10]\n",
      "Element choisi:  4\n"
     ]
    }
   ],
   "source": [
    "L= [i for i in range(0,11)]             # construction de la liste des entiers de 0 à 10\n",
    "print(\"La liste L de départ: \",L)\n",
    "elt = random.choice(L)                  # choix d'un élémént\n",
    "print(\"Element choisi: \",elt)"
   ]
  },
  {
   "cell_type": "markdown",
   "metadata": {},
   "source": [
    "<font size=\"+1\">**[Q]**</font> Ecrire une fonction <code>tirage()</code> qui étant donné un vecteur d'entiers $VX$ qui représente l'ensemble des indices des exemples d'une base d'apprentissage $X$, un entier $m$, et un booléen $r$, rend un vecteur de $m$ indices choisis aléatoirement dans $VX$. Si le booléen $r$ est vrai, le tirage s'effectue *avec remise*, sinon il s'effectue *sans remise*."
   ]
  },
  {
   "cell_type": "code",
   "execution_count": 110,
   "metadata": {},
   "outputs": [],
   "source": [
    "def tirage(vecteurX, m, r):\n",
    "    res = []\n",
    "    IndexVX = [i for i in range(len(vecteurX))]\n",
    "    if(r): #tirage avec remise\n",
    "        i = 0\n",
    "        while(i<m):\n",
    "            res.append(random.choice(IndexVX))\n",
    "            i = i+1\n",
    "        return res\n",
    "    else:\n",
    "        return random.sample(IndexVX,int(m))"
   ]
  },
  {
   "cell_type": "markdown",
   "metadata": {},
   "source": [
    "Exemples :"
   ]
  },
  {
   "cell_type": "code",
   "execution_count": 111,
   "metadata": {},
   "outputs": [
    {
     "data": {
      "text/plain": [
       "[3, 7, 3, 5, 5, 5, 9, 9]"
      ]
     },
     "execution_count": 111,
     "metadata": {},
     "output_type": "execute_result"
    }
   ],
   "source": [
    "L= [i for i in range(0,10)]    # construction de la liste des entiers de 0 à 100\n",
    "tirage(L,8,True)               # tirage avec remise"
   ]
  },
  {
   "cell_type": "code",
   "execution_count": 112,
   "metadata": {},
   "outputs": [
    {
     "data": {
      "text/plain": [
       "[1, 0, 2, 3, 7, 8, 9, 5]"
      ]
     },
     "execution_count": 112,
     "metadata": {},
     "output_type": "execute_result"
    }
   ],
   "source": [
    "tirage(L,8,False)               # tirage sans remise"
   ]
  },
  {
   "cell_type": "markdown",
   "metadata": {
    "collapsed": true
   },
   "source": [
    "<font size=\"+1\">**[Q]**</font> En utilisant la fonction précédente, écrire la fonction <code>echantillonLS()</code> qui, étant donné un <code>LabeledSet</code> $X$, un nombre entier $m$, et un booléen rend un échantillon de $X$ de taille $m$ sous la forme d'un <code>LabeledSet</code>. L'échantillon est obtenu par un tirage avec remise si le booléen est True, sinon, il est obtenu sans remise."
   ]
  },
  {
   "cell_type": "code",
   "execution_count": 113,
   "metadata": {},
   "outputs": [],
   "source": [
    "def echantillonLS(X, m, r): # X est un LabeledSet\n",
    "    IndexVX = [i for i in range(0,X.size())]\n",
    "    IndexExemples = tirage(IndexVX,m,r)\n",
    "    LSet = LabeledSet(X.getInputDimension())\n",
    "    for indice in IndexExemples:\n",
    "        LSet.addExample(X.getX(indice),X.getY(indice))\n",
    "    return LSet"
   ]
  },
  {
   "cell_type": "code",
   "execution_count": 114,
   "metadata": {},
   "outputs": [
    {
     "name": "stdout",
     "output_type": "stream",
     "text": [
      "<__main__.LabeledSet object at 0x11a5f36a0>\n"
     ]
    },
    {
     "data": {
      "image/png": "[encoded data removed]",
      "text/plain": [
       "<matplotlib.figure.Figure at 0x11a5f3d30>"
      ]
     },
     "metadata": {},
     "output_type": "display_data"
    }
   ],
   "source": [
    "E = echantillonLS(set_exemples, 10 ,True)\n",
    "print(E)\n",
    "\n",
    "plot2DSet(E)"
   ]
  },
  {
   "cell_type": "markdown",
   "metadata": {},
   "source": [
    "<font size=\"+1\">**[Q]**</font> Ecrire la classe <code>ClassifierBaggingTree</code>, dérivée de la classe <code>Classifier</code>, qui permet d'implémenter un bagging d'arbres de décision. Les spécifications de cette classe sont :\n",
    "- la création de l'ensemble nécessite les paramètres suivants : \n",
    "    - le nombre d'arbres à construire, \n",
    "    - le pourcentage d'exemples de la base d'apprentissage utilisés pour constituer un échantillon, \n",
    "    - la valeur de seuil d'entropie pour arrêter la construction de chaque arbre, \n",
    "    - et un booléen qui précise si un échantillon est tiré avec ou sans remise\n",
    "- l'apprentissage (méthode <code>train()</code>) construit autant d'arbres que précisé à la création. Chaque arbre est construit à partir d'un échantillon de la base d'apprentissage (<code>LabeledSet</code>) donnée en argument. Les arbres construits sont stockés dans un ensemble Python.\n",
    "- la prédiction (méthode <code>predict()</code>) classe un exemple par vote de tous les arbres de la forêt. Si la somme des votes est positive ou nulle, la classe rendue est +1, sinon, la classe rendue est -1."
   ]
  },
  {
   "cell_type": "code",
   "execution_count": 115,
   "metadata": {},
   "outputs": [],
   "source": [
    "class ClassifierBaggingTree(Classifier):\n",
    "    # Constructeur\n",
    "    def __init__(self,nbArbres,pourcentageExms,epsilon, r):\n",
    "        self.nbArbres = nbArbres\n",
    "        self.pourcentageExms = pourcentageExms\n",
    "        self.epsilon = epsilon\n",
    "        self.r = r\n",
    "    \n",
    "    # Permet de calculer la prediction sur x => renvoie un score\n",
    "    def predict(self,x):\n",
    "        somme =  0.0\n",
    "        for arbre in self.list_Arbres:\n",
    "            classe = arbre.classifie(x)\n",
    "            if (classe == 1):\n",
    "                somme += 1.0\n",
    "            else: somme -=1.0\n",
    "        if(somme >= 0.0):\n",
    "            return +1\n",
    "        else: \n",
    "            return -1\n",
    "    \n",
    "    # Permet d'entrainer le modele sur un ensemble de données\n",
    "    def train(self,set):\n",
    "        self.set=set\n",
    "        self.list_Arbres = []\n",
    "        for i in range(self.nbArbres):\n",
    "            IndexEchant = echantillonLS(set,self.pourcentageExms*set.size(),self.r)\n",
    "            self.list_Arbres.append(construit_AD(IndexEchant,self.epsilon))\n",
    "\n",
    "    # Permet d'afficher l'arbre\n",
    "    def plot(self):\n",
    "        gtree = gv.Digraph(format='png')\n",
    "        return self.racine.to_graph(gtree)\n",
    "    \n",
    "    #Permet de calculer la qualité du système \n",
    "    def accuracy(self, dataset):\n",
    "        nb_ok = 0\n",
    "        for i in range(dataset.size()):\n",
    "            output = self.predict(dataset.getX(i))\n",
    "            if (output * dataset.getY(i) > 0):\n",
    "                nb_ok = nb_ok + 1\n",
    "        acc = nb_ok / (dataset.size() * 1.0)\n",
    "        return acc"
   ]
  },
  {
   "cell_type": "code",
   "execution_count": 116,
   "metadata": {},
   "outputs": [
    {
     "name": "stdout",
     "output_type": "stream",
     "text": [
      "exemple: 0  vraie classe =  [1] - classe trouvee =  1\n",
      "exemple: 1  vraie classe =  [1] - classe trouvee =  -1\n",
      "exemple: 2  vraie classe =  [1] - classe trouvee =  1\n",
      "exemple: 3  vraie classe =  [1] - classe trouvee =  1\n",
      "exemple: 4  vraie classe =  [1] - classe trouvee =  1\n",
      "exemple: 5  vraie classe =  [1] - classe trouvee =  1\n",
      "exemple: 6  vraie classe =  [1] - classe trouvee =  -1\n",
      "exemple: 7  vraie classe =  [1] - classe trouvee =  1\n",
      "exemple: 8  vraie classe =  [1] - classe trouvee =  1\n",
      "exemple: 9  vraie classe =  [1] - classe trouvee =  1\n",
      "exemple: 10  vraie classe =  [-1] - classe trouvee =  -1\n",
      "exemple: 11  vraie classe =  [-1] - classe trouvee =  -1\n",
      "exemple: 12  vraie classe =  [-1] - classe trouvee =  -1\n",
      "exemple: 13  vraie classe =  [-1] - classe trouvee =  -1\n",
      "exemple: 14  vraie classe =  [-1] - classe trouvee =  -1\n",
      "exemple: 15  vraie classe =  [-1] - classe trouvee =  1\n",
      "exemple: 16  vraie classe =  [-1] - classe trouvee =  -1\n",
      "exemple: 17  vraie classe =  [-1] - classe trouvee =  -1\n",
      "exemple: 18  vraie classe =  [-1] - classe trouvee =  -1\n",
      "exemple: 19  vraie classe =  [-1] - classe trouvee =  -1\n",
      "\n",
      "accuracy totale: 0.85\n"
     ]
    },
    {
     "name": "stderr",
     "output_type": "stream",
     "text": [
      "/Applications/anaconda3/lib/python3.5/site-packages/matplotlib/contour.py:967: UserWarning: The following kwargs were not used by contour: 'linewidth'\n",
      "  s)\n"
     ]
    },
    {
     "data": {
      "image/png": "[encoded data removed]",
      "text/plain": [
       "<matplotlib.figure.Figure at 0x11a4af0b8>"
      ]
     },
     "metadata": {},
     "output_type": "display_data"
    }
   ],
   "source": [
    "foret = ClassifierBaggingTree(10,0.3,0.0,True)\n",
    "foret.train(set_exemples)\n",
    "for i in range(set_exemples.size()):\n",
    "    print(\"exemple:\",i,\" vraie classe = \", set_exemples.getY(i), \"- classe trouvee = \", foret.predict(set_exemples.getX(i)))\n",
    "    \n",
    "plot_frontiere(set_exemples,foret,20)\n",
    "plot2DSet(set_exemples) \n",
    "\n",
    "print(\"\\naccuracy totale:\",foret.accuracy(set_exemples))"
   ]
  },
  {
   "cell_type": "markdown",
   "metadata": {},
   "source": [
    "### Expérimentations\n",
    "\n",
    "<font size=\"+1\">**[Q]**</font> Expérimenter l'algorithme précédent de la façon suivante :\n",
    "- générer une base d'apprentissage $X$ contenant au moins 1000 exemples ;\n",
    "- réaliser un échantillon de cette base contenant 50 exemples de chaque classe. Soit $E$ cet échantillon, et soit $F$ l'ensemble des exemples de $X$ qui ne sont pas dans $E$ ;\n",
    "- réaliser un apprentissage par bagging sur $F$ et évaluer le taux de prédiction du modèle obtenu sur $E$ ;\n",
    "- construire la courbe donnant le taux de prédiction obtenu en augmentant la taille de la forêt d'arbres de 1 à 100 arbres. "
   ]
  },
  {
   "cell_type": "code",
   "execution_count": 117,
   "metadata": {},
   "outputs": [
    {
     "data": {
      "image/png": "[encoded data removed]",
      "text/plain": [
       "<matplotlib.figure.Figure at 0x11a4a60f0>"
      ]
     },
     "metadata": {},
     "output_type": "display_data"
    }
   ],
   "source": [
    "def generer_exemple(mean=0):\n",
    "    \"\"\"Genere un exemple\"\"\"\n",
    "    mean = [mean, mean]\n",
    "    cov = [[1, 0], [0, 1]]\n",
    "    return np.random.multivariate_normal(mean, cov)\n",
    "\n",
    "def generer_exemples(nombre_exemples, mean=0):\n",
    "    \"\"\" Genere une liste de taille 'nombre_exemple' d'exemples \"\"\"\n",
    "    exemples = list()\n",
    "    for _ in range(nombre_exemples):\n",
    "        exemples.append(generer_exemple(mean))   \n",
    "    return exemples\n",
    "\n",
    "def ajouter_exemples_aleatoires(the_set, nombre_exemples, mean, labels):\n",
    "    \"\"\" Ajoute dans 'the_set' un total de 'nombre_exemples' exemples\n",
    "    associés aleatoirement à un label contenu dans 'labels'. \"\"\"\n",
    "    from random import choice\n",
    "    exemples = generer_exemples(nombre_exemples, mean)\n",
    "    for exemple in exemples:\n",
    "        the_set.addExample(exemple, choice(labels))\n",
    "        \n",
    "X = LabeledSet(2) #set_apprentissage = X\n",
    "ajouter_exemples_aleatoires(X, 1000, 1, [-1])\n",
    "ajouter_exemples_aleatoires(X, 1000, -1, [1])\n",
    "plot2DSet(X) \n",
    "\n",
    "E = LabeledSet(2) # E est un echantillon\n",
    "F = LabeledSet(2) # F est un ensemble des exemples de X qui ne sont pas dans E\n",
    "\n",
    "def E_F(X,E,F,n=50):\n",
    "    i = 0\n",
    "    while(i < (X.size()/2)):\n",
    "        if(i < n):\n",
    "            E.addExample(X.getX(i),X.getY(i))\n",
    "            i +=1\n",
    "        else:\n",
    "            F.addExample(X.getX(i),X.getY(i))\n",
    "            i +=1\n",
    "    i = 1000\n",
    "    while (i<X.size()):\n",
    "        if(i < n+1000):\n",
    "            E.addExample(X.getX(i),X.getY(i))\n",
    "            i +=1\n",
    "        else:\n",
    "            F.addExample(X.getX(i),X.getY(i))\n",
    "            i +=1\n",
    "E_F(X,E,F,50)"
   ]
  },
  {
   "cell_type": "code",
   "execution_count": 118,
   "metadata": {},
   "outputs": [
    {
     "data": {
      "image/png": "[encoded data removed]",
      "text/plain": [
       "<matplotlib.figure.Figure at 0x11a4c8eb8>"
      ]
     },
     "metadata": {},
     "output_type": "display_data"
    }
   ],
   "source": [
    "plot2DSet(E)"
   ]
  },
  {
   "cell_type": "code",
   "execution_count": 119,
   "metadata": {},
   "outputs": [
    {
     "data": {
      "image/png": "[encoded data removed]",
      "text/plain": [
       "<matplotlib.figure.Figure at 0x111732898>"
      ]
     },
     "metadata": {},
     "output_type": "display_data"
    }
   ],
   "source": [
    "plot2DSet(F)"
   ]
  },
  {
   "cell_type": "code",
   "execution_count": 120,
   "metadata": {},
   "outputs": [
    {
     "name": "stdout",
     "output_type": "stream",
     "text": [
      "Bagging : 20 trees: accuracy totale: train=0.9000 test=0.9037\n"
     ]
    }
   ],
   "source": [
    "# Réaliser un apprentissage par bagging sur E et évaluer le taux de prédiction du modèle sur F\n",
    "foret20 =  ClassifierBaggingTree(20,0.3,0.0,True)\n",
    "foret20.train(E)\n",
    "print(\"Bagging : 20 trees: accuracy totale: train=%.4f test=%.4f\"%(foret20.accuracy(E),foret20.accuracy(F)))"
   ]
  },
  {
   "cell_type": "code",
   "execution_count": 121,
   "metadata": {},
   "outputs": [
    {
     "name": "stdout",
     "output_type": "stream",
     "text": [
      "[1, 11, 21, 31, 41, 51, 61, 71, 81, 91]\n",
      "[0.9042105263157895, 0.9426315789473684, 0.9394736842105263, 0.9421052631578948, 0.9473684210526315, 0.9468421052631579, 0.9473684210526315, 0.9463157894736842, 0.9478947368421052, 0.9473684210526315]\n",
      "[0.83, 0.86, 0.9, 0.88, 0.87, 0.88, 0.85, 0.87, 0.89, 0.87]\n"
     ]
    }
   ],
   "source": [
    "lx=[]\n",
    "ly=[]\n",
    "lz=[]\n",
    "i=1\n",
    "\n",
    "while (i<101):\n",
    "    foret = ClassifierBaggingTree(i,0.3,0.0,True)\n",
    "    foret.train(F)\n",
    "    lx.append(i)\n",
    "    ly.append(foret.accuracy(E))\n",
    "    lz.append(foret.accuracy(F))\n",
    "    i=i+10\n",
    "    \n",
    "print(lx)\n",
    "print(lz)\n",
    "print(ly)"
   ]
  },
  {
   "cell_type": "code",
   "execution_count": 122,
   "metadata": {},
   "outputs": [
    {
     "data": {
      "image/png": "[encoded data removed]",
      "text/plain": [
       "<matplotlib.figure.Figure at 0x11a6dcf28>"
      ]
     },
     "metadata": {},
     "output_type": "display_data"
    }
   ],
   "source": [
    "import matplotlib.pyplot as plt\n",
    "\n",
    "plt.plot(lx,ly)  # on utilise la fonction sinus de Numpy\n",
    "plt.plot(lx,lz)  # on utilise la fonction sinus de Numpy\n",
    "plt.ylabel('Accuracy')\n",
    "plt.xlabel(\"nb foret\")\n",
    "plt.show()"
   ]
  },
  {
   "cell_type": "markdown",
   "metadata": {},
   "source": [
    "### Evaluation par la méthode \"Out Of Bags\"\n",
    "\n",
    "<font size=\"+1\">**[Q]**</font> Sur les mêmes données, réaliser une évaluation par la méthode \"Out Of Bags\" vue en cours. Construire la courbe donnant le taux de prédiction OOB en fonction de la taille de la forêt d'arbres.\n",
    "\n"
   ]
  },
  {
   "cell_type": "code",
   "execution_count": null,
   "metadata": {},
   "outputs": [],
   "source": []
  },
  {
   "cell_type": "code",
   "execution_count": null,
   "metadata": {},
   "outputs": [],
   "source": []
  },
  {
   "cell_type": "markdown",
   "metadata": {
    "collapsed": true
   },
   "source": [
    "## Etape 3: Bagging de perceptrons\n",
    "\n",
    "<font size=\"+1\">**[Q]**</font> Ecrire et tester la classe <code>ClassifierBaggingPerceptron</code> qui implémente l'algorithme du bagging pour le perceptron."
   ]
  },
  {
   "cell_type": "code",
   "execution_count": 123,
   "metadata": {},
   "outputs": [],
   "source": [
    "import random\n",
    "class Perceptron(Classifier):\n",
    "    \n",
    "    def __init__(self, input_dimension, learning_rate, nombre_iterations):\n",
    "        self.input_dimension = input_dimension\n",
    "        self.w = np.random.rand(input_dimension)\n",
    "        self.n = learning_rate\n",
    "        self.nb_Iteration = nombre_iterations\n",
    "    \n",
    "    def predict(self, x):\n",
    "        z = np.dot(x, self.w)\n",
    "        if z > 0:\n",
    "            return +1\n",
    "        else:\n",
    "            return -1\n",
    "    \n",
    "    def train(self, labeledSet):\n",
    "        self.labeledSet = labeledSet\n",
    "        i = 0 \n",
    "        while (i < self.nb_Iteration):\n",
    "            index_aleatoire = random.randint(0,labeledSet.size()-1)\n",
    "            if(labeledSet.getY(index_aleatoire)*self.predict(labeledSet.getX(index_aleatoire)) < 0 ): # Yifw(x) < 0 x est mal classé\n",
    "                    self.w = self.w+self.n*labeledSet.getY(index_aleatoire)*labeledSet.getX(index_aleatoire)\n",
    "            i +=1\n",
    "        "
   ]
  },
  {
   "cell_type": "code",
   "execution_count": 124,
   "metadata": {},
   "outputs": [],
   "source": [
    "class ClassifierBaggingPerceptron(Classifier):\n",
    "    # Constructeur\n",
    "    def __init__(self,input_dimension, nb_exemple, pourcentage, learning_rate, nombre_iterations,r):\n",
    "        # valeur seuil d'entropie pour arrêter la construction\n",
    "        self.input_dimension=input_dimension\n",
    "        self.learning_rate=learning_rate\n",
    "        self.nombre_iterations= nombre_iterations\n",
    "        self.nb_exemple=nb_exemple\n",
    "        self.pourcentage=pourcentage\n",
    "        self.r=r\n",
    "        self.liste=[]\n",
    "    \n",
    "    # Permet de calculer la prediction sur x => renvoie un score\n",
    "    def predict(self,x):\n",
    "        # classification de l'exemple x avec l'arbre de décision\n",
    "        # on rend 0 (classe -1) ou 1 (classe 1)\n",
    "        somme=0\n",
    "        for perce in self.liste:\n",
    "            classe = perce.predict(x)\n",
    "            if (classe == 1):\n",
    "                somme=somme+1\n",
    "            else:\n",
    "                somme=somme-1\n",
    "        if (somme>=0):\n",
    "            return 1\n",
    "        else : \n",
    "            return -1\n",
    "    \n",
    "    # Permet d'entrainer le modele sur un ensemble de données\n",
    "    def train(self,set):\n",
    "        # construction de l'arbre de décision\n",
    "        self.liste=[]\n",
    "        self.set=set\n",
    "        for i in range (self.nb_exemple):\n",
    "            m=self.pourcentage*set.size()\n",
    "            echant=echantillonLS(set,m,self.r)\n",
    "            self.liste.append(Perceptron(self.input_dimension,self.learning_rate,self.nombre_iterations))"
   ]
  },
  {
   "cell_type": "code",
   "execution_count": 125,
   "metadata": {},
   "outputs": [
    {
     "name": "stdout",
     "output_type": "stream",
     "text": [
      "accuracy: 0.915\n"
     ]
    }
   ],
   "source": [
    "set_apprentissage= LabeledSet(2) \n",
    "ajouter_exemples_aleatoires(set_apprentissage, 100, 1, [-1])\n",
    "ajouter_exemples_aleatoires(set_apprentissage, 100, -1, [1])\n",
    "\n",
    "set_test= LabeledSet(2) \n",
    "ajouter_exemples_aleatoires(set_test, 100, 1, [-1])\n",
    "ajouter_exemples_aleatoires(set_test, 100, -1, [1])\n",
    "\n",
    "# un exemple d'utilisation:\n",
    "percep=Perceptron(2,0.2,100)           \n",
    "percep.train(set_apprentissage)            \n",
    "    \n",
    "print(\"accuracy:\", percep.accuracy(set_test))    "
   ]
  },
  {
   "cell_type": "code",
   "execution_count": 126,
   "metadata": {},
   "outputs": [
    {
     "name": "stdout",
     "output_type": "stream",
     "text": [
      "[1, 6, 11, 16, 21, 26, 31, 36, 41, 46, 51, 56, 61, 66, 71, 76, 81, 86, 91, 96]\n",
      "[0.07473684210526316, 0.08105263157894736, 0.09052631578947369, 0.07631578947368421, 0.08157894736842106, 0.07947368421052632, 0.07631578947368421, 0.08210526315789474, 0.07421052631578948, 0.07684210526315789, 0.08315789473684211, 0.08105263157894736, 0.08, 0.08263157894736842, 0.08052631578947368, 0.08263157894736842, 0.07421052631578948, 0.08, 0.08157894736842106, 0.08]\n",
      "[0.12, 0.12, 0.18, 0.12, 0.14, 0.11, 0.12, 0.13, 0.12, 0.12, 0.13, 0.13, 0.14, 0.13, 0.13, 0.13, 0.12, 0.14, 0.14, 0.13]\n"
     ]
    }
   ],
   "source": [
    "lx=[]\n",
    "ly=[]\n",
    "lz=[]\n",
    "i=1\n",
    "\n",
    "while (i<101):\n",
    "    foret = ClassifierBaggingPerceptron(2,i,0.3,0.0,50,True)\n",
    "    foret.train(F)\n",
    "    lx.append(i)\n",
    "    ly.append(foret.accuracy(E))\n",
    "    lz.append(foret.accuracy(F))\n",
    "    i=i+5\n",
    "    \n",
    "print(lx)\n",
    "print(lz)\n",
    "print(ly)"
   ]
  },
  {
   "cell_type": "code",
   "execution_count": 127,
   "metadata": {},
   "outputs": [
    {
     "data": {
      "image/png": "[encoded data removed]",
      "text/plain": [
       "<matplotlib.figure.Figure at 0x11a2f8ac8>"
      ]
     },
     "metadata": {},
     "output_type": "display_data"
    }
   ],
   "source": [
    "plt.plot(lx,ly)  # on utilise la fonction sinus de Numpy\n",
    "plt.plot(lx,lz)  # on utilise la fonction sinus de Numpy\n",
    "plt.ylabel('Accuracy')\n",
    "plt.xlabel(\"nb exemple\")\n",
    "plt.show()"
   ]
  },
  {
   "cell_type": "markdown",
   "metadata": {},
   "source": [
    "## Etape 4: expérimentation\n",
    "\n",
    "<font size=\"+1\">**[Q]**</font> Appliquer l'algorithme de bagging d'arbres de décision sur d'autres bases d'apprentissage. Construire la courbe donnant le taux de prédiction pour une forêt d'arbres variant de 1 à 200 arbres. \n",
    "\n",
    "Réaliser ensuite la même expérimentation avec un bagging de perceptrons."
   ]
  },
  {
   "cell_type": "code",
   "execution_count": 128,
   "metadata": {},
   "outputs": [
    {
     "name": "stdout",
     "output_type": "stream",
     "text": [
      "Bagging : 200 trees: accuracy totale: train=0.9200 test=0.9132\n"
     ]
    }
   ],
   "source": [
    "# Bagging d'arbre de decision\n",
    "# Réaliser un apprentissage par bagging sur E et évaluer le taux de prédiction du modèle sur F\n",
    "foret200 =  ClassifierBaggingTree(200,0.3,0.0,True)\n",
    "foret200.train(E)\n",
    "print(\"Bagging : 200 trees: accuracy totale: train=%.4f test=%.4f\"%(foret200.accuracy(E),foret200.accuracy(F)))"
   ]
  },
  {
   "cell_type": "code",
   "execution_count": 129,
   "metadata": {},
   "outputs": [
    {
     "name": "stdout",
     "output_type": "stream",
     "text": [
      "[1, 11, 21, 31, 41, 51, 61, 71, 81, 91, 101, 111, 121, 131, 141, 151, 161, 171, 181, 191]\n",
      "[0.9078947368421053, 0.9352631578947368, 0.9484210526315789, 0.9421052631578948, 0.9447368421052632, 0.9452631578947368, 0.9431578947368421, 0.9484210526315789, 0.9505263157894737, 0.9463157894736842, 0.9489473684210527, 0.9473684210526315, 0.9484210526315789, 0.9478947368421052, 0.9473684210526315, 0.9452631578947368, 0.9510526315789474, 0.9489473684210527, 0.95, 0.9473684210526315]\n",
      "[0.87, 0.88, 0.87, 0.85, 0.87, 0.86, 0.88, 0.87, 0.87, 0.88, 0.88, 0.87, 0.89, 0.87, 0.88, 0.87, 0.86, 0.88, 0.86, 0.88]\n"
     ]
    }
   ],
   "source": [
    "lx=[]\n",
    "ly=[]\n",
    "lz=[]\n",
    "i=1\n",
    "\n",
    "while (i<201):\n",
    "    foret = ClassifierBaggingTree(i,0.3,0.0,True)\n",
    "    foret.train(F)\n",
    "    lx.append(i)\n",
    "    ly.append(foret.accuracy(E))\n",
    "    lz.append(foret.accuracy(F))\n",
    "    i=i+10\n",
    "    \n",
    "print(lx)\n",
    "print(lz)\n",
    "print(ly)"
   ]
  },
  {
   "cell_type": "code",
   "execution_count": 130,
   "metadata": {},
   "outputs": [
    {
     "data": {
      "image/png": "[encoded data removed]",
      "text/plain": [
       "<matplotlib.figure.Figure at 0x11a611f60>"
      ]
     },
     "metadata": {},
     "output_type": "display_data"
    }
   ],
   "source": [
    "import matplotlib.pyplot as plt\n",
    "\n",
    "plt.plot(lx,ly)  # on utilise la fonction sinus de Numpy\n",
    "plt.plot(lx,lz)  # on utilise la fonction sinus de Numpy\n",
    "plt.ylabel('Accuracy')\n",
    "plt.xlabel(\"nb foret\")\n",
    "plt.show()"
   ]
  },
  {
   "cell_type": "code",
   "execution_count": 131,
   "metadata": {},
   "outputs": [
    {
     "name": "stdout",
     "output_type": "stream",
     "text": [
      "[1, 6, 11, 16, 21, 26, 31, 36, 41, 46, 51, 56, 61, 66, 71, 76, 81, 86, 91, 96, 101, 106, 111, 116, 121, 126, 131, 136, 141, 146, 151, 156, 161, 166, 171, 176, 181, 186, 191, 196]\n",
      "[0.09421052631578947, 0.07842105263157895, 0.08210526315789474, 0.08210526315789474, 0.08, 0.08263157894736842, 0.07578947368421053, 0.07473684210526316, 0.08315789473684211, 0.07526315789473684, 0.08526315789473685, 0.08157894736842106, 0.08210526315789474, 0.07473684210526316, 0.08315789473684211, 0.07789473684210527, 0.08052631578947368, 0.08263157894736842, 0.08052631578947368, 0.08105263157894736, 0.08105263157894736, 0.08105263157894736, 0.08210526315789474, 0.08263157894736842, 0.08157894736842106, 0.08, 0.07736842105263157, 0.08157894736842106, 0.08263157894736842, 0.07789473684210527, 0.08263157894736842, 0.08, 0.08052631578947368, 0.07947368421052632, 0.08210526315789474, 0.08105263157894736, 0.08210526315789474, 0.07631578947368421, 0.08052631578947368, 0.08105263157894736]\n",
      "[0.18, 0.12, 0.13, 0.13, 0.13, 0.14, 0.12, 0.12, 0.13, 0.12, 0.18, 0.11, 0.14, 0.12, 0.13, 0.12, 0.13, 0.13, 0.13, 0.14, 0.14, 0.14, 0.17, 0.13, 0.14, 0.13, 0.12, 0.14, 0.13, 0.12, 0.13, 0.13, 0.13, 0.13, 0.13, 0.14, 0.14, 0.12, 0.13, 0.14]\n"
     ]
    }
   ],
   "source": [
    "# Bagging de perceptrons\n",
    "lx=[]\n",
    "ly=[]\n",
    "lz=[]\n",
    "i=1\n",
    "\n",
    "while (i<201):\n",
    "    foret = ClassifierBaggingPerceptron(2,i,0.3,0.0,50,True)\n",
    "    foret.train(F)\n",
    "    lx.append(i)\n",
    "    ly.append(foret.accuracy(E))\n",
    "    lz.append(foret.accuracy(F))\n",
    "    i=i+5\n",
    "    \n",
    "print(lx)\n",
    "print(lz)\n",
    "print(ly)"
   ]
  },
  {
   "cell_type": "code",
   "execution_count": 132,
   "metadata": {},
   "outputs": [
    {
     "data": {
      "image/png": "[encoded data removed]",
      "text/plain": [
       "<matplotlib.figure.Figure at 0x11a5f8cf8>"
      ]
     },
     "metadata": {},
     "output_type": "display_data"
    }
   ],
   "source": [
    "plt.plot(lx,ly)  # on utilise la fonction sinus de Numpy\n",
    "plt.plot(lx,lz)  # on utilise la fonction sinus de Numpy\n",
    "plt.ylabel('Accuracy')\n",
    "plt.xlabel(\"nb exemple\")\n",
    "plt.show()"
   ]
  }
 ],
 "metadata": {
  "kernelspec": {
   "display_name": "Python 3",
   "language": "python",
   "name": "python3"
  },
  "language_info": {
   "codemirror_mode": {
    "name": "ipython",
    "version": 3
   },
   "file_extension": ".py",
   "mimetype": "text/x-python",
   "name": "python",
   "nbconvert_exporter": "python",
   "pygments_lexer": "ipython3",
   "version": "3.5.4"
  }
 },
 "nbformat": 4,
 "nbformat_minor": 1
}
