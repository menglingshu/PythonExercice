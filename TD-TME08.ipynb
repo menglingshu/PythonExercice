{
 "cells": [
  {
   "cell_type": "markdown",
   "metadata": {},
   "source": [
    "IA & Data science -- 2017-2018\n",
    "--------\n",
    "*&copy; Equipe pédagogique: Ludovic Denoyer, Thibault Laugel, Marie-Jeanne Lesot, Christophe Marsala, Olivier Schwander*"
   ]
  },
  {
   "cell_type": "markdown",
   "metadata": {},
   "source": [
    "# TD-TME08: algorithme des k-moyennes\n",
    "\n",
    "L'objectif de ce TP est d'implémenter un nouvel algorithme d'apprentissage non-supervisé, l'algorithme des K-moyennes (cours 9)."
   ]
  },
  {
   "cell_type": "markdown",
   "metadata": {},
   "source": [
    "<font size=\"+1\">**[Q]**</font> **Indiquer dans la boîte ci-dessous vos noms et prénoms : MENG_LINGSHU_3502972**"
   ]
  },
  {
   "cell_type": "markdown",
   "metadata": {},
   "source": [
    "*Double-cliquer ici et insérer les noms et prénoms de votre binôme*"
   ]
  },
  {
   "cell_type": "markdown",
   "metadata": {},
   "source": [
    "## Questions de cours (à faire chez vous, sur papier)\n",
    "\n",
    "Pour vous entraîner sans machine...\n",
    "\n",
    "**[Q]** On considère un ensemble fini $U$ d'éléments. \n",
    "- donner la fonction caractéristique de $U$\n",
    "- donner la fonction caractéristique de l'ensemble vide\n",
    "- soit $E$ et $F$ deux sous-ensembles de $U$ définis par leurs fonctions caractéristiques $\\chi_E$ et $\\chi_F$. En déduire les fonctions caractéristiques de $E\\cup F$, de $E\\cap F$ et de $E^{c}$. *(indice: penser au min et au max)*\n",
    "\n",
    "**[Q]** Rappeler la définition d'une partition $P$ d'un ensemble $X$ en $K$ sous-ensembles. \n",
    "\n",
    "**[Q]** Appliquer, à la main, l'algorithme des K-moyennes sur les données fournies sur le transparent 10 du cours 8 en utilisant d'abord $K=2$, puis $K=3$. Dans chacun des cas, réaliser au maximum 10 itérations de l'algorithme ($t_{max}=10$).\n",
    "Comparer les résultats obtenus.\n",
    "\n",
    "\n",
    "---"
   ]
  },
  {
   "cell_type": "markdown",
   "metadata": {},
   "source": [
    "## Préparation\n",
    "\n",
    "Décompresser l'archive, elle crée le répertoire \"tp8\" qui contient un fichier ipython à ouvrir (ce fichier-ci) et un sous-répertoire \"data\" contenant les bases d'apprentissage utilisées dans ce TP.\n",
    "\n",
    "Le but de ce TP est de compléter ce document ipython en ajoutant les fonctions demandées. Avant de commencer, exécuter le bloc suivant afin de pouvoir initialiser des variables utiles \n"
   ]
  },
  {
   "cell_type": "code",
   "execution_count": 2,
   "metadata": {},
   "outputs": [],
   "source": [
    "import numpy as np\n",
    "import pandas as pd\n",
    "from datetime import datetime as dt\n",
    "import matplotlib.pyplot as plt\n",
    "%matplotlib inline  "
   ]
  },
  {
   "cell_type": "markdown",
   "metadata": {},
   "source": [
    "### Chargement du fichier \"base_2D.csv\""
   ]
  },
  {
   "cell_type": "markdown",
   "metadata": {},
   "source": [
    "La lecture d'un fichier CSV par <code>pd.read()</code> fournit un DataFrame que vous avez appris à manipuler dans le TP02."
   ]
  },
  {
   "cell_type": "code",
   "execution_count": 3,
   "metadata": {
    "scrolled": true
   },
   "outputs": [
    {
     "data": {
      "text/html": [
       "<div>\n",
       "<style scoped>\n",
       "    .dataframe tbody tr th:only-of-type {\n",
       "        vertical-align: middle;\n",
       "    }\n",
       "\n",
       "    .dataframe tbody tr th {\n",
       "        vertical-align: top;\n",
       "    }\n",
       "\n",
       "    .dataframe thead th {\n",
       "        text-align: right;\n",
       "    }\n",
       "</style>\n",
       "<table border=\"1\" class=\"dataframe\">\n",
       "  <thead>\n",
       "    <tr style=\"text-align: right;\">\n",
       "      <th></th>\n",
       "      <th>X</th>\n",
       "      <th>Y</th>\n",
       "    </tr>\n",
       "  </thead>\n",
       "  <tbody>\n",
       "    <tr>\n",
       "      <th>0</th>\n",
       "      <td>0.0</td>\n",
       "      <td>4.0</td>\n",
       "    </tr>\n",
       "    <tr>\n",
       "      <th>1</th>\n",
       "      <td>1.0</td>\n",
       "      <td>3.5</td>\n",
       "    </tr>\n",
       "    <tr>\n",
       "      <th>2</th>\n",
       "      <td>1.0</td>\n",
       "      <td>1.0</td>\n",
       "    </tr>\n",
       "    <tr>\n",
       "      <th>3</th>\n",
       "      <td>2.0</td>\n",
       "      <td>1.0</td>\n",
       "    </tr>\n",
       "    <tr>\n",
       "      <th>4</th>\n",
       "      <td>2.0</td>\n",
       "      <td>2.0</td>\n",
       "    </tr>\n",
       "  </tbody>\n",
       "</table>\n",
       "</div>"
      ],
      "text/plain": [
       "     X    Y\n",
       "0  0.0  4.0\n",
       "1  1.0  3.5\n",
       "2  1.0  1.0\n",
       "3  2.0  1.0\n",
       "4  2.0  2.0"
      ]
     },
     "execution_count": 3,
     "metadata": {},
     "output_type": "execute_result"
    }
   ],
   "source": [
    "data_2D = pd.read_csv(\"data/base-2D.csv\")\n",
    "data_2D[0:5]  # ou bien: data_2D[0:len(data_2D)]"
   ]
  },
  {
   "cell_type": "markdown",
   "metadata": {},
   "source": [
    "Dans la suite de ce TP, il est conseillé de travailler sur des données de type DataFrame le plus souvent possible.\n",
    "\n",
    "**Important**: dans la suite de ce TP, on appelle:\n",
    "\n",
    "- \"base d'apprentissage\" le DataFrame contenant l'ensemble des exemples d'apprentissage chargés par la commande précédente\n",
    "- \"base d'exemples\" : un DataFrame contenant un ensemble d'exemples (remarque: la base d'apprentissage est le plus grand ensemble d'exemples possible)"
   ]
  },
  {
   "cell_type": "markdown",
   "metadata": {},
   "source": [
    "### Récupération des fonctions utiles"
   ]
  },
  {
   "cell_type": "markdown",
   "metadata": {},
   "source": [
    "**[Q]** Réécrire la fonction <code>normalisation()</code> du TD-TME07: cette fonction doit prendre en argument un <code>DataFrame DF</code> et rendre **le dataframe** obtenu en normalisant chaque colonne de <code>DF</code> par la méthode vue en cours 8."
   ]
  },
  {
   "cell_type": "code",
   "execution_count": 4,
   "metadata": {},
   "outputs": [],
   "source": [
    "from copy import deepcopy\n",
    "#fonction normalisation prenant un DataFrame et rendre le dataframe normalisé\n",
    "def normalisation(DataFrame):\n",
    "    M_DataFrame = deepcopy(DataFrame)#copier profondément\n",
    "    for e in DataFrame.columns:\n",
    "        M_DataFrame[e]=(M_DataFrame[e]-M_DataFrame[e].min())/(M_DataFrame[e].max()-M_DataFrame[e].min())\n",
    "    return M_DataFrame"
   ]
  },
  {
   "cell_type": "code",
   "execution_count": 42,
   "metadata": {
    "scrolled": true
   },
   "outputs": [
    {
     "name": "stdout",
     "output_type": "stream",
     "text": [
      "---> type de DataFnorm: <class 'pandas.core.frame.DataFrame'>\n"
     ]
    },
    {
     "data": {
      "text/plain": [
       "<matplotlib.collections.PathCollection at 0x115c6a2b0>"
      ]
     },
     "execution_count": 42,
     "metadata": {},
     "output_type": "execute_result"
    },
    {
     "data": {
      "image/png": "[encoded data removed]",
      "text/plain": [
       "<matplotlib.figure.Figure at 0x115d24940>"
      ]
     },
     "metadata": {},
     "output_type": "display_data"
    }
   ],
   "source": [
    "# Affichage des points après normalisation:\n",
    "\n",
    "DataFnorm = normalisation(data_2D)\n",
    "print(\"---> type de DataFnorm:\",type(DataFnorm))\n",
    "\n",
    "plt.scatter(DataFnorm['X'],DataFnorm['Y'])"
   ]
  },
  {
   "cell_type": "markdown",
   "metadata": {},
   "source": [
    "Avec un dataframe, il est facile d'accéder à tous les éléments d'une colonne, par exemple '<code>DFnorm['X']</code> permet de récupérer une <code>Series</code> contenant toutes les lignes de la colonne de nom 'X'.\n",
    "On peut accéder à une ligne (ou un ensemble de ligne) très facilement:\n",
    "- <code>DFnorm.iloc[0]</code> permet de récupérer la ligne d'indice 0 sous la forme d'une \"series\"\n",
    "- <code>DFnorm.iloc[0:1]</code> permet de récupérer la ligne d'indice 0 sous la forme d'un dataframe (cettte instruction réalise un \"slicing\")\n",
    "- <code>DFnorm.iloc[0:5]</code> permet de récupérer les lignes d'indice de 0 à 4\n",
    "\n",
    "etc."
   ]
  },
  {
   "cell_type": "code",
   "execution_count": 6,
   "metadata": {},
   "outputs": [
    {
     "name": "stdout",
     "output_type": "stream",
     "text": [
      "<class 'pandas.core.series.Series'>\n",
      "new: <class 'pandas.core.series.Series'>\n",
      "new: <class 'pandas.core.frame.DataFrame'>\n"
     ]
    }
   ],
   "source": [
    "print(type(DataFnorm.iloc[0]))\n",
    "print(\"new:\",type(DataFnorm.iloc[0]))\n",
    "print(\"new:\",type(DataFnorm.iloc[0:1]))"
   ]
  },
  {
   "cell_type": "markdown",
   "metadata": {},
   "source": [
    "**[Q]** Réécrire la fonction <code>dist_vect()</code> qui calcule la distance euclidienne entre deux <code>Series</code>."
   ]
  },
  {
   "cell_type": "code",
   "execution_count": 7,
   "metadata": {},
   "outputs": [],
   "source": [
    "def dist_vect(vec1, vec2):\n",
    "    return np.sqrt(np.sum((vec1 - vec2)**2))"
   ]
  },
  {
   "cell_type": "code",
   "execution_count": 8,
   "metadata": {},
   "outputs": [
    {
     "data": {
      "text/plain": [
       "0.6975174637562116"
      ]
     },
     "execution_count": 8,
     "metadata": {},
     "output_type": "execute_result"
    }
   ],
   "source": [
    "dist_vect(DataFnorm.iloc[0],DataFnorm.iloc[7])"
   ]
  },
  {
   "cell_type": "markdown",
   "metadata": {},
   "source": [
    "### Calcul de centroides\n",
    "\n",
    "**[Q]** Ecrire la fonction <code>centroide()</code> qui, étant donné un DataFrame représentant plusieurs exemples rend le centroide. Cette fonction doit rendre un DataFrame."
   ]
  },
  {
   "cell_type": "code",
   "execution_count": 9,
   "metadata": {},
   "outputs": [],
   "source": [
    "def centroide(dataFrame): \n",
    "    centroid = dataFrame.mean()\n",
    "    centroid = (pd.DataFrame(centroid)).T\n",
    "    return centroid"
   ]
  },
  {
   "cell_type": "code",
   "execution_count": 10,
   "metadata": {},
   "outputs": [
    {
     "data": {
      "text/html": [
       "<div>\n",
       "<style scoped>\n",
       "    .dataframe tbody tr th:only-of-type {\n",
       "        vertical-align: middle;\n",
       "    }\n",
       "\n",
       "    .dataframe tbody tr th {\n",
       "        vertical-align: top;\n",
       "    }\n",
       "\n",
       "    .dataframe thead th {\n",
       "        text-align: right;\n",
       "    }\n",
       "</style>\n",
       "<table border=\"1\" class=\"dataframe\">\n",
       "  <thead>\n",
       "    <tr style=\"text-align: right;\">\n",
       "      <th></th>\n",
       "      <th>X</th>\n",
       "      <th>Y</th>\n",
       "    </tr>\n",
       "  </thead>\n",
       "  <tbody>\n",
       "    <tr>\n",
       "      <th>0</th>\n",
       "      <td>0.510204</td>\n",
       "      <td>0.45</td>\n",
       "    </tr>\n",
       "  </tbody>\n",
       "</table>\n",
       "</div>"
      ],
      "text/plain": [
       "          X     Y\n",
       "0  0.510204  0.45"
      ]
     },
     "execution_count": 10,
     "metadata": {},
     "output_type": "execute_result"
    }
   ],
   "source": [
    "centroide(DataFnorm)"
   ]
  },
  {
   "cell_type": "markdown",
   "metadata": {},
   "source": [
    "## Travail à réaliser"
   ]
  },
  {
   "cell_type": "markdown",
   "metadata": {},
   "source": [
    "### Inertie d'un cluster\n",
    "**[Q]** Ecrire la fonction <code>inertie_cluster</code> qui, étant donné un DataFrame contenant un ensemble d'exemples, rend la valeur de l'inertie de cet ensemble telle qu'elle a été définie dans le cours."
   ]
  },
  {
   "cell_type": "code",
   "execution_count": 11,
   "metadata": {},
   "outputs": [],
   "source": [
    "#inertie_cluster() en prenant un DataFrame et rend la valeur de l'inertie de cet ensemble\n",
    "def inertie_cluster(DataFrame) :\n",
    "    inertie= sum((dist_vect(DataFrame.loc[i],centroide(DataFrame).iloc[0]))**2 for i in DataFrame.index) \n",
    "    #la somme de la distance carrée de chaque composant par rapport à la centroide\n",
    "    return inertie"
   ]
  },
  {
   "cell_type": "code",
   "execution_count": 12,
   "metadata": {},
   "outputs": [
    {
     "name": "stdout",
     "output_type": "stream",
     "text": [
      "inertie : 2.975991253644316\n"
     ]
    }
   ],
   "source": [
    "print(\"inertie :\",inertie_cluster(DataFnorm))"
   ]
  },
  {
   "cell_type": "markdown",
   "metadata": {},
   "source": [
    "Dans ce qui suit, on appelle \"ensemble de centroides\" un DataFrame contenant $K$ vecteurs de dimensions $p$.\n",
    "\n",
    "**[Q]** Ecrire la fonction <code>initialisation()</code> qui étant donné un entier $K>1$ et une base d'apprentissage (sous la forme d'un DataFrame) de $n$ exemples rend un DataFrame contenant $K$ exemples tirés aléatoirement dans la base.\n",
    "On fait l'hypothèse que $K\\leq n$.\n",
    "\n",
    "*Remarque*: étudier les fonctions de la librairie random de Python...\n"
   ]
  },
  {
   "cell_type": "code",
   "execution_count": 131,
   "metadata": {},
   "outputs": [],
   "source": [
    "import random\n",
    "#initialisation() en prenant un entier K >1 et un DataFrame comportenant n(n<=K) exemples, rend un DataFrame contenant K exemples tirés aléatoirement\n",
    "def initialisation(K,DF) :\n",
    "    df = pd.DataFrame(DF.iloc[random.sample(range(0,len(DF)),K)])\n",
    "    return df"
   ]
  },
  {
   "cell_type": "code",
   "execution_count": 150,
   "metadata": {},
   "outputs": [
    {
     "data": {
      "text/html": [
       "<div>\n",
       "<style scoped>\n",
       "    .dataframe tbody tr th:only-of-type {\n",
       "        vertical-align: middle;\n",
       "    }\n",
       "\n",
       "    .dataframe tbody tr th {\n",
       "        vertical-align: top;\n",
       "    }\n",
       "\n",
       "    .dataframe thead th {\n",
       "        text-align: right;\n",
       "    }\n",
       "</style>\n",
       "<table border=\"1\" class=\"dataframe\">\n",
       "  <thead>\n",
       "    <tr style=\"text-align: right;\">\n",
       "      <th></th>\n",
       "      <th>X</th>\n",
       "      <th>Y</th>\n",
       "    </tr>\n",
       "  </thead>\n",
       "  <tbody>\n",
       "    <tr>\n",
       "      <th>8</th>\n",
       "      <td>0.642857</td>\n",
       "      <td>0.0</td>\n",
       "    </tr>\n",
       "    <tr>\n",
       "      <th>6</th>\n",
       "      <td>0.571429</td>\n",
       "      <td>0.8</td>\n",
       "    </tr>\n",
       "    <tr>\n",
       "      <th>0</th>\n",
       "      <td>0.000000</td>\n",
       "      <td>0.6</td>\n",
       "    </tr>\n",
       "  </tbody>\n",
       "</table>\n",
       "</div>"
      ],
      "text/plain": [
       "          X    Y\n",
       "8  0.642857  0.0\n",
       "6  0.571429  0.8\n",
       "0  0.000000  0.6"
      ]
     },
     "execution_count": 150,
     "metadata": {},
     "output_type": "execute_result"
    }
   ],
   "source": [
    "# Par exemple (mais vous ne devriez pas pouvoir retrouver exactement les mêmes !)\n",
    "Centroides_test = initialisation(3,DataFnorm)\n",
    "Centroides_test"
   ]
  },
  {
   "cell_type": "markdown",
   "metadata": {},
   "source": [
    "En utilisant l'option <code>\"color='blue'\"</code> ou <code>\"color='red'\"</code> de la fonction <code>scatter()<code>, on peut réaliser l'affichage de la base d'apprentissage (en bleu) et des centroides initiaux (en rouge)."
   ]
  },
  {
   "cell_type": "code",
   "execution_count": 15,
   "metadata": {},
   "outputs": [
    {
     "data": {
      "text/plain": [
       "<matplotlib.collections.PathCollection at 0x115890550>"
      ]
     },
     "execution_count": 15,
     "metadata": {},
     "output_type": "execute_result"
    },
    {
     "data": {
      "image/png": "[encoded data removed]",
      "text/plain": [
       "<matplotlib.figure.Figure at 0x11586e3c8>"
      ]
     },
     "metadata": {},
     "output_type": "display_data"
    }
   ],
   "source": [
    "plt.scatter(DataFnorm['X'],DataFnorm['Y'],color='blue')\n",
    "plt.scatter(Centroides_test['X'],Centroides_test['Y'],color='red')"
   ]
  },
  {
   "cell_type": "markdown",
   "metadata": {},
   "source": [
    "**[Q]** Ecrire la fonction <code>plus_proche()</code> qui, étant donné un exemple et un DataFrame contenant un ensemble de centroides, rend l'indice (dans le DataFrame) du centroide dont l'exemple est le plus proche.\n",
    "En cas d'égalité de distance, le centroide de plus petit indice est choisi."
   ]
  },
  {
   "cell_type": "code",
   "execution_count": 16,
   "metadata": {},
   "outputs": [],
   "source": [
    "'''def plus_proche(data, EnsembleCentroides):\n",
    "    for i in range(EnsembleCentroides.shape[0]):\n",
    "        a.append(dist_vect(data, EnsembleCentroides.iloc[i]))\n",
    "    a = a.index(min(a))\n",
    "    return a'''\n",
    "def plus_proche(exemple,dataframe):\n",
    "    n=len(dataframe.index)\n",
    "    min=999\n",
    "    indice=-1\n",
    "    for i in range (n):\n",
    "        current=dist_vect(exemple,dataframe.iloc[i])\n",
    "        if (current<=min):\n",
    "            if (current==min):\n",
    "                if (indice<i):\n",
    "                    indice=i\n",
    "            else:\n",
    "                min=current\n",
    "                indice=i\n",
    "    return indice"
   ]
  },
  {
   "cell_type": "code",
   "execution_count": 17,
   "metadata": {},
   "outputs": [
    {
     "name": "stdout",
     "output_type": "stream",
     "text": [
      "Exemple  0 : ( 0.0 ,  0.6 ) est plus proche du centroide 2 : ( 0.5714285714285714 ,  0.6 )\n",
      "Exemple  1 : ( 0.14285714285714285 ,  0.5 ) est plus proche du centroide 2 : ( 0.5714285714285714 ,  0.6 )\n",
      "Exemple  2 : ( 0.14285714285714285 ,  0.0 ) est plus proche du centroide 2 : ( 0.5714285714285714 ,  0.6 )\n",
      "Exemple  3 : ( 0.2857142857142857 ,  0.0 ) est plus proche du centroide 2 : ( 0.5714285714285714 ,  0.6 )\n",
      "Exemple  4 : ( 0.2857142857142857 ,  0.2 ) est plus proche du centroide 2 : ( 0.5714285714285714 ,  0.6 )\n",
      "Exemple  5 : ( 0.5714285714285714 ,  0.6 ) est plus proche du centroide 2 : ( 0.5714285714285714 ,  0.6 )\n",
      "Exemple  6 : ( 0.5714285714285714 ,  0.8 ) est plus proche du centroide 1 : ( 0.7142857142857143 ,  0.8 )\n",
      "Exemple  7 : ( 0.5714285714285714 ,  1.0 ) est plus proche du centroide 1 : ( 0.7142857142857143 ,  0.8 )\n",
      "Exemple  8 : ( 0.6428571428571429 ,  0.0 ) est plus proche du centroide 2 : ( 0.5714285714285714 ,  0.6 )\n",
      "Exemple  9 : ( 0.6428571428571429 ,  1.0 ) est plus proche du centroide 1 : ( 0.7142857142857143 ,  0.8 )\n",
      "Exemple  10 : ( 0.7142857142857143 ,  0.0 ) est plus proche du centroide 2 : ( 0.5714285714285714 ,  0.6 )\n",
      "Exemple  11 : ( 0.7142857142857143 ,  0.8 ) est plus proche du centroide 1 : ( 0.7142857142857143 ,  0.8 )\n",
      "Exemple  12 : ( 0.8571428571428571 ,  0.2 ) est plus proche du centroide 2 : ( 0.5714285714285714 ,  0.6 )\n",
      "Exemple  13 : ( 1.0 ,  0.6 ) est plus proche du centroide 1 : ( 0.7142857142857143 ,  0.8 )\n"
     ]
    }
   ],
   "source": [
    "for i in range(0,len(DataFnorm)):\n",
    "    pproche = plus_proche(DataFnorm.iloc[i],Centroides_test)\n",
    "    print(\"Exemple \",i,\": (\",DataFnorm.iloc[i]['X'],\", \",DataFnorm.iloc[i]['Y'], \")\",\\\n",
    "          \"est plus proche du centroide\",pproche, \": (\",Centroides_test.iloc[pproche]['X'],\", \", \\\n",
    "          Centroides_test.iloc[pproche]['Y'],\")\")"
   ]
  },
  {
   "cell_type": "markdown",
   "metadata": {},
   "source": [
    "### Matrice d'affectation\n",
    "\n",
    "Etant donné une base d'apprentissage, on peut représenter une partition de cette base en K clusters à l'aide d'une matrice U contenant n lignes (une par exemple) et K colonnes (une par cluster) telle que \n",
    "- U[i,j] = 1 si l'exemple i appartient au cluster j\n",
    "- U[i,j] = 0 si l'exemple i n'appartient pas au cluster j\n",
    "- un exemple appartient à un et un seul cluster\n",
    "- un cluster contient au moins un exemple\n",
    "\n",
    "On appelle **matrice d'affectation** une telle matrice U.\n"
   ]
  },
  {
   "cell_type": "markdown",
   "metadata": {},
   "source": [
    "#### Question 2\n",
    "**[Q]** Donner une expression mathématique (pas du Python) des 2 dernières contraintes que vérifie une matrice d'affectation."
   ]
  },
  {
   "cell_type": "markdown",
   "metadata": {},
   "source": [
    "*réponse ?*"
   ]
  },
  {
   "cell_type": "markdown",
   "metadata": {},
   "source": [
    "#### Implémentation en Python\n",
    "Dans ce TP, nous utilisons un dictionnaire pour représenter d'une matrice d'affectation: \n",
    "- les clés de ce dictionnaire correspondent aux K indices des clusters\n",
    "- les valeurs correspondent à des listes d'indices d'exemples (leur indice dans la base d'apprentissage)\n",
    "\n",
    "Dans tout ce qui suit, une \"matrice d'affectation\" sera un tel dictionnaire.\n"
   ]
  },
  {
   "cell_type": "markdown",
   "metadata": {},
   "source": [
    "**[Q]** Ecrire la fonction <code>affecte_cluster()</code> qui, étant donné une base d'apprentissage et un ensemble de centroïdes, rend la matrice d'affectation des exemples de la base aux clusters représentés par chaque centroïde."
   ]
  },
  {
   "cell_type": "code",
   "execution_count": 75,
   "metadata": {},
   "outputs": [],
   "source": [
    "from collections import defaultdict\n",
    "def affecte_cluster(data, ensembleCentroides): \n",
    "    affect = defaultdict(list)\n",
    "    for i in range(0,len(data)):\n",
    "        pproche = plus_proche(data.iloc[i], ensembleCentroides)\n",
    "        affect[pproche].append(i)\n",
    "    return dict(affect)"
   ]
  },
  {
   "cell_type": "code",
   "execution_count": 76,
   "metadata": {},
   "outputs": [
    {
     "data": {
      "text/plain": [
       "{0: [2, 3, 4, 8, 10, 12], 1: [0, 1], 2: [5, 6, 7, 9, 11, 13]}"
      ]
     },
     "execution_count": 76,
     "metadata": {},
     "output_type": "execute_result"
    }
   ],
   "source": [
    "DictAffect = affecte_cluster(DataFnorm, Centroides_test)\n",
    "DictAffect"
   ]
  },
  {
   "cell_type": "markdown",
   "metadata": {},
   "source": [
    "### Ensemble des centroides\n",
    "Grâce à la matrice d'affectation, on peut maintenant trouver les nouveaux centroides. Ceux-ci sont déterminés en prenant les moyennes des ensembles des exemples qui sont affectés au même cluster.\n",
    "\n",
    "**[Q]** Ecrire la fonction <code>nouveaux_centroides()</code> qui, étant donné une base d'apprentissage et une matrice d'affectation, rend l'ensemble des nouveaux centroides obtenus."
   ]
  },
  {
   "cell_type": "code",
   "execution_count": 20,
   "metadata": {},
   "outputs": [],
   "source": [
    "def nouveaux_centroides(data, dictAff): \n",
    "    nouveaux_centroid = pd.DataFrame() \n",
    "    for i in (dictAff.keys()):\n",
    "        nouveaux_centroid = nouveaux_centroid.append(centroide(data.iloc[dictAff.get(i)]), ignore_index=True)\n",
    "    return nouveaux_centroid"
   ]
  },
  {
   "cell_type": "code",
   "execution_count": 21,
   "metadata": {},
   "outputs": [
    {
     "data": {
      "text/html": [
       "<div>\n",
       "<style scoped>\n",
       "    .dataframe tbody tr th:only-of-type {\n",
       "        vertical-align: middle;\n",
       "    }\n",
       "\n",
       "    .dataframe tbody tr th {\n",
       "        vertical-align: top;\n",
       "    }\n",
       "\n",
       "    .dataframe thead th {\n",
       "        text-align: right;\n",
       "    }\n",
       "</style>\n",
       "<table border=\"1\" class=\"dataframe\">\n",
       "  <thead>\n",
       "    <tr style=\"text-align: right;\">\n",
       "      <th></th>\n",
       "      <th>X</th>\n",
       "      <th>Y</th>\n",
       "    </tr>\n",
       "  </thead>\n",
       "  <tbody>\n",
       "    <tr>\n",
       "      <th>0</th>\n",
       "      <td>0.700000</td>\n",
       "      <td>0.840000</td>\n",
       "    </tr>\n",
       "    <tr>\n",
       "      <th>1</th>\n",
       "      <td>0.404762</td>\n",
       "      <td>0.233333</td>\n",
       "    </tr>\n",
       "  </tbody>\n",
       "</table>\n",
       "</div>"
      ],
      "text/plain": [
       "          X         Y\n",
       "0  0.700000  0.840000\n",
       "1  0.404762  0.233333"
      ]
     },
     "execution_count": 21,
     "metadata": {},
     "output_type": "execute_result"
    }
   ],
   "source": [
    "nouveaux_centroides(DataFnorm, DictAffect)"
   ]
  },
  {
   "cell_type": "markdown",
   "metadata": {},
   "source": [
    "### Inertie globale d'une partition\n",
    "\n",
    "**[Q]** En utilisant la fonction <code>inertie_cluster()</code>, écrire la fonction <code>inertie_globale()</code> qui, étant donné une base d'apprentissage et une matrice d'affectation, rend la valeur de l'inertie globale du partitionnement correspondant.\n"
   ]
  },
  {
   "cell_type": "code",
   "execution_count": 22,
   "metadata": {},
   "outputs": [],
   "source": [
    "#inertie_globale() en prenant un DataFrame et une matrice d'affectation, rend la valeur de l'inertie globale \n",
    "def inertie_globale(DF,DA):\n",
    "    inertie_globale=sum(inertie_cluster(pd.DataFrame(DF.iloc[index] for index in DA[key]))for key in DA.keys())\n",
    "    return inertie_globale"
   ]
  },
  {
   "cell_type": "code",
   "execution_count": 23,
   "metadata": {},
   "outputs": [
    {
     "data": {
      "text/plain": [
       "1.5128163265306123"
      ]
     },
     "execution_count": 23,
     "metadata": {},
     "output_type": "execute_result"
    }
   ],
   "source": [
    "inertie_globale(DataFnorm,DictAffect)"
   ]
  },
  {
   "cell_type": "markdown",
   "metadata": {},
   "source": [
    "### Algorithme des K-moyennes\n",
    "\n",
    "**[Q]** En utilisant les fonctions précédentes, implémenter l'algorithme des K-moyennes.\n",
    "Pour cela, écrire une fonction <code>kmoyennes()</code> qui prend en argument un entier $K>1$, une base d'apprentissage, ainsi que deux nombres: un réel *epsilon*$>0$ et un entier *iter_max*$>1$, et qui rend un ensemble de centroides et une matrice d'affectation.\n",
    "\n",
    "Le réel *epsilon* servira de critère de convergence, et l'entier *iter_max* sera utilisé pour fixer un nombre d'itérations maximale servant à arrêter le calcul."
   ]
  },
  {
   "cell_type": "code",
   "execution_count": 173,
   "metadata": {},
   "outputs": [],
   "source": [
    "#komyennes() en prenant un entier K>1, un DataFrame, et deux nombres, un reel epsilon>0 et un entier iter_max>1, rend un ensemble de centroides et une matrice d'affectation\n",
    "#Algorithme des K-moyennes: 1.) Choisir aléatoirment K, et dans DF, en prenant k exemples au hasard\n",
    "#2.) Affecter chaque exemple x au cluster dont il est plus proche du centroide\n",
    "#3.) Calculer le nouveau centroide de chacun des clusters\n",
    "def kmoyennes(K,DF,epsilon,iter_max):\n",
    "    inertie_totale = float('inf')\n",
    "    centroide = initialisation(K,DF)\n",
    "    DA = affecte_cluster(DF,centroide)\n",
    "    for i in range(0,iter_max):\n",
    "        centroide = nouveaux_centroides(DF,DA)\n",
    "        DA = affecte_cluster(DF,centroide)\n",
    "        \n",
    "        tmp = inertie_globale(DF,DA)\n",
    "        if(i != 0):\n",
    "            print(\"iteration\", i ,\"Inertie : \" , inertie_totale ,  \"Difference: \" ,abs(tmp - inertie_totale))\n",
    "        \n",
    "        if(abs(tmp - inertie_totale) <= epsilon):\n",
    "            break;\n",
    "        else:\n",
    "            inertie_totale=tmp\n",
    "    \n",
    "    return centroide,DA"
   ]
  },
  {
   "cell_type": "code",
   "execution_count": 177,
   "metadata": {},
   "outputs": [
    {
     "name": "stdout",
     "output_type": "stream",
     "text": [
      "iteration 1 Inertie :  0.06282312925170071 Difference:  0.0\n",
      "Affichage des centres:            X         Y\n",
      "0  0.714286  0.800000\n",
      "1  1.000000  0.600000\n",
      "2  0.571429  0.700000\n",
      "3  0.142857  0.500000\n",
      "4  0.238095  0.066667\n",
      "5  0.714286  0.000000\n",
      "6  0.857143  0.200000\n",
      "7  0.000000  0.600000\n",
      "8  0.642857  0.000000\n",
      "9  0.607143  1.000000\n",
      "Affichage des affectations:  {0: [11], 1: [13], 2: [5, 6], 3: [1], 4: [2, 3, 4], 5: [10], 6: [12], 7: [0], 8: [8], 9: [7, 9]}\n"
     ]
    }
   ],
   "source": [
    "les_centres, l_affectation = kmoyennes(10, DataFnorm, 0.05, 100)\n",
    "\n",
    "print(\"Affichage des centres: \",les_centres)\n",
    "print(\"Affichage des affectations: \",l_affectation)\n",
    "#print(\"Affichage de l'inertie_totale: \",inertie_totale)"
   ]
  },
  {
   "cell_type": "code",
   "execution_count": 26,
   "metadata": {},
   "outputs": [
    {
     "name": "stdout",
     "output_type": "stream",
     "text": [
      "iteration 1 Inertie :  1.342738095238095 Difference:  0.09956462585033976\n",
      "iteration 2 Inertie :  1.2431734693877552 Difference:  0.03321428571428564\n",
      "Affichage des centres:            X         Y\n",
      "0  0.488095  0.066667\n",
      "1  0.600000  0.660000\n",
      "2  0.404762  0.866667\n",
      "Affichage des affectations:  {0: [2, 3, 4, 8, 10, 12], 1: [1, 5, 6, 11, 13], 2: [0, 7, 9]}\n"
     ]
    }
   ],
   "source": [
    "les_centres, l_affectation= kmoyennes(3, DataFnorm, 0.05, 100)\n",
    "\n",
    "print(\"Affichage des centres: \",les_centres)\n",
    "print(\"Affichage des affectations: \",l_affectation)\n",
    "#print(\"Affichage de l'inertie_totale: \",inertie_totale)"
   ]
  },
  {
   "cell_type": "markdown",
   "metadata": {},
   "source": [
    "On peut réaliser un affichage couleur des centroïdes trouvés:"
   ]
  },
  {
   "cell_type": "code",
   "execution_count": 27,
   "metadata": {},
   "outputs": [
    {
     "data": {
      "text/plain": [
       "<matplotlib.collections.PathCollection at 0x11594ada0>"
      ]
     },
     "execution_count": 27,
     "metadata": {},
     "output_type": "execute_result"
    },
    {
     "data": {
      "image/png": "[encoded data removed]",
      "text/plain": [
       "<matplotlib.figure.Figure at 0x1158c9128>"
      ]
     },
     "metadata": {},
     "output_type": "display_data"
    }
   ],
   "source": [
    "plt.scatter(DataFnorm['X'],DataFnorm['Y'],color='b')\n",
    "plt.scatter(les_centres['X'],les_centres['Y'],color='r',marker='x')"
   ]
  },
  {
   "cell_type": "markdown",
   "metadata": {},
   "source": [
    "**[Q]** Ecrire la fonction <code>affiche_resultat()</code> qui permet d'afficher le résultat de l'algorithme en utilisant des couleurs différentes pour les clusters trouvés (pour faire simple, on peut ne considèrer que le cas où K vaut 3).\n",
    "\n",
    "*Remarque*: La librairie matplotlib permet de manipuler aisément des couleurs:\n",
    "http://matplotlib.org/api/cm_api.html"
   ]
  },
  {
   "cell_type": "code",
   "execution_count": 28,
   "metadata": {},
   "outputs": [],
   "source": [
    "#affiche_resultat() en prennant un DataFrame,un ensemble des centroides et une matrice d'affectation, pour afficher le \n",
    "#résultat de l'algorithme en utilisant des couleurs différentes\n",
    "def affiche_resultat(DF,centres,DA):\n",
    "    for i in range(len(DA)):\n",
    "        dataFnorm=pd.DataFrame(DF.iloc[index] for index in DA[i])\n",
    "        plt.scatter(dataFnorm['X'],dataFnorm['Y'])\n",
    "    plt.scatter(centres['X'],centres['Y'],color='r',marker='x')"
   ]
  },
  {
   "cell_type": "code",
   "execution_count": 29,
   "metadata": {},
   "outputs": [
    {
     "data": {
      "image/png": "[encoded data removed]",
      "text/plain": [
       "<matplotlib.figure.Figure at 0x1157c3f60>"
      ]
     },
     "metadata": {},
     "output_type": "display_data"
    }
   ],
   "source": [
    "affiche_resultat(DataFnorm,les_centres,l_affectation)"
   ]
  },
  {
   "cell_type": "markdown",
   "metadata": {},
   "source": [
    "### Expérimentations\n",
    "\n",
    "**[Q]** Expérimenter l'algorithme des k-moyennes sur les données. Etudier l'impact du choix de $K$ sur l'inertie globale finale. Faire de même en relançant plusieurs fois l'algorithme avec la même valeur de $K$, en modifiant la valeur de epsilon ou de max_iter, etc."
   ]
  },
  {
   "cell_type": "markdown",
   "metadata": {
    "collapsed": true
   },
   "source": [
    "## Application à des données réelles\n",
    "\n",
    "- Appliquer l'algorithme aux données concernant les déchets de la ville de Paris (qui sont fournies dans le répertoire data)\n",
    "- Trouver des bases d'apprentissage intéressantes sur http://opendata.paris.fr/\n",
    "\n",
    "\n",
    "Dans les 2 cas, étudier la base et les clusters qui peuvent être mis en évidence. En particulier, regarder la variation de l'inertie globale des clusters obtenus en fonction de la valeur de $K$ choisie.\n",
    "\n",
    "\n",
    "**Attention**: il faudra certainement préparer cette base afin de pouvoir appliquer l'algorithme de clustering: en particulier, certaines colonnes (Granularité, Total...) ne sont pas à utilisables dans le calcul des distances, il faudra donc les éliminer. Il faut aussi prévoir de conserver le nom de l'arrondissement afin de pouvoir à la fin analyser le résultat du clustering."
   ]
  },
  {
   "cell_type": "code",
   "execution_count": 30,
   "metadata": {},
   "outputs": [
    {
     "data": {
      "text/html": [
       "<div>\n",
       "<style scoped>\n",
       "    .dataframe tbody tr th:only-of-type {\n",
       "        vertical-align: middle;\n",
       "    }\n",
       "\n",
       "    .dataframe tbody tr th {\n",
       "        vertical-align: top;\n",
       "    }\n",
       "\n",
       "    .dataframe thead th {\n",
       "        text-align: right;\n",
       "    }\n",
       "</style>\n",
       "<table border=\"1\" class=\"dataframe\">\n",
       "  <thead>\n",
       "    <tr style=\"text-align: right;\">\n",
       "      <th></th>\n",
       "      <th>janv-11</th>\n",
       "      <th>févr-11</th>\n",
       "      <th>mars-11</th>\n",
       "      <th>avr-11</th>\n",
       "      <th>mai-11</th>\n",
       "      <th>juin-11</th>\n",
       "      <th>juil-11</th>\n",
       "      <th>août-11</th>\n",
       "      <th>sept-11</th>\n",
       "      <th>oct-11</th>\n",
       "      <th>nov-11</th>\n",
       "      <th>déc-11</th>\n",
       "    </tr>\n",
       "  </thead>\n",
       "  <tbody>\n",
       "    <tr>\n",
       "      <th>0</th>\n",
       "      <td>288.1</td>\n",
       "      <td>249.1</td>\n",
       "      <td>303.7</td>\n",
       "      <td>255.8</td>\n",
       "      <td>287.8</td>\n",
       "      <td>288.4</td>\n",
       "      <td>249.6</td>\n",
       "      <td>185.6</td>\n",
       "      <td>281.3</td>\n",
       "      <td>284.3</td>\n",
       "      <td>296.4</td>\n",
       "      <td>301.1</td>\n",
       "    </tr>\n",
       "    <tr>\n",
       "      <th>1</th>\n",
       "      <td>596.5</td>\n",
       "      <td>540.2</td>\n",
       "      <td>618.5</td>\n",
       "      <td>558.6</td>\n",
       "      <td>595.9</td>\n",
       "      <td>581.7</td>\n",
       "      <td>539.2</td>\n",
       "      <td>490.5</td>\n",
       "      <td>597.8</td>\n",
       "      <td>575.7</td>\n",
       "      <td>580.5</td>\n",
       "      <td>601.4</td>\n",
       "    </tr>\n",
       "    <tr>\n",
       "      <th>2</th>\n",
       "      <td>464.0</td>\n",
       "      <td>404.9</td>\n",
       "      <td>465.3</td>\n",
       "      <td>420.2</td>\n",
       "      <td>405.3</td>\n",
       "      <td>446.0</td>\n",
       "      <td>412.9</td>\n",
       "      <td>348.7</td>\n",
       "      <td>449.3</td>\n",
       "      <td>446.3</td>\n",
       "      <td>453.1</td>\n",
       "      <td>484.3</td>\n",
       "    </tr>\n",
       "    <tr>\n",
       "      <th>3</th>\n",
       "      <td>903.1</td>\n",
       "      <td>801.4</td>\n",
       "      <td>937.5</td>\n",
       "      <td>835.5</td>\n",
       "      <td>876.8</td>\n",
       "      <td>888.6</td>\n",
       "      <td>628.8</td>\n",
       "      <td>674.8</td>\n",
       "      <td>913.3</td>\n",
       "      <td>878.7</td>\n",
       "      <td>895.7</td>\n",
       "      <td>935.8</td>\n",
       "    </tr>\n",
       "    <tr>\n",
       "      <th>4</th>\n",
       "      <td>451.1</td>\n",
       "      <td>412.4</td>\n",
       "      <td>491.6</td>\n",
       "      <td>422.7</td>\n",
       "      <td>363.6</td>\n",
       "      <td>446.4</td>\n",
       "      <td>409.5</td>\n",
       "      <td>332.3</td>\n",
       "      <td>416.4</td>\n",
       "      <td>451.5</td>\n",
       "      <td>475.1</td>\n",
       "      <td>513.5</td>\n",
       "    </tr>\n",
       "    <tr>\n",
       "      <th>5</th>\n",
       "      <td>427.0</td>\n",
       "      <td>394.3</td>\n",
       "      <td>455.2</td>\n",
       "      <td>419.9</td>\n",
       "      <td>458.3</td>\n",
       "      <td>456.6</td>\n",
       "      <td>418.0</td>\n",
       "      <td>361.8</td>\n",
       "      <td>464.6</td>\n",
       "      <td>453.4</td>\n",
       "      <td>478.5</td>\n",
       "      <td>470.9</td>\n",
       "    </tr>\n",
       "    <tr>\n",
       "      <th>6</th>\n",
       "      <td>323.4</td>\n",
       "      <td>287.3</td>\n",
       "      <td>350.3</td>\n",
       "      <td>317.8</td>\n",
       "      <td>336.9</td>\n",
       "      <td>340.7</td>\n",
       "      <td>311.6</td>\n",
       "      <td>281.0</td>\n",
       "      <td>345.6</td>\n",
       "      <td>335.6</td>\n",
       "      <td>367.0</td>\n",
       "      <td>354.5</td>\n",
       "    </tr>\n",
       "    <tr>\n",
       "      <th>7</th>\n",
       "      <td>153.0</td>\n",
       "      <td>125.8</td>\n",
       "      <td>136.6</td>\n",
       "      <td>126.6</td>\n",
       "      <td>133.2</td>\n",
       "      <td>127.6</td>\n",
       "      <td>126.7</td>\n",
       "      <td>114.3</td>\n",
       "      <td>144.3</td>\n",
       "      <td>145.1</td>\n",
       "      <td>129.5</td>\n",
       "      <td>129.8</td>\n",
       "    </tr>\n",
       "    <tr>\n",
       "      <th>8</th>\n",
       "      <td>116.3</td>\n",
       "      <td>115.7</td>\n",
       "      <td>133.4</td>\n",
       "      <td>115.0</td>\n",
       "      <td>123.2</td>\n",
       "      <td>120.5</td>\n",
       "      <td>114.5</td>\n",
       "      <td>97.6</td>\n",
       "      <td>130.5</td>\n",
       "      <td>123.0</td>\n",
       "      <td>124.3</td>\n",
       "      <td>133.7</td>\n",
       "    </tr>\n",
       "    <tr>\n",
       "      <th>9</th>\n",
       "      <td>252.6</td>\n",
       "      <td>246.7</td>\n",
       "      <td>252.9</td>\n",
       "      <td>232.5</td>\n",
       "      <td>199.4</td>\n",
       "      <td>236.4</td>\n",
       "      <td>175.4</td>\n",
       "      <td>189.4</td>\n",
       "      <td>266.6</td>\n",
       "      <td>230.3</td>\n",
       "      <td>257.7</td>\n",
       "      <td>224.4</td>\n",
       "    </tr>\n",
       "    <tr>\n",
       "      <th>10</th>\n",
       "      <td>484.2</td>\n",
       "      <td>445.9</td>\n",
       "      <td>517.0</td>\n",
       "      <td>452.0</td>\n",
       "      <td>402.0</td>\n",
       "      <td>488.0</td>\n",
       "      <td>456.0</td>\n",
       "      <td>409.0</td>\n",
       "      <td>506.0</td>\n",
       "      <td>495.0</td>\n",
       "      <td>493.0</td>\n",
       "      <td>502.0</td>\n",
       "    </tr>\n",
       "    <tr>\n",
       "      <th>11</th>\n",
       "      <td>584.1</td>\n",
       "      <td>571.2</td>\n",
       "      <td>684.7</td>\n",
       "      <td>590.3</td>\n",
       "      <td>563.4</td>\n",
       "      <td>666.3</td>\n",
       "      <td>570.4</td>\n",
       "      <td>433.2</td>\n",
       "      <td>679.7</td>\n",
       "      <td>656.1</td>\n",
       "      <td>662.6</td>\n",
       "      <td>699.9</td>\n",
       "    </tr>\n",
       "    <tr>\n",
       "      <th>12</th>\n",
       "      <td>394.1</td>\n",
       "      <td>366.3</td>\n",
       "      <td>422.7</td>\n",
       "      <td>367.1</td>\n",
       "      <td>273.5</td>\n",
       "      <td>381.7</td>\n",
       "      <td>353.4</td>\n",
       "      <td>297.0</td>\n",
       "      <td>414.0</td>\n",
       "      <td>350.0</td>\n",
       "      <td>410.6</td>\n",
       "      <td>410.0</td>\n",
       "    </tr>\n",
       "    <tr>\n",
       "      <th>14</th>\n",
       "      <td>75.3</td>\n",
       "      <td>60.4</td>\n",
       "      <td>71.2</td>\n",
       "      <td>59.5</td>\n",
       "      <td>73.9</td>\n",
       "      <td>72.0</td>\n",
       "      <td>57.9</td>\n",
       "      <td>56.4</td>\n",
       "      <td>75.5</td>\n",
       "      <td>75.7</td>\n",
       "      <td>65.8</td>\n",
       "      <td>79.1</td>\n",
       "    </tr>\n",
       "    <tr>\n",
       "      <th>15</th>\n",
       "      <td>247.0</td>\n",
       "      <td>211.0</td>\n",
       "      <td>251.0</td>\n",
       "      <td>218.0</td>\n",
       "      <td>185.0</td>\n",
       "      <td>224.0</td>\n",
       "      <td>213.3</td>\n",
       "      <td>162.9</td>\n",
       "      <td>203.4</td>\n",
       "      <td>232.1</td>\n",
       "      <td>227.6</td>\n",
       "      <td>251.6</td>\n",
       "    </tr>\n",
       "    <tr>\n",
       "      <th>16</th>\n",
       "      <td>222.0</td>\n",
       "      <td>189.0</td>\n",
       "      <td>218.0</td>\n",
       "      <td>192.0</td>\n",
       "      <td>180.0</td>\n",
       "      <td>199.0</td>\n",
       "      <td>171.8</td>\n",
       "      <td>134.8</td>\n",
       "      <td>183.1</td>\n",
       "      <td>195.5</td>\n",
       "      <td>213.8</td>\n",
       "      <td>204.1</td>\n",
       "    </tr>\n",
       "    <tr>\n",
       "      <th>17</th>\n",
       "      <td>273.0</td>\n",
       "      <td>248.6</td>\n",
       "      <td>292.2</td>\n",
       "      <td>255.2</td>\n",
       "      <td>284.3</td>\n",
       "      <td>267.3</td>\n",
       "      <td>246.6</td>\n",
       "      <td>210.3</td>\n",
       "      <td>280.6</td>\n",
       "      <td>275.6</td>\n",
       "      <td>284.6</td>\n",
       "      <td>283.2</td>\n",
       "    </tr>\n",
       "    <tr>\n",
       "      <th>18</th>\n",
       "      <td>487.2</td>\n",
       "      <td>422.2</td>\n",
       "      <td>491.0</td>\n",
       "      <td>437.0</td>\n",
       "      <td>466.0</td>\n",
       "      <td>443.0</td>\n",
       "      <td>373.5</td>\n",
       "      <td>367.5</td>\n",
       "      <td>511.9</td>\n",
       "      <td>490.6</td>\n",
       "      <td>469.2</td>\n",
       "      <td>487.9</td>\n",
       "    </tr>\n",
       "    <tr>\n",
       "      <th>19</th>\n",
       "      <td>183.9</td>\n",
       "      <td>173.1</td>\n",
       "      <td>204.2</td>\n",
       "      <td>183.0</td>\n",
       "      <td>203.2</td>\n",
       "      <td>181.9</td>\n",
       "      <td>191.2</td>\n",
       "      <td>153.6</td>\n",
       "      <td>208.6</td>\n",
       "      <td>186.5</td>\n",
       "      <td>192.9</td>\n",
       "      <td>189.9</td>\n",
       "    </tr>\n",
       "  </tbody>\n",
       "</table>\n",
       "</div>"
      ],
      "text/plain": [
       "    janv-11  févr-11  mars-11  avr-11  mai-11  juin-11  juil-11  août-11  \\\n",
       "0     288.1    249.1    303.7   255.8   287.8    288.4    249.6    185.6   \n",
       "1     596.5    540.2    618.5   558.6   595.9    581.7    539.2    490.5   \n",
       "2     464.0    404.9    465.3   420.2   405.3    446.0    412.9    348.7   \n",
       "3     903.1    801.4    937.5   835.5   876.8    888.6    628.8    674.8   \n",
       "4     451.1    412.4    491.6   422.7   363.6    446.4    409.5    332.3   \n",
       "5     427.0    394.3    455.2   419.9   458.3    456.6    418.0    361.8   \n",
       "6     323.4    287.3    350.3   317.8   336.9    340.7    311.6    281.0   \n",
       "7     153.0    125.8    136.6   126.6   133.2    127.6    126.7    114.3   \n",
       "8     116.3    115.7    133.4   115.0   123.2    120.5    114.5     97.6   \n",
       "9     252.6    246.7    252.9   232.5   199.4    236.4    175.4    189.4   \n",
       "10    484.2    445.9    517.0   452.0   402.0    488.0    456.0    409.0   \n",
       "11    584.1    571.2    684.7   590.3   563.4    666.3    570.4    433.2   \n",
       "12    394.1    366.3    422.7   367.1   273.5    381.7    353.4    297.0   \n",
       "14     75.3     60.4     71.2    59.5    73.9     72.0     57.9     56.4   \n",
       "15    247.0    211.0    251.0   218.0   185.0    224.0    213.3    162.9   \n",
       "16    222.0    189.0    218.0   192.0   180.0    199.0    171.8    134.8   \n",
       "17    273.0    248.6    292.2   255.2   284.3    267.3    246.6    210.3   \n",
       "18    487.2    422.2    491.0   437.0   466.0    443.0    373.5    367.5   \n",
       "19    183.9    173.1    204.2   183.0   203.2    181.9    191.2    153.6   \n",
       "\n",
       "    sept-11  oct-11  nov-11  déc-11  \n",
       "0     281.3   284.3   296.4   301.1  \n",
       "1     597.8   575.7   580.5   601.4  \n",
       "2     449.3   446.3   453.1   484.3  \n",
       "3     913.3   878.7   895.7   935.8  \n",
       "4     416.4   451.5   475.1   513.5  \n",
       "5     464.6   453.4   478.5   470.9  \n",
       "6     345.6   335.6   367.0   354.5  \n",
       "7     144.3   145.1   129.5   129.8  \n",
       "8     130.5   123.0   124.3   133.7  \n",
       "9     266.6   230.3   257.7   224.4  \n",
       "10    506.0   495.0   493.0   502.0  \n",
       "11    679.7   656.1   662.6   699.9  \n",
       "12    414.0   350.0   410.6   410.0  \n",
       "14     75.5    75.7    65.8    79.1  \n",
       "15    203.4   232.1   227.6   251.6  \n",
       "16    183.1   195.5   213.8   204.1  \n",
       "17    280.6   275.6   284.6   283.2  \n",
       "18    511.9   490.6   469.2   487.9  \n",
       "19    208.6   186.5   192.9   189.9  "
      ]
     },
     "execution_count": 30,
     "metadata": {},
     "output_type": "execute_result"
    }
   ],
   "source": [
    "data_Paris = pd.read_csv(\"/Users/Lingshu/Desktop/3I026/tp8/data/base-Paris.csv\",delimiter = \";\")\n",
    "data_T_Paris = data_Paris.drop([13,13])\n",
    "data_T_Paris = data_T_Paris.drop(['Granularité','Total arrondissement 2011'],axis=1)\n",
    "for i in data_T_Paris.keys():\n",
    "    data_T_Paris[i] = data_T_Paris[i].str.replace(',' ,'.')\n",
    "data_T_Paris = data_T_Paris.astype(np.float64)\n",
    "data_T_Paris.head(-1)"
   ]
  },
  {
   "cell_type": "code",
   "execution_count": 31,
   "metadata": {},
   "outputs": [
    {
     "name": "stdout",
     "output_type": "stream",
     "text": [
      "iteration 1 Inertie :  4.653519901118004 Difference:  9.657035370913555\n",
      "iteration 2 Inertie :  14.310555272031559 Difference:  7.884831593559035\n",
      "iteration 3 Inertie :  6.425723678472524 Difference:  1.7722037773545196\n",
      "iteration 4 Inertie :  4.653519901118004 Difference:  1.7722037773545196\n",
      "iteration 5 Inertie :  6.425723678472524 Difference:  0.1823793936138456\n",
      "iteration 6 Inertie :  6.243344284858678 Difference:  1.4025808296300557\n",
      "iteration 7 Inertie :  4.840763455228623 Difference:  0.18724355411061833\n",
      "iteration 8 Inertie :  4.653519901118004 Difference:  1.8509353740702297\n",
      "iteration 9 Inertie :  6.504455275188234 Difference:  1.9128683818346115\n",
      "iteration 10 Inertie :  4.591586893353623 Difference:  0.24917656187500015\n",
      "iteration 11 Inertie :  4.840763455228623 Difference:  1.441676127238348\n",
      "iteration 12 Inertie :  6.282439582466971 Difference:  0.14328409600555325\n",
      "iteration 13 Inertie :  6.425723678472524 Difference:  7.884831593559035\n",
      "iteration 14 Inertie :  14.310555272031559 Difference:  6.596287560662558\n",
      "iteration 15 Inertie :  7.714267711369001 Difference:  1.6460676606804316\n",
      "iteration 16 Inertie :  6.068200050688569 Difference:  0.3575236277839551\n",
      "iteration 17 Inertie :  6.425723678472524 Difference:  3.957343196738842\n",
      "iteration 18 Inertie :  10.383066875211366 Difference:  2.410084307219538\n",
      "iteration 19 Inertie :  7.972982567991828 Difference:  2.410084307219538\n",
      "iteration 20 Inertie :  10.383066875211366 Difference:  3.957343196738842\n",
      "iteration 21 Inertie :  6.425723678472524 Difference:  1.7722037773545196\n",
      "iteration 22 Inertie :  4.653519901118004 Difference:  0.0\n",
      "Affichage des centres:      janv-11   févr-11   mars-11    avr-11    mai-11   juin-11   juil-11  \\\n",
      "0  0.573025  0.591987  0.590327  0.589594  0.551143  0.587895  0.732418   \n",
      "1  0.184566  0.196278  0.192601  0.193986  0.160387  0.181892  0.250642   \n",
      "\n",
      "    août-11   sept-11    oct-11    nov-11    déc-11  \n",
      "0  0.599652  0.587103  0.598023  0.599666  0.592813  \n",
      "1  0.184535  0.184143  0.179421  0.200265  0.179750  \n",
      "Affichage des affectations:  {0: [1, 2, 3, 4, 5, 10, 11, 17], 1: [0, 6, 7, 8, 9, 12, 13, 14, 15, 16, 18, 19]}\n"
     ]
    }
   ],
   "source": [
    "dataFrnom_Paris = normalisation(data_T_Paris)\n",
    "\n",
    "les_centres, l_affectation = kmoyennes(2, dataFrnom_Paris, 0.05, 100)\n",
    "\n",
    "print(\"Affichage des centres: \",les_centres)\n",
    "print(\"Affichage des affectations: \",l_affectation)"
   ]
  },
  {
   "cell_type": "code",
   "execution_count": 32,
   "metadata": {},
   "outputs": [
    {
     "name": "stdout",
     "output_type": "stream",
     "text": [
      "iteration 1 Inertie :  4.514219513121939 Difference:  0.07736738023168321\n",
      "iteration 2 Inertie :  4.591586893353623 Difference:  2.369875321261655\n",
      "iteration 3 Inertie :  2.2217115720919676 Difference:  8.1143603244615\n",
      "iteration 4 Inertie :  10.336071896553468 Difference:  7.20888567080684\n",
      "iteration 5 Inertie :  3.1271862257466285 Difference:  0.7204969437178335\n",
      "iteration 6 Inertie :  3.847683169464462 Difference:  0.4148181248353371\n",
      "iteration 7 Inertie :  4.262501294299799 Difference:  2.8770796679704977\n",
      "iteration 8 Inertie :  7.139580962270297 Difference:  1.5715704710619667\n",
      "iteration 9 Inertie :  5.56801049120833 Difference:  1.8314954175339797\n",
      "iteration 10 Inertie :  3.7365150736743504 Difference:  0.8550718196792721\n",
      "iteration 11 Inertie :  4.591586893353623 Difference:  0.24917656187500015\n",
      "iteration 12 Inertie :  4.840763455228623 Difference:  1.1667076912780852\n",
      "iteration 13 Inertie :  6.007471146506708 Difference:  0.2749684359602629\n",
      "iteration 14 Inertie :  6.282439582466971 Difference:  3.4041387333337583\n",
      "iteration 15 Inertie :  2.8783008491332125 Difference:  11.432254422898346\n",
      "iteration 16 Inertie :  14.310555272031559 Difference:  9.718968378677936\n",
      "iteration 17 Inertie :  4.591586893353623 Difference:  1.6517573915050558\n",
      "iteration 18 Inertie :  6.243344284858678 Difference:  3.0040466199069695\n",
      "iteration 19 Inertie :  3.239297664951709 Difference:  0.8720884923577867\n",
      "iteration 20 Inertie :  4.111386157309496 Difference:  1.68228657293978\n",
      "iteration 21 Inertie :  2.4290995843697156 Difference:  1.68649570693074\n",
      "iteration 22 Inertie :  4.115595291300456 Difference:  0.22333451597591214\n",
      "iteration 23 Inertie :  3.8922607753245435 Difference:  0.044577605860081526\n",
      "Affichage des centres:      janv-11   févr-11   mars-11    avr-11    mai-11   juin-11   juil-11  \\\n",
      "0  0.552146  0.572080  0.569818  0.568127  0.517527  0.564713  0.708550   \n",
      "1  0.047797  0.054296  0.049098  0.052663  0.045087  0.042493  0.073218   \n",
      "2  0.210785  0.222453  0.219771  0.221682  0.192599  0.209497  0.283806   \n",
      "\n",
      "    août-11   sept-11    oct-11    nov-11    déc-11  \n",
      "0  0.576254  0.566762  0.569531  0.579200  0.569861  \n",
      "1  0.053417  0.049256  0.048443  0.049082  0.040971  \n",
      "2  0.208138  0.207239  0.208266  0.230058  0.205979  \n",
      "Affichage des affectations:  {0: [1, 2, 3, 4, 5, 10, 11, 12, 17], 1: [7, 8, 13], 2: [0, 6, 9, 14, 15, 16, 18, 19]}\n"
     ]
    }
   ],
   "source": [
    "dataFrnom_Paris = normalisation(data_T_Paris)\n",
    "\n",
    "les_centres, l_affectation= kmoyennes(3, dataFrnom_Paris, 0.05, 100)\n",
    "\n",
    "print(\"Affichage des centres: \",les_centres)\n",
    "print(\"Affichage des affectations: \",l_affectation)\n",
    "#print(\"Affichage de l'inertie_totale: \",inertie_totale)"
   ]
  },
  {
   "cell_type": "code",
   "execution_count": 36,
   "metadata": {},
   "outputs": [
    {
     "name": "stdout",
     "output_type": "stream",
     "text": [
      "[14.310555272031559, 14.310555272031559, 4.653519901118004, 8.6644924897625, 4.330894839565947, 3.5318177661990275, 1.1504911137751614, 1.2747494152624963, 1.3795608665942736, 1.2103883710075019]\n"
     ]
    },
    {
     "data": {
      "image/png": "[encoded data removed]",
      "text/plain": [
       "<matplotlib.figure.Figure at 0x115bf1dd8>"
      ]
     },
     "metadata": {},
     "output_type": "display_data"
    }
   ],
   "source": [
    "def kmoyennes1(K,DF,epsilon,iter_max):\n",
    "    inertie_totale=float('inf')\n",
    "    for i in range(0,iter_max):\n",
    "        centroide=initialisation(K,DF)\n",
    "        DA=affecte_cluster(DF,centroide)\n",
    "        centroide=nouveaux_centroides(DF,DA)\n",
    "        tmp=inertie_globale(DF,DA)\n",
    "        if(abs(tmp - inertie_totale) <= epsilon):\n",
    "            break;\n",
    "        else:\n",
    "            inertie_totale=tmp\n",
    "    return centroide,DA,inertie_totale\n",
    "\n",
    "index = []\n",
    "list_inertie = []\n",
    "for K in range(0,10):\n",
    "    index.append(K)\n",
    "    list_inertie.append(kmoyennes1(K, dataFrnom_Paris, 0.05, 100)[2])\n",
    "print(list_inertie)    \n",
    "plt.plot(index,list_inertie)\n",
    "plt.title(\"Dessin la variation de l'inertie_global en fonction de K \")\n",
    "plt.xlabel(\"K\")\n",
    "plt.ylabel(\"Inertie_globale\")\n",
    "plt.show()"
   ]
  },
  {
   "cell_type": "markdown",
   "metadata": {},
   "source": [
    "<h3>Selon le graphe ci-dessus, plus le K augumente, plus l'inertie_global diminue</h3>"
   ]
  },
  {
   "cell_type": "code",
   "execution_count": 37,
   "metadata": {},
   "outputs": [
    {
     "data": {
      "image/png": "[encoded data removed]",
      "text/plain": [
       "<matplotlib.figure.Figure at 0x115bf10b8>"
      ]
     },
     "metadata": {},
     "output_type": "display_data"
    }
   ],
   "source": [
    "index = []\n",
    "list_inertie = []\n",
    "list_epsilon = [0.01,0.05,0.10,0.15,0.2,0.25,0.3,0.35,0.4,0.45,0.50]\n",
    "for epsilon in list_epsilon:\n",
    "    index.append(epsilon)\n",
    "    list_inertie.append(kmoyennes1(4, dataFrnom_Paris, epsilon, 100)[2])\n",
    "plt.plot(index,list_inertie)\n",
    "plt.title(\"Dessin la variation de l'inertie_global en fonction de l'epsilon \")\n",
    "plt.xlabel(\"Epsilon\")\n",
    "plt.ylabel(\"Inertie_globale\")\n",
    "plt.show()"
   ]
  },
  {
   "cell_type": "code",
   "execution_count": 38,
   "metadata": {},
   "outputs": [
    {
     "data": {
      "image/png": "[encoded data removed]",
      "text/plain": [
       "<matplotlib.figure.Figure at 0x115c74ba8>"
      ]
     },
     "metadata": {},
     "output_type": "display_data"
    }
   ],
   "source": [
    "index = []\n",
    "list_inertie = []\n",
    "nb_iteration_max = [50,100,150,200,250,300,350,400,450,500]\n",
    "for nb in nb_iteration_max:\n",
    "    index.append(nb)\n",
    "    list_inertie.append(kmoyennes1(4, dataFrnom_Paris, 0.05, nb)[2])\n",
    "plt.plot(index,list_inertie)\n",
    "plt.title(\"Dessin la variation de l'inertie_global en fonction du nombre d'itération maximale \")\n",
    "plt.xlabel(\"Iterations\")\n",
    "plt.ylabel(\"Inertie_globale\")\n",
    "plt.show()"
   ]
  }
 ],
 "metadata": {
  "kernelspec": {
   "display_name": "Python 3",
   "language": "python",
   "name": "python3"
  },
  "language_info": {
   "codemirror_mode": {
    "name": "ipython",
    "version": 3
   },
   "file_extension": ".py",
   "mimetype": "text/x-python",
   "name": "python",
   "nbconvert_exporter": "python",
   "pygments_lexer": "ipython3",
   "version": "3.5.4"
  }
 },
 "nbformat": 4,
 "nbformat_minor": 1
}
