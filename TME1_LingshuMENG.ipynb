{
 "cells": [
  {
   "cell_type": "markdown",
   "metadata": {},
   "source": [
    "L'objectif du TP est d'implémenter les mesures vues en cours: moyenne, médiane, quartiles, corrélations. Le dataset concerné est un jeu de donnée qui contient le prix des 3 qualités de médicaments dans différents états d'amériques. La référence du dataset est disponible ici : https://github.com/amitkaps/weed/blob/master/1-Acquire.ipynb"
   ]
  },
  {
   "cell_type": "code",
   "execution_count": 1,
   "metadata": {
    "collapsed": true
   },
   "outputs": [],
   "source": [
    "import numpy as np\n",
    "import pandas as pd\n",
    "from datetime import datetime as dt\n",
    "import matplotlib.pyplot as plt\n",
    "%matplotlib inline  "
   ]
  },
  {
   "cell_type": "markdown",
   "metadata": {},
   "source": [
    "Les données sont composées de trois fichiers:\n",
    "* Le prix par date et par état (pour trois qualités différentes)\n",
    "* Des informations démographiques sur chaque état\n",
    "* La population de chaque état\n"
   ]
  },
  {
   "cell_type": "code",
   "execution_count": 2,
   "metadata": {
    "collapsed": true
   },
   "outputs": [],
   "source": [
    "PATH = ('/Users/Lingshu/Desktop/3I026/tp_1/data/')\n",
    "prices_pd = pd.read_csv(f\"{PATH}Weed_Price.csv\", parse_dates=[-1])\n",
    "demography_pd = pd.read_csv(f\"{PATH}Demographics_State.csv\")\n",
    "population_pd = pd.read_csv(f\"{PATH}Population_State.csv\")"
   ]
  },
  {
   "cell_type": "markdown",
   "metadata": {},
   "source": [
    "## Exercice: \n",
    "* Commencez par visualiser la structure des données chargées (méthode ''head()'' et ''tail()'')"
   ]
  },
  {
   "cell_type": "code",
   "execution_count": 3,
   "metadata": {},
   "outputs": [
    {
     "data": {
      "text/html": [
       "<div>\n",
       "<style>\n",
       "    .dataframe thead tr:only-child th {\n",
       "        text-align: right;\n",
       "    }\n",
       "\n",
       "    .dataframe thead th {\n",
       "        text-align: left;\n",
       "    }\n",
       "\n",
       "    .dataframe tbody tr th {\n",
       "        vertical-align: top;\n",
       "    }\n",
       "</style>\n",
       "<table border=\"1\" class=\"dataframe\">\n",
       "  <thead>\n",
       "    <tr style=\"text-align: right;\">\n",
       "      <th></th>\n",
       "      <th>State</th>\n",
       "      <th>HighQ</th>\n",
       "      <th>HighQN</th>\n",
       "      <th>MedQ</th>\n",
       "      <th>MedQN</th>\n",
       "      <th>LowQ</th>\n",
       "      <th>LowQN</th>\n",
       "      <th>date</th>\n",
       "    </tr>\n",
       "  </thead>\n",
       "  <tbody>\n",
       "    <tr>\n",
       "      <th>0</th>\n",
       "      <td>Alabama</td>\n",
       "      <td>339.06</td>\n",
       "      <td>1042</td>\n",
       "      <td>198.64</td>\n",
       "      <td>933</td>\n",
       "      <td>149.49</td>\n",
       "      <td>123</td>\n",
       "      <td>2014-01-01</td>\n",
       "    </tr>\n",
       "    <tr>\n",
       "      <th>1</th>\n",
       "      <td>Alaska</td>\n",
       "      <td>288.75</td>\n",
       "      <td>252</td>\n",
       "      <td>260.60</td>\n",
       "      <td>297</td>\n",
       "      <td>388.58</td>\n",
       "      <td>26</td>\n",
       "      <td>2014-01-01</td>\n",
       "    </tr>\n",
       "    <tr>\n",
       "      <th>2</th>\n",
       "      <td>Arizona</td>\n",
       "      <td>303.31</td>\n",
       "      <td>1941</td>\n",
       "      <td>209.35</td>\n",
       "      <td>1625</td>\n",
       "      <td>189.45</td>\n",
       "      <td>222</td>\n",
       "      <td>2014-01-01</td>\n",
       "    </tr>\n",
       "    <tr>\n",
       "      <th>3</th>\n",
       "      <td>Arkansas</td>\n",
       "      <td>361.85</td>\n",
       "      <td>576</td>\n",
       "      <td>185.62</td>\n",
       "      <td>544</td>\n",
       "      <td>125.87</td>\n",
       "      <td>112</td>\n",
       "      <td>2014-01-01</td>\n",
       "    </tr>\n",
       "    <tr>\n",
       "      <th>4</th>\n",
       "      <td>California</td>\n",
       "      <td>248.78</td>\n",
       "      <td>12096</td>\n",
       "      <td>193.56</td>\n",
       "      <td>12812</td>\n",
       "      <td>192.92</td>\n",
       "      <td>778</td>\n",
       "      <td>2014-01-01</td>\n",
       "    </tr>\n",
       "  </tbody>\n",
       "</table>\n",
       "</div>"
      ],
      "text/plain": [
       "        State   HighQ  HighQN    MedQ  MedQN    LowQ  LowQN       date\n",
       "0     Alabama  339.06    1042  198.64    933  149.49    123 2014-01-01\n",
       "1      Alaska  288.75     252  260.60    297  388.58     26 2014-01-01\n",
       "2     Arizona  303.31    1941  209.35   1625  189.45    222 2014-01-01\n",
       "3    Arkansas  361.85     576  185.62    544  125.87    112 2014-01-01\n",
       "4  California  248.78   12096  193.56  12812  192.92    778 2014-01-01"
      ]
     },
     "execution_count": 3,
     "metadata": {},
     "output_type": "execute_result"
    }
   ],
   "source": [
    "prices_pd.head() #print first 5 rows"
   ]
  },
  {
   "cell_type": "code",
   "execution_count": 4,
   "metadata": {},
   "outputs": [
    {
     "data": {
      "text/html": [
       "<div>\n",
       "<style>\n",
       "    .dataframe thead tr:only-child th {\n",
       "        text-align: right;\n",
       "    }\n",
       "\n",
       "    .dataframe thead th {\n",
       "        text-align: left;\n",
       "    }\n",
       "\n",
       "    .dataframe tbody tr th {\n",
       "        vertical-align: top;\n",
       "    }\n",
       "</style>\n",
       "<table border=\"1\" class=\"dataframe\">\n",
       "  <thead>\n",
       "    <tr style=\"text-align: right;\">\n",
       "      <th></th>\n",
       "      <th>State</th>\n",
       "      <th>HighQ</th>\n",
       "      <th>HighQN</th>\n",
       "      <th>MedQ</th>\n",
       "      <th>MedQN</th>\n",
       "      <th>LowQ</th>\n",
       "      <th>LowQN</th>\n",
       "      <th>date</th>\n",
       "    </tr>\n",
       "  </thead>\n",
       "  <tbody>\n",
       "    <tr>\n",
       "      <th>22894</th>\n",
       "      <td>Virginia</td>\n",
       "      <td>364.98</td>\n",
       "      <td>3513</td>\n",
       "      <td>293.12</td>\n",
       "      <td>3079</td>\n",
       "      <td>NaN</td>\n",
       "      <td>284</td>\n",
       "      <td>2014-12-31</td>\n",
       "    </tr>\n",
       "    <tr>\n",
       "      <th>22895</th>\n",
       "      <td>Washington</td>\n",
       "      <td>233.05</td>\n",
       "      <td>3337</td>\n",
       "      <td>189.92</td>\n",
       "      <td>3562</td>\n",
       "      <td>NaN</td>\n",
       "      <td>160</td>\n",
       "      <td>2014-12-31</td>\n",
       "    </tr>\n",
       "    <tr>\n",
       "      <th>22896</th>\n",
       "      <td>West Virginia</td>\n",
       "      <td>359.35</td>\n",
       "      <td>551</td>\n",
       "      <td>224.03</td>\n",
       "      <td>545</td>\n",
       "      <td>NaN</td>\n",
       "      <td>60</td>\n",
       "      <td>2014-12-31</td>\n",
       "    </tr>\n",
       "    <tr>\n",
       "      <th>22897</th>\n",
       "      <td>Wisconsin</td>\n",
       "      <td>350.52</td>\n",
       "      <td>2244</td>\n",
       "      <td>272.71</td>\n",
       "      <td>2221</td>\n",
       "      <td>NaN</td>\n",
       "      <td>167</td>\n",
       "      <td>2014-12-31</td>\n",
       "    </tr>\n",
       "    <tr>\n",
       "      <th>22898</th>\n",
       "      <td>Wyoming</td>\n",
       "      <td>322.27</td>\n",
       "      <td>131</td>\n",
       "      <td>351.86</td>\n",
       "      <td>197</td>\n",
       "      <td>NaN</td>\n",
       "      <td>12</td>\n",
       "      <td>2014-12-31</td>\n",
       "    </tr>\n",
       "  </tbody>\n",
       "</table>\n",
       "</div>"
      ],
      "text/plain": [
       "               State   HighQ  HighQN    MedQ  MedQN  LowQ  LowQN       date\n",
       "22894       Virginia  364.98    3513  293.12   3079   NaN    284 2014-12-31\n",
       "22895     Washington  233.05    3337  189.92   3562   NaN    160 2014-12-31\n",
       "22896  West Virginia  359.35     551  224.03    545   NaN     60 2014-12-31\n",
       "22897      Wisconsin  350.52    2244  272.71   2221   NaN    167 2014-12-31\n",
       "22898        Wyoming  322.27     131  351.86    197   NaN     12 2014-12-31"
      ]
     },
     "execution_count": 4,
     "metadata": {},
     "output_type": "execute_result"
    }
   ],
   "source": [
    "prices_pd.tail() #print last 5 rows"
   ]
  },
  {
   "cell_type": "code",
   "execution_count": 5,
   "metadata": {},
   "outputs": [
    {
     "data": {
      "text/html": [
       "<div>\n",
       "<style>\n",
       "    .dataframe thead tr:only-child th {\n",
       "        text-align: right;\n",
       "    }\n",
       "\n",
       "    .dataframe thead th {\n",
       "        text-align: left;\n",
       "    }\n",
       "\n",
       "    .dataframe tbody tr th {\n",
       "        vertical-align: top;\n",
       "    }\n",
       "</style>\n",
       "<table border=\"1\" class=\"dataframe\">\n",
       "  <thead>\n",
       "    <tr style=\"text-align: right;\">\n",
       "      <th></th>\n",
       "      <th>region</th>\n",
       "      <th>total_population</th>\n",
       "      <th>percent_white</th>\n",
       "      <th>percent_black</th>\n",
       "      <th>percent_asian</th>\n",
       "      <th>percent_hispanic</th>\n",
       "      <th>per_capita_income</th>\n",
       "      <th>median_rent</th>\n",
       "      <th>median_age</th>\n",
       "    </tr>\n",
       "  </thead>\n",
       "  <tbody>\n",
       "    <tr>\n",
       "      <th>0</th>\n",
       "      <td>alabama</td>\n",
       "      <td>4799277</td>\n",
       "      <td>67</td>\n",
       "      <td>26</td>\n",
       "      <td>1</td>\n",
       "      <td>4</td>\n",
       "      <td>23680</td>\n",
       "      <td>501</td>\n",
       "      <td>38.1</td>\n",
       "    </tr>\n",
       "    <tr>\n",
       "      <th>1</th>\n",
       "      <td>alaska</td>\n",
       "      <td>720316</td>\n",
       "      <td>63</td>\n",
       "      <td>3</td>\n",
       "      <td>5</td>\n",
       "      <td>6</td>\n",
       "      <td>32651</td>\n",
       "      <td>978</td>\n",
       "      <td>33.6</td>\n",
       "    </tr>\n",
       "    <tr>\n",
       "      <th>2</th>\n",
       "      <td>arizona</td>\n",
       "      <td>6479703</td>\n",
       "      <td>57</td>\n",
       "      <td>4</td>\n",
       "      <td>3</td>\n",
       "      <td>30</td>\n",
       "      <td>25358</td>\n",
       "      <td>747</td>\n",
       "      <td>36.3</td>\n",
       "    </tr>\n",
       "    <tr>\n",
       "      <th>3</th>\n",
       "      <td>arkansas</td>\n",
       "      <td>2933369</td>\n",
       "      <td>74</td>\n",
       "      <td>15</td>\n",
       "      <td>1</td>\n",
       "      <td>7</td>\n",
       "      <td>22170</td>\n",
       "      <td>480</td>\n",
       "      <td>37.5</td>\n",
       "    </tr>\n",
       "    <tr>\n",
       "      <th>4</th>\n",
       "      <td>california</td>\n",
       "      <td>37659181</td>\n",
       "      <td>40</td>\n",
       "      <td>6</td>\n",
       "      <td>13</td>\n",
       "      <td>38</td>\n",
       "      <td>29527</td>\n",
       "      <td>1119</td>\n",
       "      <td>35.4</td>\n",
       "    </tr>\n",
       "  </tbody>\n",
       "</table>\n",
       "</div>"
      ],
      "text/plain": [
       "       region  total_population  percent_white  percent_black  percent_asian  \\\n",
       "0     alabama           4799277             67             26              1   \n",
       "1      alaska            720316             63              3              5   \n",
       "2     arizona           6479703             57              4              3   \n",
       "3    arkansas           2933369             74             15              1   \n",
       "4  california          37659181             40              6             13   \n",
       "\n",
       "   percent_hispanic  per_capita_income  median_rent  median_age  \n",
       "0                 4              23680          501        38.1  \n",
       "1                 6              32651          978        33.6  \n",
       "2                30              25358          747        36.3  \n",
       "3                 7              22170          480        37.5  \n",
       "4                38              29527         1119        35.4  "
      ]
     },
     "execution_count": 5,
     "metadata": {},
     "output_type": "execute_result"
    }
   ],
   "source": [
    "demography_pd.head()"
   ]
  },
  {
   "cell_type": "code",
   "execution_count": 6,
   "metadata": {},
   "outputs": [
    {
     "data": {
      "text/html": [
       "<div>\n",
       "<style>\n",
       "    .dataframe thead tr:only-child th {\n",
       "        text-align: right;\n",
       "    }\n",
       "\n",
       "    .dataframe thead th {\n",
       "        text-align: left;\n",
       "    }\n",
       "\n",
       "    .dataframe tbody tr th {\n",
       "        vertical-align: top;\n",
       "    }\n",
       "</style>\n",
       "<table border=\"1\" class=\"dataframe\">\n",
       "  <thead>\n",
       "    <tr style=\"text-align: right;\">\n",
       "      <th></th>\n",
       "      <th>region</th>\n",
       "      <th>value</th>\n",
       "    </tr>\n",
       "  </thead>\n",
       "  <tbody>\n",
       "    <tr>\n",
       "      <th>0</th>\n",
       "      <td>alabama</td>\n",
       "      <td>4777326</td>\n",
       "    </tr>\n",
       "    <tr>\n",
       "      <th>1</th>\n",
       "      <td>alaska</td>\n",
       "      <td>711139</td>\n",
       "    </tr>\n",
       "    <tr>\n",
       "      <th>2</th>\n",
       "      <td>arizona</td>\n",
       "      <td>6410979</td>\n",
       "    </tr>\n",
       "    <tr>\n",
       "      <th>3</th>\n",
       "      <td>arkansas</td>\n",
       "      <td>2916372</td>\n",
       "    </tr>\n",
       "    <tr>\n",
       "      <th>4</th>\n",
       "      <td>california</td>\n",
       "      <td>37325068</td>\n",
       "    </tr>\n",
       "  </tbody>\n",
       "</table>\n",
       "</div>"
      ],
      "text/plain": [
       "       region     value\n",
       "0     alabama   4777326\n",
       "1      alaska    711139\n",
       "2     arizona   6410979\n",
       "3    arkansas   2916372\n",
       "4  california  37325068"
      ]
     },
     "execution_count": 6,
     "metadata": {},
     "output_type": "execute_result"
    }
   ],
   "source": [
    "population_pd.head() "
   ]
  },
  {
   "cell_type": "markdown",
   "metadata": {},
   "source": [
    "Les types des données peuvent être récupérer à travers la méthode ''dtypes''"
   ]
  },
  {
   "cell_type": "code",
   "execution_count": 7,
   "metadata": {},
   "outputs": [
    {
     "data": {
      "text/plain": [
       "State             object\n",
       "HighQ            float64\n",
       "HighQN             int64\n",
       "MedQ             float64\n",
       "MedQN              int64\n",
       "LowQ             float64\n",
       "LowQN              int64\n",
       "date      datetime64[ns]\n",
       "dtype: object"
      ]
     },
     "execution_count": 7,
     "metadata": {},
     "output_type": "execute_result"
    }
   ],
   "source": [
    "prices_pd.dtypes "
   ]
  },
  {
   "cell_type": "markdown",
   "metadata": {},
   "source": [
    "Nous allons maintenant écrire les fonctions permettant de calculer des mesures ''basiques'' sur des données unidimensionnelles. Pour cela, nous allons travailler avec la structure ''array'' de numpy. Pour convertir une colonne ''pandas'' en ''array'', voici commment faire:"
   ]
  },
  {
   "cell_type": "code",
   "execution_count": 8,
   "metadata": {},
   "outputs": [
    {
     "data": {
      "text/plain": [
       "array([ 198.64,  260.6 ,  209.35, ...,  224.03,  272.71,  351.86])"
      ]
     },
     "execution_count": 8,
     "metadata": {},
     "output_type": "execute_result"
    }
   ],
   "source": [
    "prices_pd[\"MedQ\"].values "
   ]
  },
  {
   "cell_type": "markdown",
   "metadata": {},
   "source": [
    "## La moyenne\n",
    "\n",
    "### Exercice: \n",
    "Ecrire la fonction moyenne(valeurs) qui calcule la moyenne des éléments d'un tableau (en utilisant la boucle ''for'', sans utiliser les fonctions déjà implémentées dans numpy)"
   ]
  },
  {
   "cell_type": "code",
   "execution_count": 9,
   "metadata": {},
   "outputs": [
    {
     "name": "stdout",
     "output_type": "stream",
     "text": [
      "La moyenne (qualité moyenne) est : 247.618306 dollars\n"
     ]
    }
   ],
   "source": [
    "def moyenne_for(target, prices):\n",
    "    list_MedQ = prices[target].values\n",
    "    result = 0\n",
    "    for i in range(len(list_MedQ)):\n",
    "        result += list_MedQ[i]\n",
    "    return result/len(list_MedQ)\n",
    "\n",
    "print('La moyenne (qualité moyenne) est : %f dollars' % moyenne_for(\"MedQ\", prices_pd))"
   ]
  },
  {
   "cell_type": "markdown",
   "metadata": {},
   "source": [
    "Tester la fonction moyenne et comparer vos résultats avec l'implémentation de base de python"
   ]
  },
  {
   "cell_type": "code",
   "execution_count": 10,
   "metadata": {},
   "outputs": [
    {
     "name": "stdout",
     "output_type": "stream",
     "text": [
      "La moyenne (qualité moyenne) est : 247.618306 dollars\n"
     ]
    }
   ],
   "source": [
    "def moyenne_fon(target, prices):\n",
    "    return prices[target].mean()\n",
    "\n",
    "print(\"La moyenne (qualité moyenne) est : %f dollars\" % moyenne_fon('MedQ', prices_pd))"
   ]
  },
  {
   "cell_type": "markdown",
   "metadata": {},
   "source": [
    "### Exercice:\n",
    "Calculez:\n",
    "* La moyenne des prix pour les qualités medium et high\n",
    "* La moyenne des prix pour les qualités medium et high dans l'état de ''New York''\n",
    "\n",
    "Les calculs seront fait d'une part à l'aide de votre fonction, et d'autre part à l'aide des fonctions de python. "
   ]
  },
  {
   "cell_type": "code",
   "execution_count": 11,
   "metadata": {},
   "outputs": [
    {
     "name": "stdout",
     "output_type": "stream",
     "text": [
      "La moyenne (qualité moyenne) est : 247.618306 dollars\n",
      "La moyenne de prix (qualité high) est : 329.759854 dollars\n",
      "La moyenne de prix (qualité medium) dans New York est : 265.376949 dollars\n",
      "La moyenne de prix (qualité high) dans New York est : 346.912762 dollars\n"
     ]
    }
   ],
   "source": [
    "print(\"La moyenne (qualité moyenne) est : %f dollars\" % moyenne_for('MedQ', prices_pd))\n",
    "print(\"La moyenne de prix (qualité high) est : %f dollars\" % moyenne_fon('HighQ', prices_pd))\n",
    "\n",
    "data_NY = prices_pd.groupby(['State']).get_group('New York')\n",
    "print(\"La moyenne de prix (qualité medium) dans New York est : %f dollars\" % moyenne_for('MedQ', data_NY))\n",
    "print(\"La moyenne de prix (qualité high) dans New York est : %f dollars\" % moyenne_fon('HighQ', data_NY))\n"
   ]
  },
  {
   "cell_type": "markdown",
   "metadata": {},
   "source": [
    "### Exercice\n",
    "Calculez la moyenne des prix qualités medium et high dans tous les états -- la liste des états est obtenues ainsi states=np.unique(prices_pd[\"State\"].values)\n",
    "\n",
    "Pour cela, vous pouvez (devez) le faire de deux manières:\n",
    "* Faites une boucle sur chacun des états\n",
    "* Utilisez la fonction groupby comme expliqué ici : http://pandas.pydata.org/pandas-docs/stable/groupby.html"
   ]
  },
  {
   "cell_type": "code",
   "execution_count": 12,
   "metadata": {},
   "outputs": [
    {
     "name": "stdout",
     "output_type": "stream",
     "text": [
      "La moyenne de prix (qualité medium) dans all states est : 247.618306 dollars\n",
      "La moyenne de prix (qualité high) dans all states est : 329.759854 dollars\n"
     ]
    }
   ],
   "source": [
    "states = np.unique(prices_pd[\"State\"].values)\n",
    "\n",
    "result_MedQ = []\n",
    "result_HighQ = []\n",
    "\n",
    "for i in range(len(states)):\n",
    "    data_AllStates = prices_pd.groupby(['State']).get_group(states[i])   \n",
    "    result_MedQ.append(moyenne_fon('MedQ', data_AllStates))\n",
    "    result_HighQ.append(moyenne_fon('HighQ', data_AllStates))\n",
    "    \n",
    "print(\"La moyenne de prix (qualité medium) dans all states est : %f dollars\" % (sum(result_MedQ)/len(result_MedQ)))\n",
    "print(\"La moyenne de prix (qualité high) dans all states est : %f dollars\" % (sum(result_HighQ)/len(result_HighQ)))\n"
   ]
  },
  {
   "cell_type": "markdown",
   "metadata": {},
   "source": [
    "### Exercice\n",
    "Calculez la moyenne (avec les deux fonctions) sur le prix de la basse qualité. Que constatez vous ? Expliquez..."
   ]
  },
  {
   "cell_type": "code",
   "execution_count": 13,
   "metadata": {},
   "outputs": [
    {
     "name": "stdout",
     "output_type": "stream",
     "text": [
      "La moyenne(qualité moyenne) est : nan\n",
      "La moyenne (qualité moyenne) est : 203.747847\n"
     ]
    }
   ],
   "source": [
    "# Première fonction en utilisant la boucle 'for'\n",
    "print('La moyenne(qualité moyenne) est : %f' % moyenne_for('LowQ', prices_pd))\n",
    "\n",
    "#Seconde fonction en utilisant la méthode mean()\n",
    "print('La moyenne (qualité moyenne) est : %f' % moyenne_fon('LowQ', prices_pd))\n",
    "\n",
    "# Première fonction avoir un result \"nan dollars\" (Nan means not a number) c'est-à-dire une donnée perdue \n",
    "# Les données perdues sont normals dans une data Frame. \n",
    "# Pandas a fourni quelques méthodes pouvoir filtrer les données perdues automatiquement.\n",
    "# Par exemple, la méthode meane(), il peut donner la moyenne avec filtrer les données perdues automatiquement.\n"
   ]
  },
  {
   "cell_type": "markdown",
   "metadata": {},
   "source": [
    "### Exercice: \n",
    "Remplacez le NAN de la colonne LowQ à l'aide de la fonction décrite ici: http://pandas.pydata.org/pandas-docs/version/0.17.1/generated/pandas.DataFrame.fillna.html. Nous souhaitons plus particulièrement utiliser la méthode ''fill'' après avoir trié par état et par date : prices_pd.sort(columns=['State', 'date'], inplace=True). Expliquez ce que cela fait exactement"
   ]
  },
  {
   "cell_type": "code",
   "execution_count": 14,
   "metadata": {
    "collapsed": true
   },
   "outputs": [],
   "source": [
    "prices_pd.fillna(0, inplace = True)\n",
    "\n",
    "# La méthode fillna() pouvoir remplacer les données NA/NAN et retourner le résultat après les remplacer \n",
    "# \"inplace = True\" c'est-à-dire changer les données dans la dataFrame original"
   ]
  },
  {
   "cell_type": "markdown",
   "metadata": {},
   "source": [
    "### Exercice: \n",
    "Recalculez la moyenne des prix pour la qualité 'Low'. Qu'en est-il maintenant ? "
   ]
  },
  {
   "cell_type": "code",
   "execution_count": 15,
   "metadata": {},
   "outputs": [
    {
     "name": "stdout",
     "output_type": "stream",
     "text": [
      "La moyenne(qualité moyenne) est : 109.815098\n",
      "La moyenne (qualité moyenne) est : 109.815098\n"
     ]
    }
   ],
   "source": [
    "# Première fonction en utilisant la boucle 'for'\n",
    "print('La moyenne(qualité moyenne) est : %f' % moyenne_for('LowQ', prices_pd))\n",
    "\n",
    "#Seconde fonction en utilisant la méthode mean()\n",
    "print('La moyenne (qualité moyenne) est : %f' % moyenne_fon('LowQ', prices_pd))\n",
    "\n",
    "#Cela marché tous les deux, mais la moyenne est diminué"
   ]
  },
  {
   "cell_type": "markdown",
   "metadata": {},
   "source": [
    "### Exercice :\n",
    "Dessinez l'histogramme des moyennes des prix (LowQ) par etat. Pour cela, inspirez vous de http://matplotlib.org/examples/lines_bars_and_markers/barh_demo.html"
   ]
  },
  {
   "cell_type": "code",
   "execution_count": 16,
   "metadata": {},
   "outputs": [
    {
     "data": {
      "image/png": "[encoded data removed]",
      "text/plain": [
       "<matplotlib.figure.Figure at 0x111594898>"
      ]
     },
     "metadata": {},
     "output_type": "display_data"
    }
   ],
   "source": [
    "import matplotlib.pyplot as plt\n",
    "plt.rcdefaults()\n",
    "import matplotlib.pyplot as plt\n",
    "\n",
    "y_pos = np.arange(len(states))\n",
    "\n",
    "result_LowQ = []\n",
    "for i in range(len(states)):\n",
    "    data_AllStates = prices_pd.groupby(['State']).get_group(states[i])   \n",
    "    result_LowQ.append(moyenne_fon('LowQ', data_AllStates))\n",
    "#print(y_pos)\n",
    "#print(result_LowQ)\n",
    "    \n",
    "plt.barh(y_pos, result_LowQ, align='center', alpha=0.4)\n",
    "\n",
    "# ticks\n",
    "plt.yticks(y_pos, states, fontsize = 5) \n",
    "\n",
    "# labels read top-to-bottom             \n",
    "#plt.invert_yaxis()  \n",
    "plt.xlabel('Performance')\n",
    "\n",
    "# Title              \n",
    "plt.title('Moyennes des prix (LowQ) par etat')\n",
    "\n",
    "plt.show()\n",
    "\n"
   ]
  },
  {
   "cell_type": "markdown",
   "metadata": {},
   "source": [
    "## Estimation de densité\n",
    "\n",
    "Nous allons maintenant nous intéresser à calculer le nombre d'états concernés par une fourchette de prix. Pour cela:\n",
    "* Calculer le tableau des prix moyens de la facon suivante\n",
    "    \n"
   ]
  },
  {
   "cell_type": "code",
   "execution_count": 17,
   "metadata": {
    "collapsed": true
   },
   "outputs": [],
   "source": [
    "prix_moyens=prices_pd[[\"State\",\"LowQ\"]].groupby([\"State\"]).mean()\n",
    "#print(prix_moyens)\n",
    "#print(\"===========\")\n",
    "prix_moyens=prix_moyens.values.ravel()\n",
    "#print(prix_moyens)"
   ]
  },
  {
   "cell_type": "markdown",
   "metadata": {},
   "source": [
    "### Exercice : \n",
    "* Calculez les valeurs min et max des prix moyens"
   ]
  },
  {
   "cell_type": "code",
   "execution_count": 18,
   "metadata": {},
   "outputs": [
    {
     "name": "stdout",
     "output_type": "stream",
     "text": [
      "43.5982405345\n",
      "355.643563474\n"
     ]
    }
   ],
   "source": [
    "print (prix_moyens.min())\n",
    "print (prix_moyens.max())"
   ]
  },
  {
   "cell_type": "markdown",
   "metadata": {},
   "source": [
    "### Exercice : \n",
    "Prenez un intervalle de discrétisation de taille 20, et calculez l'effectif (sous forme d'un vecteur) du nombre d'états par ''bins''. Dessinez l'histogramme correspondant"
   ]
  },
  {
   "cell_type": "code",
   "execution_count": 19,
   "metadata": {},
   "outputs": [
    {
     "data": {
      "image/png": "[encoded data removed]",
      "text/plain": [
       "<matplotlib.figure.Figure at 0x11a2ec898>"
      ]
     },
     "metadata": {},
     "output_type": "display_data"
    }
   ],
   "source": [
    "import matplotlib.pyplot as plt\n",
    "plt.rcdefaults()\n",
    "import numpy as np\n",
    "import matplotlib.pyplot as plt\n",
    "\n",
    "cats = pd.Series(pd.cut(demography_pd['region'].index, 20))\n",
    "cats_intervalle = set(pd.Series(pd.cut(demography_pd['region'].index, 20)))\n",
    "#print(cats_intervalle)\n",
    "y_pos = np.arange(len(cats_intervalle))\n",
    "#print(y_pos)\n",
    "\n",
    "#print(pd.value_counts(cats))\n",
    "count_value = np.ndarray.tolist(pd.value_counts(cats).values)\n",
    "#print(count_value)\n",
    "\n",
    "plt.barh(y_pos, count_value, align='center', alpha=0.4)\n",
    "\n",
    "# ticks\n",
    "plt.yticks(y_pos, cats_intervalle) \n",
    "\n",
    "# label\n",
    "plt.xlabel('Performance')\n",
    "\n",
    "# Title              \n",
    "plt.title('L\\'effectif du nombre d\\'etats')\n",
    "\n",
    "plt.show()"
   ]
  },
  {
   "cell_type": "markdown",
   "metadata": {},
   "source": [
    "### Exercice :\n",
    "Prenez maintenant un intervalle de taille 40"
   ]
  },
  {
   "cell_type": "code",
   "execution_count": 20,
   "metadata": {},
   "outputs": [
    {
     "data": {
      "image/png": "[encoded data removed]",
      "text/plain": [
       "<matplotlib.figure.Figure at 0x111c626a0>"
      ]
     },
     "metadata": {},
     "output_type": "display_data"
    }
   ],
   "source": [
    "import matplotlib.pyplot as plt\n",
    "plt.rcdefaults()\n",
    "import numpy as np\n",
    "import matplotlib.pyplot as plt\n",
    "\n",
    "cats = pd.Series(pd.cut(demography_pd['region'].index, 40))\n",
    "cats_intervalle = set(pd.Series(pd.cut(demography_pd['region'].index, 40)))\n",
    "#print(cats_intervalle)\n",
    "y_pos = np.arange(len(cats_intervalle))\n",
    "#print(y_pos)\n",
    "\n",
    "#print(pd.value_counts(cats))\n",
    "count_value = np.ndarray.tolist(pd.value_counts(cats).values)\n",
    "#print(count_value)\n",
    "\n",
    "plt.barh(y_pos, count_value, align='center', alpha=0.4)\n",
    "\n",
    "# ticks\n",
    "plt.yticks(y_pos, cats_intervalle, fontsize = 6.5) \n",
    "\n",
    "# label\n",
    "plt.xlabel('Performance')\n",
    "\n",
    "# Title              \n",
    "plt.title('L\\'effectif du nombre d\\'etats')\n",
    "\n",
    "plt.show()"
   ]
  },
  {
   "cell_type": "markdown",
   "metadata": {},
   "source": [
    "On peut faire cela de la manière suivante avec pandas"
   ]
  },
  {
   "cell_type": "code",
   "execution_count": 21,
   "metadata": {},
   "outputs": [
    {
     "data": {
      "text/plain": [
       "<matplotlib.axes._subplots.AxesSubplot at 0x11a4f4630>"
      ]
     },
     "execution_count": 21,
     "metadata": {},
     "output_type": "execute_result"
    }
   ],
   "source": [
    "effectif = pd.cut(prix_moyens,20)\n",
    "effectif2 = pd.value_counts(effectif)\n",
    "effectif3 = effectif2.reindex(effectif.categories)\n",
    "effectif3.plot(kind = 'bar')"
   ]
  },
  {
   "cell_type": "markdown",
   "metadata": {},
   "source": [
    "Et comme cela avec numpy"
   ]
  },
  {
   "cell_type": "code",
   "execution_count": 22,
   "metadata": {},
   "outputs": [
    {
     "data": {
      "text/plain": [
       "(array([  1.,   6.,  15.,  11.,   6.,   8.,   0.,   0.,   1.,   0.,   1.,\n",
       "          0.,   0.,   0.,   0.,   0.,   0.,   0.,   0.,   2.]),\n",
       " array([  43.59824053,   59.20050668,   74.80277283,   90.40503898,\n",
       "         106.00730512,  121.60957127,  137.21183742,  152.81410356,\n",
       "         168.41636971,  184.01863586,  199.620902  ,  215.22316815,\n",
       "         230.8254343 ,  246.42770045,  262.02996659,  277.63223274,\n",
       "         293.23449889,  308.83676503,  324.43903118,  340.04129733,\n",
       "         355.64356347]),\n",
       " <a list of 20 Patch objects>)"
      ]
     },
     "execution_count": 22,
     "metadata": {},
     "output_type": "execute_result"
    }
   ],
   "source": [
    "plt.hist(prix_moyens,bins=20)"
   ]
  },
  {
   "cell_type": "markdown",
   "metadata": {},
   "source": [
    "L'estimation de densité en pandas peut se faire ainsi"
   ]
  },
  {
   "cell_type": "code",
   "execution_count": 23,
   "metadata": {},
   "outputs": [
    {
     "data": {
      "text/plain": [
       "<matplotlib.axes._subplots.AxesSubplot at 0x11a356be0>"
      ]
     },
     "execution_count": 23,
     "metadata": {},
     "output_type": "execute_result"
    }
   ],
   "source": [
    "effectif=pd.DataFrame(prix_moyens)\n",
    "effectif.plot(kind='kde')"
   ]
  },
  {
   "cell_type": "markdown",
   "metadata": {},
   "source": [
    "## Densité cumulée\n",
    "\n",
    "### Exercice: \n",
    "Calculez la densité cumulée à partir de prix_moyens, avec un intervalle de discrétisation donné et dessinez. La méthode doit retourner deux tableau: l'abscisse X (les prix moyens possibles entre prix min et prix max), et la densité associée"
   ]
  },
  {
   "cell_type": "code",
   "execution_count": null,
   "metadata": {},
   "outputs": [],
   "source": []
  },
  {
   "cell_type": "markdown",
   "metadata": {},
   "source": [
    "### Exercice : \n",
    "Ecrire la fonction Q(alpha,x,y) qui permet de trouver le quartile(alpha,x,y) - quartile(0.5,x,densite) correspondra à la médiane. Calculez et dessinez (sur une feuille) le boxplot"
   ]
  },
  {
   "cell_type": "code",
   "execution_count": 24,
   "metadata": {},
   "outputs": [],
   "source": [
    "def Q(alpha, x, y):\n",
    "    d = df.quartile(alpha, x, y)- quartile(0.5, x, desite)\n",
    "    return d\n",
    "\n",
    "#plt.boxplot(Q(alpha, x, y), sym='r*',vert=False,patch_artist=True,meanline=False,showmeans=True)\n",
    "#plt.show()"
   ]
  },
  {
   "cell_type": "markdown",
   "metadata": {},
   "source": [
    "Le boxplot en pandas se fait ainsi:"
   ]
  },
  {
   "cell_type": "code",
   "execution_count": 25,
   "metadata": {},
   "outputs": [
    {
     "data": {
      "text/plain": [
       "<matplotlib.axes._subplots.AxesSubplot at 0x11a356be0>"
      ]
     },
     "execution_count": 25,
     "metadata": {},
     "output_type": "execute_result"
    }
   ],
   "source": [
    "a=pd.DataFrame(prix_moyens)\n",
    "a.boxplot()"
   ]
  },
  {
   "cell_type": "markdown",
   "metadata": {},
   "source": [
    "## Variance\n",
    "\n",
    "### Exercice : \n",
    "On souhaite maintenant rajouter une colonne ''HighQ_var'' aux données originales contenant la variance des prix par état. ATTENTION, cela suppose de traiter les états (State) les uns après les autres"
   ]
  },
  {
   "cell_type": "code",
   "execution_count": 26,
   "metadata": {},
   "outputs": [
    {
     "data": {
      "text/html": [
       "<div>\n",
       "<style>\n",
       "    .dataframe thead tr:only-child th {\n",
       "        text-align: right;\n",
       "    }\n",
       "\n",
       "    .dataframe thead th {\n",
       "        text-align: left;\n",
       "    }\n",
       "\n",
       "    .dataframe tbody tr th {\n",
       "        vertical-align: top;\n",
       "    }\n",
       "</style>\n",
       "<table border=\"1\" class=\"dataframe\">\n",
       "  <thead>\n",
       "    <tr style=\"text-align: right;\">\n",
       "      <th></th>\n",
       "      <th>HighQ_var</th>\n",
       "      <th>State</th>\n",
       "      <th>HighQ</th>\n",
       "      <th>HighQN</th>\n",
       "      <th>MedQ</th>\n",
       "      <th>MedQN</th>\n",
       "      <th>LowQ</th>\n",
       "      <th>LowQN</th>\n",
       "      <th>date</th>\n",
       "    </tr>\n",
       "  </thead>\n",
       "  <tbody>\n",
       "    <tr>\n",
       "      <th>0</th>\n",
       "      <td>0</td>\n",
       "      <td>Alabama</td>\n",
       "      <td>339.06</td>\n",
       "      <td>1042</td>\n",
       "      <td>198.64</td>\n",
       "      <td>933</td>\n",
       "      <td>149.49</td>\n",
       "      <td>123</td>\n",
       "      <td>2014-01-01</td>\n",
       "    </tr>\n",
       "    <tr>\n",
       "      <th>1</th>\n",
       "      <td>0</td>\n",
       "      <td>Alaska</td>\n",
       "      <td>288.75</td>\n",
       "      <td>252</td>\n",
       "      <td>260.60</td>\n",
       "      <td>297</td>\n",
       "      <td>388.58</td>\n",
       "      <td>26</td>\n",
       "      <td>2014-01-01</td>\n",
       "    </tr>\n",
       "    <tr>\n",
       "      <th>2</th>\n",
       "      <td>0</td>\n",
       "      <td>Arizona</td>\n",
       "      <td>303.31</td>\n",
       "      <td>1941</td>\n",
       "      <td>209.35</td>\n",
       "      <td>1625</td>\n",
       "      <td>189.45</td>\n",
       "      <td>222</td>\n",
       "      <td>2014-01-01</td>\n",
       "    </tr>\n",
       "    <tr>\n",
       "      <th>3</th>\n",
       "      <td>0</td>\n",
       "      <td>Arkansas</td>\n",
       "      <td>361.85</td>\n",
       "      <td>576</td>\n",
       "      <td>185.62</td>\n",
       "      <td>544</td>\n",
       "      <td>125.87</td>\n",
       "      <td>112</td>\n",
       "      <td>2014-01-01</td>\n",
       "    </tr>\n",
       "    <tr>\n",
       "      <th>4</th>\n",
       "      <td>0</td>\n",
       "      <td>California</td>\n",
       "      <td>248.78</td>\n",
       "      <td>12096</td>\n",
       "      <td>193.56</td>\n",
       "      <td>12812</td>\n",
       "      <td>192.92</td>\n",
       "      <td>778</td>\n",
       "      <td>2014-01-01</td>\n",
       "    </tr>\n",
       "  </tbody>\n",
       "</table>\n",
       "</div>"
      ],
      "text/plain": [
       "   HighQ_var       State   HighQ  HighQN    MedQ  MedQN    LowQ  LowQN  \\\n",
       "0          0     Alabama  339.06    1042  198.64    933  149.49    123   \n",
       "1          0      Alaska  288.75     252  260.60    297  388.58     26   \n",
       "2          0     Arizona  303.31    1941  209.35   1625  189.45    222   \n",
       "3          0    Arkansas  361.85     576  185.62    544  125.87    112   \n",
       "4          0  California  248.78   12096  193.56  12812  192.92    778   \n",
       "\n",
       "        date  \n",
       "0 2014-01-01  \n",
       "1 2014-01-01  \n",
       "2 2014-01-01  \n",
       "3 2014-01-01  \n",
       "4 2014-01-01  "
      ]
     },
     "execution_count": 26,
     "metadata": {},
     "output_type": "execute_result"
    }
   ],
   "source": [
    "prices_pd.insert(0, 'HighQ_var', 0)\n",
    "prices_pd.head()"
   ]
  },
  {
   "cell_type": "markdown",
   "metadata": {},
   "source": [
    "## Synthèse : La californie\n",
    "\n",
    "### Exercice : \n",
    "Pandas permet de faire la synthèse de données de la manière suivante: \n",
    "data.describe()\n",
    "* Vérifier que les valeurs trouvée sur l'état de la californie collent avec les valeurs trouvées par vos différentes méthodes. \n",
    "** Pour cela: mettez le code qui utilise vos fonctions (moyennes, variance, et quartiles) ainsi que le résutlats de la fonction describe"
   ]
  },
  {
   "cell_type": "code",
   "execution_count": 27,
   "metadata": {},
   "outputs": [
    {
     "ename": "TypeError",
     "evalue": "'method' object is not subscriptable",
     "output_type": "error",
     "traceback": [
      "\u001b[0;31m---------------------------------------------------------------------------\u001b[0m",
      "\u001b[0;31mTypeError\u001b[0m                                 Traceback (most recent call last)",
      "\u001b[0;32m<ipython-input-27-8acc9fe6d8a0>\u001b[0m in \u001b[0;36m<module>\u001b[0;34m()\u001b[0m\n\u001b[0;32m----> 1\u001b[0;31m \u001b[0mprices_pd\u001b[0m\u001b[0;34m.\u001b[0m\u001b[0mgroupby\u001b[0m\u001b[0;34m(\u001b[0m\u001b[0;34m[\u001b[0m\u001b[0;34m'State'\u001b[0m\u001b[0;34m]\u001b[0m\u001b[0;34m)\u001b[0m\u001b[0;34m.\u001b[0m\u001b[0mget_group\u001b[0m\u001b[0;34m[\u001b[0m\u001b[0;34m'california'\u001b[0m\u001b[0;34m]\u001b[0m\u001b[0;34m.\u001b[0m\u001b[0mdescribe\u001b[0m\u001b[0;34m(\u001b[0m\u001b[0;34m)\u001b[0m\u001b[0;34m\u001b[0m\u001b[0m\n\u001b[0m",
      "\u001b[0;31mTypeError\u001b[0m: 'method' object is not subscriptable"
     ]
    }
   ],
   "source": [
    "prices_pd.groupby(['State']).get_group['california'].describe()"
   ]
  },
  {
   "cell_type": "markdown",
   "metadata": {},
   "source": [
    "## Matrice de corrélation\n",
    "\n",
    "### Exercice: \n",
    "\n",
    "Nous allons maintenant nous intéresser à calculer la corrélation entre les prix à new-york et les prix en californie\n",
    "* Commencez par dessinez le nuage des points des prix(par date) en californie (axe x) et à new york (axe y) pour la bonne qualité. Pour cela on va d'abord créer un DataFrame avec le prix de californie et de new york par date"
   ]
  },
  {
   "cell_type": "code",
   "execution_count": null,
   "metadata": {},
   "outputs": [],
   "source": [
    "prix_ny=prices_pd[prices_pd['State']=='New York']\n",
    "prix_ca=prices_pd[prices_pd['State']=='California']\n",
    "prix_ca_ny=prix_ca.merge(prix_ny,on='date')\n",
    "\n",
    "prix_ca_ny.head()\n"
   ]
  },
  {
   "cell_type": "markdown",
   "metadata": {},
   "source": [
    "### Exercice\n",
    "\n",
    "Dessinez le nuage de points : voir http://matplotlib.org/examples/shapes_and_collections/scatter_demo.html"
   ]
  },
  {
   "cell_type": "code",
   "execution_count": null,
   "metadata": {},
   "outputs": [],
   "source": [
    "import numpy as np\n",
    "import matplotlib.pyplot as plt\n",
    "N = 50\n",
    "#print(prix_ca_ny['HighQ_y'].values)\n",
    "x1 = prix_ca_ny['HighQ_y'].values\n",
    "x2 = prix_ca_ny['HighQ_x'].values\n",
    "y = prix_ca_ny['date'].values\n",
    "colors = np.random.rand(N)\n",
    "area = np.pi * (np.random.rand(N)/10)  # 0 to 15 point radii\n",
    "\n",
    "plt.scatter(x1, y, s=area, color='r', alpha=0.5)\n",
    "plt.scatter(x2, y, s=area, color='b', alpha=0.5)\n",
    "\n",
    "plt.legend(labels = ['New York', 'California'], loc = 'best')\n",
    "\n",
    "plt.xlabel('Les prix pour la bonne qualité')\n",
    "plt.ylabel('Date')\n",
    "\n",
    "plt.show()"
   ]
  },
  {
   "cell_type": "markdown",
   "metadata": {},
   "source": [
    "### Exercice\n",
    "\n",
    "A l'aide de la fonction moyenne écrite précédemment, écrire une fonction correlation(x,y) qui calcule la correlation lineaire entre deux tableaux numpy"
   ]
  },
  {
   "cell_type": "code",
   "execution_count": null,
   "metadata": {
    "collapsed": true
   },
   "outputs": [],
   "source": [
    "from numpy import array, cov, corrcoef\n",
    "\n",
    "def std_fon(prices, target):\n",
    "    return prices[target].std()\n",
    "\n",
    "#print(\"La Déviation standard est : %f \" % std_fon(prix_ca_ny, 'HighQ_x'))\n",
    "    \n",
    "def correlation(x, y): \n",
    "    r = 0\n",
    "    for i in range(len(x)):\n",
    "        a = (x[i]-moyenne_fon('HighQ_x', prix_ca_ny))/std_fon(prix_ca_ny, 'HighQ_x')\n",
    "        b = (y[i]-moyenne_fon('HighQ_y', prix_ca_ny))/std_fon(prix_ca_ny, 'HighQ_y')\n",
    "        r += (a * b)\n",
    "    r = r/len(x)\n",
    "    \n",
    "    if -1<r<0:\n",
    "        print('une corrélation négative')\n",
    "    elif 1>r>0:\n",
    "        print('Une corrélation positive')\n",
    "    elif (r==1) or (r==-1):\n",
    "        print('une corrélation négative')\n",
    "    elif r == 0:\n",
    "        print('coefficient d\\'aliénation')\n",
    "    return r\n",
    "\n",
    "# Quand r<0, la pente de ligne SD moins 0, c'est-à-dire une corrélation négative, quand x augmenter, y diminuer\n",
    "# Quand r>0, la pente de ligne SD plus 0, c'est-à-dire une corrélation positive, quand x augmenter, y augmenter\n",
    "# r entre [-1, 1], quand r=0, coefficient d'aliénation; \n",
    "# Quand r=1 ou r=-1, corrélation négative, en ce moment,point (x, y) sur ligne SD\n",
    "# La valeur de r plus proche 1 ou -1, point (x, y) plus proche ligne SD, correlation plus fort\n",
    "# La valeur de r plus proche à 0，les points plus dispersion, correlation plus faible"
   ]
  },
  {
   "cell_type": "code",
   "execution_count": null,
   "metadata": {},
   "outputs": [],
   "source": [
    "print(\"La correlation est :%f\" % correlation(prix_ca_ny[\"HighQ_x\"].values,prix_ca_ny[\"HighQ_y\"].values))"
   ]
  },
  {
   "cell_type": "markdown",
   "metadata": {},
   "source": [
    "### Exercice: \n",
    "\n",
    "Calculez la matrice des correlations pour toutes les combinaisons d'états"
   ]
  },
  {
   "cell_type": "code",
   "execution_count": null,
   "metadata": {
    "collapsed": true
   },
   "outputs": [],
   "source": [
    "for i in range(len(states)):\n",
    "    correlation(prices_pd[])"
   ]
  },
  {
   "cell_type": "markdown",
   "metadata": {},
   "source": [
    "## Exercice: \n",
    "* Calculez les correlations entre le prix (low et high) en fonction du revenu moyen par etat disponible dans le tableau demography_pd chargé au début\n",
    "* que pouvez vous en conclure"
   ]
  },
  {
   "cell_type": "markdown",
   "metadata": {},
   "source": [
    "## Travail pour la fin de TP + Maison\n",
    "Travail de rendu (à faire avant le prochain TP):\n",
    "* Vous avez implémenté et vu comment calculer tout un ensemble d'indicateurs statistiques assez simples. \n",
    "* Vous avez vu comment produire de jolis graphiques\n",
    "\n",
    "## Travail à faire : proposez une analyse originale a l'aide des données disponibles ici : http://opendata.paris.fr et des indicateurs/graphiques vus en cours et aujourd'hui\n",
    "* Voir  http://matplotlib.org/gallery.html pour les visualisations\n",
    "\n",
    "#### Exemple : \n",
    "* (Récupération de données: ) Téléchargez les données ici : http://opendata.paris.fr/explore/dataset/liste_des_prenoms_2004_a_2012/?disjunctive.prenoms&disjunctive.annee\n",
    "* Calculez l'histogramme et la densité des différents prénoms \n",
    "* Proposez une visualisation des 10 prénoms les plus donnés chaque année\n",
    "* Calculer les corrélations entre prénoms pour dégager les listes de prénoms corrélés et anti-corrélés dans le temps. Illuster les plus fortes corrélations par des nuages de points\n",
    "* ==> Proposez un nuage de mots à partir des données extraites (outil possible: https://www.jasondavies.com/wordcloud/ ou  https://github.com/mbostock/d3/wiki/Gallery)\n",
    "\n",
    "\n",
    "\n",
    "    "
   ]
  }
 ],
 "metadata": {
  "kernelspec": {
   "display_name": "Python 3",
   "language": "python",
   "name": "python3"
  },
  "language_info": {
   "codemirror_mode": {
    "name": "ipython",
    "version": 3
   },
   "file_extension": ".py",
   "mimetype": "text/x-python",
   "name": "python",
   "nbconvert_exporter": "python",
   "pygments_lexer": "ipython3",
   "version": "3.6.2"
  }
 },
 "nbformat": 4,
 "nbformat_minor": 1
}
