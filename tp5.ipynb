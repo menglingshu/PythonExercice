{
 "cells": [
  {
   "cell_type": "markdown",
   "metadata": {},
   "source": [
    "IA & Data science -- 2017-2018\n",
    "--------\n",
    "*&copy; Equipe pédagogique: Ludovic Denoyer, Thibault Laugel, Marie-Jeanne Lesot, Christophe Marsala, Olivier Schwander*"
   ]
  },
  {
   "cell_type": "markdown",
   "metadata": {},
   "source": [
    "# TD-TME05: les arbres de décision\n",
    "\n",
    "L'objectif de ce TP est d'implémenter un algorithme d'apprentissage supervisé, l'algorithme de construction d'arbres de décision (cours 6).\n",
    "\n",
    "Comme pour les k-nn, nous allons nous restreindre à un cas binaire où les données sont étiquetées $+1$ ou $-1$. De plus, nous allons ne considérer que le cas où les attributs sont tous numériques."
   ]
  },
  {
   "cell_type": "markdown",
   "metadata": {},
   "source": [
    "<font size=\"+1\">**[Q]**</font> **MENG_LINGSHU_3502972**"
   ]
  },
  {
   "cell_type": "markdown",
   "metadata": {},
   "source": [
    "*Double-cliquer ici et insérer les noms et prénoms de votre binôme*"
   ]
  },
  {
   "cell_type": "markdown",
   "metadata": {},
   "source": [
    "<font color=\"RED\" size=\"+1\">IMPORTANT: soumission de votre fichier final</font>\n",
    "\n",
    "**Nom à donner au fichier à poster** : *Nom1_Nom2.ipynb* \n",
    "- *Nom1* et *Nom2* : noms des membres du binôme\n",
    "- ne pas compresser ou faire une archive: envoyer le fichier ipython tel quel, éventuellement, si vous avez d'autres fichiers à envoyer, vous les joignez au message."
   ]
  },
  {
   "cell_type": "markdown",
   "metadata": {},
   "source": [
    "## Préparation\n",
    "\n",
    "Copier l'archive dans votre répertoire de travail: <code>/users/Enseignants/marsala/iads/tp5.tgz</code>\n",
    "\n",
    "Décompresser l'archive, elle crée le répertoire \"tp5\" qui contient un fichier ipython à ouvrir (ce fichier-ci) et un sous-répertoire \"data\" contenant les bases d'apprentissage utilisées dans ce TP.\n",
    "\n",
    "Le but de ce TP est de compléter ce document ipython en ajoutant les fonctions demandées. Avant de commencer, exécuter le bloc suivant afin de pouvoir initialiser des variables utiles \n"
   ]
  },
  {
   "cell_type": "code",
   "execution_count": 463,
   "metadata": {
    "collapsed": true
   },
   "outputs": [],
   "source": [
    "# imports utiles\n",
    "import numpy as np\n",
    "import pandas as pd"
   ]
  },
  {
   "cell_type": "markdown",
   "metadata": {
    "collapsed": true
   },
   "source": [
    "## Etape 1: Retour sur les TD-TME précédents\n",
    "\n",
    "Cette partie a été réalisée lors du TD-TME précédent, reprenez ce que vous avez fait en copier-collant votre travail de la semaine dernière.\n",
    "\n",
    "Reprendre la classe <code>LabeledSet</code> du TD_TME précédent pour stocker les données d'apprentissage, de validation et de test. Cette classe permet de stocker des couples $\\{(x_1,y_1),...,(x_n,y_n)\\}$. Les $x_i$ et $y_i$ seront des tableaux numpy. "
   ]
  },
  {
   "cell_type": "code",
   "execution_count": 464,
   "metadata": {
    "collapsed": true
   },
   "outputs": [],
   "source": [
    "class LabeledSet:  \n",
    "    \n",
    "    def __init__(self, input_dimension):\n",
    "        self.input_dimension = input_dimension\n",
    "        self.nb_examples = 0\n",
    "    \n",
    "    def addExample(self,vector,label):\n",
    "        if (self.nb_examples == 0):\n",
    "            self.x = np.array([vector])\n",
    "            self.y = np.array([label])\n",
    "        else:\n",
    "            self.x = np.vstack((self.x, vector))\n",
    "            self.y = np.vstack((self.y, label))\n",
    "        \n",
    "        self.nb_examples = self.nb_examples + 1\n",
    "    \n",
    "    #Renvoie la dimension de l'espace d'entrée\n",
    "    def getInputDimension(self):\n",
    "        return self.input_dimension\n",
    "    \n",
    "    #Renvoie le nombre d'exemples dans le set\n",
    "    def size(self):\n",
    "        return self.nb_examples\n",
    "    \n",
    "    #Renvoie la valeur de x_i\n",
    "    def getX(self, i):\n",
    "        return self.x[i]\n",
    "        \n",
    "    \n",
    "    #Renvouie la valeur de y_i\n",
    "    def getY(self, i):\n",
    "        return(self.y[i])"
   ]
  },
  {
   "cell_type": "markdown",
   "metadata": {},
   "source": [
    "### Génération de données ''Jouet''\n",
    "\n",
    "Comme lors des TD_TME précédents, les fonctions seront testées sur des données \"jouet\" générées selon des distributions choisies à la main. Commençons par un dataset en 2 dimensions (entrée) et 1 dimension (sortie): $x_i \\in \\mathbb{R}^2$, $y_i \\in [-1;+1]$ telles que les données sont généres selon deux Gaussiennes. Pour cela, nous utiliserons la fonction numpy.random.multivariate_normal  - http://docs.scipy.org/doc/numpy/reference/generated/numpy.random.multivariate_normal.html \n",
    "\n",
    "* ''positive_center'' est le centre de la gaussienne des points positifs (vecteur de taille 2)\n",
    "* ''positive_sigma'' est la variance de la gaussienne (sous forme de matrice 2*2)\n",
    "* Idem pour ''negative''\n",
    "\n",
    "* Générer une premiere gaussienne associée au label $+1$\n",
    "* Y rajouter une seconde gaussienne associée au label $-1$\n",
    "\n",
    "<font size=\"+1\">**[Q]**</font>  Dans un premier temps, pour mettre au point les fonctions, génerer une base jouet assez petite (par exemple, 10 exemples de chaque classe)."
   ]
  },
  {
   "cell_type": "code",
   "execution_count": 465,
   "metadata": {
    "collapsed": true
   },
   "outputs": [],
   "source": [
    "def generer_exemple(mean=0):\n",
    "    \"\"\"Genere un exemple\"\"\"\n",
    "    mean = [mean, mean]\n",
    "    cov = [[1, 0], [0, 6]]\n",
    "    return np.random.multivariate_normal(mean, cov)\n",
    "\n",
    "def generer_exemples(nombre_exemples, mean=0):\n",
    "    \"\"\" Genere une liste de taille 'nombre_exemple' d'exemples \"\"\"\n",
    "    exemples = list()\n",
    "    for _ in range(nombre_exemples):\n",
    "        exemples.append(generer_exemple(mean))   \n",
    "    return exemples\n",
    "\n",
    "def ajouter_exemples_aleatoires(the_set, nombre_exemples, mean, labels):\n",
    "    \"\"\" Ajoute dans 'the_set' un total de 'nombre_exemples' exemples\n",
    "    associés aleatoirement à un label contenu dans 'labels'. \"\"\"\n",
    "    from random import choice\n",
    "    exemples = generer_exemples(nombre_exemples, mean)\n",
    "    for exemple in exemples:\n",
    "        the_set.addExample(exemple, choice(labels))"
   ]
  },
  {
   "cell_type": "code",
   "execution_count": 466,
   "metadata": {},
   "outputs": [
    {
     "data": {
      "text/plain": [
       "array([[ 3.10298992, -0.74532308],\n",
       "       [ 2.05235013,  2.27415756],\n",
       "       [ 1.38224446,  4.80647135],\n",
       "       [ 1.02355968, -0.10260608],\n",
       "       [ 2.46870886,  5.80763833],\n",
       "       [ 1.60069971,  8.05956958],\n",
       "       [ 1.70104008,  1.6404101 ],\n",
       "       [ 1.49419429,  2.36978379],\n",
       "       [ 1.45513115,  0.74689289],\n",
       "       [ 1.92935243, -1.79950498]])"
      ]
     },
     "execution_count": 466,
     "metadata": {},
     "output_type": "execute_result"
    }
   ],
   "source": [
    "the_set = LabeledSet(2)\n",
    "ajouter_exemples_aleatoires(the_set, 10, -2, [-1])\n",
    "ajouter_exemples_aleatoires(the_set, 10, 2, [1])\n",
    "\n",
    "S= the_set.x[np.where(the_set.y == 1),:]\n",
    "S[0]"
   ]
  },
  {
   "cell_type": "markdown",
   "metadata": {},
   "source": [
    "Le dataset peut être affiché en utilisant matplotlib (pour vérifier). Nous utiliserons la commande matplotlib.pyplot.scatter permettant de dessiner un nuage de points - http://matplotlib.org/api/pyplot_api.html#matplotlib.pyplot.scatter -"
   ]
  },
  {
   "cell_type": "code",
   "execution_count": 62,
   "metadata": {},
   "outputs": [],
   "source": [
    "import matplotlib.pyplot as plt\n",
    "#%matplotlib inline \n",
    "\n",
    "def plot2DSet(set):\n",
    "    \"\"\" LabeledSet -> NoneType\n",
    "        Hypothèse: set est de dimension 2\n",
    "        affiche une représentation graphique du LabeledSet\n",
    "        remarque: l'ordre des labels dans set peut être quelconque\n",
    "    \"\"\"\n",
    "    S_pos = set.x[np.where(set.y == 1),:][0]      # tous les exemples de label +1\n",
    "    S_neg = set.x[np.where(set.y == -1),:][0]     # tous les exemples de label -1\n",
    "    plt.scatter(S_pos[:,0],S_pos[:,1],marker='o')\n",
    "    plt.scatter(S_neg[:,0],S_neg[:,1],marker='x')"
   ]
  },
  {
   "cell_type": "code",
   "execution_count": 63,
   "metadata": {},
   "outputs": [
    {
     "data": {
      "image/png": "[encoded data removed]",
      "text/plain": [
       "<matplotlib.figure.Figure at 0x112d5d4e0>"
      ]
     },
     "metadata": {},
     "output_type": "display_data"
    }
   ],
   "source": [
    "# Essai de la fonction : (the_set : variable du dataset généré précédemment)\n",
    "plot2DSet(the_set)"
   ]
  },
  {
   "cell_type": "markdown",
   "metadata": {},
   "source": [
    "### Les classifieurs\n",
    "\n",
    "La classe <code>Classifier</code> sert toujours de classe de base: l'algorithme d'apprentissage par arbres de décision est un nouveau type de Classifier que l'on va créer.\n"
   ]
  },
  {
   "cell_type": "code",
   "execution_count": 470,
   "metadata": {
    "collapsed": true
   },
   "outputs": [],
   "source": [
    "class Classifier:\n",
    "    def __init__(self,input_dimension):\n",
    "        \"\"\" Constructeur \"\"\"\n",
    "        raise NotImplementedError(\"Please Implement this method\")\n",
    "    \n",
    "    \n",
    "    # Permet de calculer la prediction sur x => renvoie un score\n",
    "    def predict(self,x):\n",
    "        raise NotImplementedError(\"Please Implement this method\")\n",
    "\n",
    "    \n",
    "    # Permet d'entrainer le modele sur un ensemble de données\n",
    "    def train(self,labeledSet):\n",
    "        raise NotImplementedError(\"Please Implement this method\")\n",
    "    \n",
    "    #Permet de calculer la qualité du système \n",
    "    def accuracy(self, dataset):\n",
    "        nb_ok = 0\n",
    "        for i in range(dataset.size()):\n",
    "            output = self.predict(dataset.getX(i))\n",
    "            if (output * dataset.getY(i) > 0):\n",
    "                nb_ok = nb_ok + 1\n",
    "        acc = nb_ok / (dataset.size() * 1.0)\n",
    "        return acc    "
   ]
  },
  {
   "cell_type": "code",
   "execution_count": 471,
   "metadata": {
    "collapsed": true
   },
   "outputs": [],
   "source": [
    "class ClassifierRandom(Classifier):\n",
    "    def __init__(self, dim):\n",
    "        self.w = np.random.rand(dim)\n",
    "    def predict(self, x):\n",
    "        z = np.dot(x, self.w)\n",
    "        if z > 0:\n",
    "            return +1\n",
    "        else:\n",
    "            return -1\n",
    "    # Permet d'entrainer le modele sur un ensemble de données\n",
    "    def train(self,labeledSet):\n",
    "        pass"
   ]
  },
  {
   "cell_type": "markdown",
   "metadata": {},
   "source": [
    "On reprend la fonction suivante, utilisée lors des TD-TME précédent, pour dessiner la frontière de décision d'un classifieur."
   ]
  },
  {
   "cell_type": "code",
   "execution_count": 472,
   "metadata": {
    "collapsed": true,
    "scrolled": true
   },
   "outputs": [],
   "source": [
    "def plot_frontiere(set,classifier,step=20):\n",
    "    \"\"\" LabeledSet * Classifier * int -> NoneType\n",
    "        Remarque: le 3e argument est optionnel et donne la \"résolution\" du tracé\n",
    "        affiche la frontière de décision associée au classifieur\n",
    "    \"\"\"\n",
    "    mmax = set.x.max(0)\n",
    "    mmin = set.x.min(0)\n",
    "    x1grid, x2grid = np.meshgrid(np.linspace(mmin[0], mmax[0], step), np.linspace(mmin[1], mmax[1], step))\n",
    "    grid = np.hstack((x1grid.reshape(x1grid.size, 1), x2grid.reshape(x2grid.size, 1)))\n",
    "    \n",
    "    # calcul de la prediction pour chaque point de la grille\n",
    "    res = np.array([classifier.predict(grid[i,:]) for i in range(len(grid)) ])\n",
    "    res = res.reshape(x1grid.shape)\n",
    "    # tracé des frontieres\n",
    "    plt.contourf(x1grid, x2grid, res, colors=[\"red\", \"cyan\"], levels=[-1000,0,1000], linewidth=2)    "
   ]
  },
  {
   "cell_type": "code",
   "execution_count": 473,
   "metadata": {},
   "outputs": [
    {
     "data": {
      "image/png": "[encoded data removed]",
      "text/plain": [
       "<matplotlib.figure.Figure at 0x106757470>"
      ]
     },
     "metadata": {},
     "output_type": "display_data"
    }
   ],
   "source": [
    "# Exemple d'utilisation:\n",
    "classifieur_random=ClassifierRandom(2)   # test avec la classe écrite dans les séances précédentes\n",
    "\n",
    "the_set = LabeledSet(2)\n",
    "ajouter_exemples_aleatoires(the_set, 10, -2, [-1])\n",
    "ajouter_exemples_aleatoires(the_set, 10, 2, [1])\n",
    "\n",
    "classifieur_random.train(the_set)        # the_set a été initialisé précédemment\n",
    "\n",
    "plot_frontiere(the_set,classifieur_random)   # on trace la frontière\n",
    "plot2DSet(the_set)                           # on affiche le LabeledSet dessus\n"
   ]
  },
  {
   "cell_type": "markdown",
   "metadata": {},
   "source": [
    "<font size=\"+1\">**[Q]**</font> Ecrire la fonction <code>classe_majoritaire()</code> qui, étant donné un LabeledSet rend la classe majoritaire dans l'ensemble (celle qui est possédée par le plus grand nombre d'exemples donc...). En cas d'égalité, cette fonction rend la classe +1."
   ]
  },
  {
   "cell_type": "code",
   "execution_count": 474,
   "metadata": {
    "collapsed": true
   },
   "outputs": [],
   "source": [
    "#Alors, cette fonction doit rendre la classe dont les éléments encore plus !!\n",
    "def classe_majoritaire(the_set):\n",
    "    #Toutes les Xs dans l'ensemble the_set dont les Ys = +1 ou -1\n",
    "    list_plus_1 = the_set.x[np.where(the_set.y == 1),:]\n",
    "    list_moins_1 = the_set.x[np.where(the_set.y == -1),:]\n",
    "    if ( len(list_plus_1[0]) >= len(list_moins_1[0]) ):\n",
    "        return +1;\n",
    "    else:\n",
    "        return -1;"
   ]
  },
  {
   "cell_type": "code",
   "execution_count": 475,
   "metadata": {},
   "outputs": [
    {
     "data": {
      "text/plain": [
       "1"
      ]
     },
     "execution_count": 475,
     "metadata": {},
     "output_type": "execute_result"
    }
   ],
   "source": [
    "classe_majoritaire(the_set)"
   ]
  },
  {
   "cell_type": "markdown",
   "metadata": {},
   "source": [
    "## Etape 2: Arbres de décision\n",
    "\n",
    "Dans cet étape, on réalise l'implémentation de l'algorithme de construction d'un arbre de décision."
   ]
  },
  {
   "cell_type": "markdown",
   "metadata": {},
   "source": [
    "### Entropie et gain d'information\n",
    "\n",
    "Dans un premier temps, il est nécessaire écrire des fonctions pour calculer l'entropie et le gain d'information vus dans le cours 6.\n",
    "\n",
    "Etant donné une distribution de probabilités $P=(p_1, p_2,..., p_k)$, l'entropie de Shannon de cette distribution est donnée par:\n",
    "\n",
    "$ H_S(P) = -\\sum_{i=1}^{k} p_i \\log_k(p_i)$\n",
    "\n",
    "Par convention, on considère que $0\\log_k(0) = 0$. \n",
    "\n",
    "Le logarithme utilisé est le logarithme en base $k$ afin d'obtenir une valeur normalisée de l'entropie. La base du logarithme est donc $k$, le nombre de classes présentes dans la base au maximum.\n",
    "\n",
    "Dans ce qui suit, en Python, une *distribution de probabilités* est représentée par une liste $P=[p_1,...,p_k]$ de valeurs réelles telle que\n",
    "* pour tout $i=1,..., k$ : $0 \\leq p_i \\leq 1$\n",
    "* $\\sum_{i=1}^{k}p_i = 1$\n"
   ]
  },
  {
   "cell_type": "markdown",
   "metadata": {},
   "source": [
    "<font size=\"+1\">**[Q]**</font> Ecrire la fonction <code>shannon()</code> qui, étant donné une distribution de probabilités $P$, rend la valeur de l'entropie de Shannon correspondante.\n",
    "\n",
    "Remarque: pour nous, en Python, $P$ est représentée par une liste de $k$ valeurs de $[0, 1]$ telle que la somme de toutes les valeurs vaut $1$."
   ]
  },
  {
   "cell_type": "code",
   "execution_count": 476,
   "metadata": {
    "collapsed": true
   },
   "outputs": [],
   "source": [
    "import math\n",
    "def shannon(data):\n",
    "    k = len(data)\n",
    "    ValeurEntropie=0\n",
    "    for i in range(k):\n",
    "        if(data[i] == 0):\n",
    "            ValeurEntropie += 0\n",
    "        else:\n",
    "            ValeurEntropie += - data[i] * math.log(data[i], k)\n",
    "    return ValeurEntropie\n"
   ]
  },
  {
   "cell_type": "code",
   "execution_count": 477,
   "metadata": {},
   "outputs": [
    {
     "data": {
      "text/plain": [
       "0.0"
      ]
     },
     "execution_count": 477,
     "metadata": {},
     "output_type": "execute_result"
    }
   ],
   "source": [
    "shannon([1, 0])"
   ]
  },
  {
   "cell_type": "code",
   "execution_count": 478,
   "metadata": {},
   "outputs": [
    {
     "data": {
      "text/plain": [
       "1.0"
      ]
     },
     "execution_count": 478,
     "metadata": {},
     "output_type": "execute_result"
    }
   ],
   "source": [
    "shannon([0.5, 0.5])"
   ]
  },
  {
   "cell_type": "code",
   "execution_count": 479,
   "metadata": {},
   "outputs": [
    {
     "data": {
      "text/plain": [
       "1.0"
      ]
     },
     "execution_count": 479,
     "metadata": {},
     "output_type": "execute_result"
    }
   ],
   "source": [
    "shannon([0.25, 0.25, 0.25, 0.25])"
   ]
  },
  {
   "cell_type": "code",
   "execution_count": 480,
   "metadata": {},
   "outputs": [
    {
     "data": {
      "text/plain": [
       "0.5783898247235197"
      ]
     },
     "execution_count": 480,
     "metadata": {},
     "output_type": "execute_result"
    }
   ],
   "source": [
    "shannon([0.7, 0.1, 0.2, 0.0])"
   ]
  },
  {
   "cell_type": "code",
   "execution_count": 481,
   "metadata": {},
   "outputs": [
    {
     "data": {
      "text/plain": [
       "0.9182958340544896"
      ]
     },
     "execution_count": 481,
     "metadata": {},
     "output_type": "execute_result"
    }
   ],
   "source": [
    "shannon([1.0/3, 2.0/3])"
   ]
  },
  {
   "cell_type": "markdown",
   "metadata": {},
   "source": [
    "<font size=\"+1\">**[Q]**</font> A l'aide de la fonction <code>shannon()</code>, écrire la fonction <code>entropie()</code> qui prend un LabeledSet en argument et renvoie l'entropie de sa distribution des classes dans cet ensemble."
   ]
  },
  {
   "cell_type": "code",
   "execution_count": 482,
   "metadata": {
    "collapsed": true
   },
   "outputs": [],
   "source": [
    "def entropie(dataset):\n",
    "    \n",
    "    entropie = 0;\n",
    "    label1 = 0\n",
    "    label2 = 0\n",
    "    \n",
    "    for i in range(dataset.size()):\n",
    "        if(dataset.getY(i) == +1):\n",
    "            label1 += 1\n",
    "        else:\n",
    "            label2 += 1\n",
    "    \n",
    "    label1 = label1/dataset.size()\n",
    "    label2 = label2/dataset.size()\n",
    "        \n",
    "    data = [label1, label2]    \n",
    "    entropie = shannon(data)\n",
    "\n",
    "    return entropie"
   ]
  },
  {
   "cell_type": "code",
   "execution_count": 483,
   "metadata": {},
   "outputs": [
    {
     "data": {
      "text/plain": [
       "1.0"
      ]
     },
     "execution_count": 483,
     "metadata": {},
     "output_type": "execute_result"
    }
   ],
   "source": [
    "entropie(the_set)"
   ]
  },
  {
   "cell_type": "markdown",
   "metadata": {},
   "source": [
    "### Discrétisation des attributs numériques"
   ]
  },
  {
   "cell_type": "markdown",
   "metadata": {
    "collapsed": true
   },
   "source": [
    "Discrétiser un attribut numérique consiste en trouver un seuil de coupure dans son ensemble de valeurs. Pour trouver ce seuil, on sélectionne le point de coupure qui optimise la distribution des classes des exemples de chaque côté du seuil.\n",
    "\n",
    "Par exemple, soit l'attribut Age contenant les valeurs 17, 18, 20, 27, 35, 37, 40. On discrétise cet attribut en 2 valeurs en déterminant un seuil de coupure comme, par exemple, le seuil 30: cela permet de séparer d'un côté les valeurs inférieures ou égales à 30, et de l'autre les valeurs strictement supérieures à 30.\n",
    "\n",
    "Soit $E$ un ensemble d'exemples, et soit $X$ un attribut que l'on veut discrétiser. Pour cela, on constitue l'ensemble des valeurs prises par les exemples de $E$ pour l'attribut $X$. Soit $X_E$ cet ensemble de valeurs.\n",
    "La discrétisation de $X_E$ s'effectue par les étapes suivantes:\n",
    "- Etape 1: ordonner de façon croissante les valeurs de $X_E$;\n",
    "- Etape 2: regarder tous les seuils possibles de coupure entre 2 valeurs consécutives de $X_E$ (on prend comme seuil de coupure la valeur entre ces 2 valeurs). Chaque seuil trouvé créé 2 intervalles qui générent 2 sous-ensembles de $E$: \n",
    "    1) l'ensemble $E_1$ des exemples dont la valeur pour l'attribut considéré et inférieure ou égale au seuil, et 2) l'ensemble $E_2$ des exemples dont la valeur pour l'attribut considéré et supérieure au seuil;\n",
    "    - pour chacun des seuils trouvés: \n",
    "        - calculer l'entropie de la distribution des classes pour les exemples de l'ensemble $E_1$, et l'entropie de la distribution des classes  pour les exemples de $E_2$;\n",
    "        - calculer l'entropie moyenne de la coupure engendrée par le seuil considéré:\n",
    "$$H_{moy}(coupure) = \\frac{|E_1|}{|E|} H_S(E_1) + \\frac{|E_2|}{|E|} H_S(E_2);$$\n",
    "\n",
    "\n",
    "La meilleure coupure pour discrétiser $X_E$ est celle qui minimise la valeur $H_{moy}(coupure)$.\n",
    "\n",
    "\n",
    "Par exemple, soit $E=\\{17, 18, 20, 27, 35, 37, 40\\}$, chaque valeur étant associées aux classes +1, +1, -1, -1, +1, +1, -1 respectivement. Un seuil de coupure possible est $31$ ($31 = \\frac{27+35}{2}$). Ce seuil coupe $E$ en $E_1=\\{17, 18, 20, 27\\}$ et $E_2=\\{35, 37, 40\\}$.\n",
    "\n",
    "- pour $E_1$, la probabilité de chaque classe est: $p(+1)= 0.5$ et $p(-1)=0.5$ donc, $H_S(E_1)=1$;\n",
    "- pour $E_2$, la probabilité de chaque classe est: $p(+1)= \\frac{1}{3}$ et $p(-1)=\\frac{2}{3}$ donc, $H_S(E_2)=0.9182958340544896$;\n",
    "- on a donc: $$H_{moy}(coupure par 31) = \\frac{4}{7} H_S(E_1) + \\frac{3}{7} H_S(E_2);$$\n",
    "soit $H_{moy}(coupure par 31) = 0.9182958340544896$"
   ]
  },
  {
   "cell_type": "markdown",
   "metadata": {},
   "source": [
    "On considère que the_set est un LabeledSet construit précédement. Il contient deux variables de type array: x et y.\n",
    "\n",
    "Regarder et tester les instructions suivantes, il faut bien comprendre comment elles fonctionnent car on va utiliser les mêmes principes dans les fonctions à écrire."
   ]
  },
  {
   "cell_type": "code",
   "execution_count": 484,
   "metadata": {},
   "outputs": [
    {
     "data": {
      "text/plain": [
       "array([[ 0,  9],\n",
       "       [ 5,  5],\n",
       "       [ 6,  0],\n",
       "       [ 3,  7],\n",
       "       [ 9,  6],\n",
       "       [ 1,  3],\n",
       "       [ 2,  8],\n",
       "       [ 4,  4],\n",
       "       [ 8,  2],\n",
       "       [ 7, 15],\n",
       "       [16, 18],\n",
       "       [17,  1],\n",
       "       [12, 19],\n",
       "       [18, 11],\n",
       "       [13, 17],\n",
       "       [19, 12],\n",
       "       [10, 10],\n",
       "       [11, 14],\n",
       "       [15, 16],\n",
       "       [14, 13]])"
      ]
     },
     "execution_count": 484,
     "metadata": {},
     "output_type": "execute_result"
    }
   ],
   "source": [
    "ind= np.argsort(the_set.x,axis=0)   # Tri des valeurs de the_set.x selon les colonnes. \n",
    "                                    # La fonction rend un numpy.ndarray contenant autant de \n",
    "                                    # colonnes que the_set.x et dans chaque colonne, on a \n",
    "                                    # la position de l'exemple dans l'ordonnancement croissant.\n",
    "ind # pour afficher"
   ]
  },
  {
   "cell_type": "code",
   "execution_count": 485,
   "metadata": {},
   "outputs": [
    {
     "data": {
      "text/plain": [
       "array([[-3.01514008, -4.26665447],\n",
       "       [-2.91743024, -5.76696738],\n",
       "       [-2.76618079, -2.84009695],\n",
       "       [-2.54603187, -2.57769584],\n",
       "       [-2.47952083, -6.44791547],\n",
       "       [-2.3022694 ,  1.39039564],\n",
       "       [-2.17215927, -0.29976206],\n",
       "       [-2.16574797, -2.21936046],\n",
       "       [-1.82772438, -2.32528597],\n",
       "       [-0.24647511, -2.91608037],\n",
       "       [-0.10962116,  4.35214324],\n",
       "       [ 0.46558132,  3.14399733],\n",
       "       [ 1.60426225,  3.34253828],\n",
       "       [ 1.68907724,  0.94157425],\n",
       "       [ 1.92907267,  5.50323341],\n",
       "       [ 2.03911617,  2.33727161],\n",
       "       [ 2.49214605,  3.42358354],\n",
       "       [ 3.05852715,  2.76293619],\n",
       "       [ 3.79331523,  0.60020377],\n",
       "       [ 5.03661719,  3.69967318]])"
      ]
     },
     "execution_count": 485,
     "metadata": {},
     "output_type": "execute_result"
    }
   ],
   "source": [
    "the_set.x[ind[0:len(the_set.x),0]]  # Rend le numpy.array des exemples de the_set.x ordonnés\n",
    "                                    # selon les indices donnés dans ind (colonne 0)\n"
   ]
  },
  {
   "cell_type": "code",
   "execution_count": 486,
   "metadata": {},
   "outputs": [
    {
     "data": {
      "text/plain": [
       "array([[-1],\n",
       "       [-1],\n",
       "       [-1],\n",
       "       [-1],\n",
       "       [-1],\n",
       "       [-1],\n",
       "       [-1],\n",
       "       [-1],\n",
       "       [-1],\n",
       "       [-1],\n",
       "       [ 1],\n",
       "       [ 1],\n",
       "       [ 1],\n",
       "       [ 1],\n",
       "       [ 1],\n",
       "       [ 1],\n",
       "       [ 1],\n",
       "       [ 1],\n",
       "       [ 1],\n",
       "       [ 1]])"
      ]
     },
     "execution_count": 486,
     "metadata": {},
     "output_type": "execute_result"
    }
   ],
   "source": [
    "the_set.y[ind[0:len(the_set.y),0]]  # Rend le numpy.array des exemples de the_set.y ordonnés\n",
    "                                    # selon les indices donnés dans ind (colonne 0)"
   ]
  },
  {
   "cell_type": "code",
   "execution_count": 487,
   "metadata": {},
   "outputs": [
    {
     "name": "stdout",
     "output_type": "stream",
     "text": [
      "valeur= -6.44791547013 classe=  -1\n",
      "valeur= -5.76696737681 classe=  -1\n",
      "valeur= -4.26665446534 classe=  -1\n",
      "valeur= -2.91608036845 classe=  -1\n",
      "valeur= -2.84009695274 classe=  -1\n",
      "valeur= -2.57769584143 classe=  -1\n",
      "valeur= -2.32528597382 classe=  -1\n",
      "valeur= -2.21936046137 classe=  -1\n",
      "valeur= -0.299762055769 classe=  -1\n",
      "valeur= 0.600203774591 classe=  1\n",
      "valeur= 0.941574251844 classe=  1\n",
      "valeur= 1.39039564397 classe=  -1\n",
      "valeur= 2.33727160817 classe=  1\n",
      "valeur= 2.76293618992 classe=  1\n",
      "valeur= 3.14399733281 classe=  1\n",
      "valeur= 3.34253828375 classe=  1\n",
      "valeur= 3.42358354288 classe=  1\n",
      "valeur= 3.69967317748 classe=  1\n",
      "valeur= 4.35214324354 classe=  1\n",
      "valeur= 5.50323341203 classe=  1\n"
     ]
    }
   ],
   "source": [
    "colonne = 1    # numéro de la colonne de the_set.x à considérer\n",
    "for v_i in ind[0:len(the_set.x)]:\n",
    "    i = v_i[colonne]\n",
    "    exem = the_set.getX(i)\n",
    "    clas = the_set.getY(i)\n",
    "    print(\"valeur=\",exem[colonne], \"classe= \", clas[0])"
   ]
  },
  {
   "cell_type": "markdown",
   "metadata": {},
   "source": [
    "Etant donné un LabeledSet, ainsi qu'un numéro de colonne à considérer (qui correspond à un des attributs de description), la fonction <code>discrétise()</code> rend un tuple constitué de la valeur de coupure qui minimise l'entropie de Shannon moyenne, et de la valeur de l'entropie trouvée."
   ]
  },
  {
   "cell_type": "code",
   "execution_count": 488,
   "metadata": {
    "collapsed": true
   },
   "outputs": [],
   "source": [
    "def discretise(LSet, col):\n",
    "    \"\"\" LabelledSet * int -> tuple[float, float]\n",
    "        col est le numéro de colonne sur X à discrétiser\n",
    "        rend la valeur de coupure qui minimise l'entropie ainsi que son entropie.\n",
    "    \"\"\"\n",
    "    # initialisation:\n",
    "    min_entropie = 1.1  # on met à une valeur max car on veut minimiser\n",
    "    min_seuil = 0.0     \n",
    "    # trie des valeurs:\n",
    "    ind= np.argsort(LSet.x,axis=0)\n",
    "    \n",
    "    # calcul des distributions des classes pour E1 et E2:\n",
    "    inf_plus  = 0               # nombre de +1 dans E1\n",
    "    inf_moins = 0               # nombre de -1 dans E1\n",
    "    sup_plus  = 0               # nombre de +1 dans E2\n",
    "    sup_moins = 0               # nombre de -1 dans E2       \n",
    "    # remarque: au départ on considère que E1 est vide et donc E2 correspond à E. \n",
    "    # Ainsi inf_plus et inf_moins valent 0. Il reste à calculer sup_plus et sup_moins \n",
    "    # dans E.\n",
    "    for j in range(0,LSet.size()):\n",
    "        if (LSet.getY(j) == -1):\n",
    "            sup_moins += 1\n",
    "        else:\n",
    "            sup_plus += 1\n",
    "    nb_total = (sup_plus + sup_moins) # nombre d'exemples total dans E\n",
    "    \n",
    "    # parcours pour trouver le meilleur seuil:\n",
    "    for i in range(len(LSet.x)-1):\n",
    "        v_ind_i = ind[i]   # vecteur d'indices\n",
    "        courant = LSet.getX(v_ind_i[col])[col]\n",
    "        lookahead = LSet.getX(ind[i+1][col])[col]\n",
    "        val_seuil = (courant + lookahead) / 2.0;\n",
    "        # M-A-J de la distrib. des classes:\n",
    "        # pour réduire les traitements: on retire un exemple de E2 et on le place\n",
    "        # dans E1, c'est ainsi que l'on déplace donc le seuil de coupure.\n",
    "        if LSet.getY(ind[i][col])[0] == -1:\n",
    "            inf_moins += 1\n",
    "            sup_moins -= 1\n",
    "        else:\n",
    "            inf_plus += 1\n",
    "            sup_plus -= 1\n",
    "        # calcul de la distribution des classes de chaque côté du seuil:\n",
    "        nb_inf = (inf_moins + inf_plus)*1.0     # rem: on en fait un float pour éviter\n",
    "        nb_sup = (sup_moins + sup_plus)*1.0     # que ce soit une division entière.\n",
    "        # calcul de l'entropie de la coupure\n",
    "        val_entropie_inf = shannon([inf_moins / nb_inf, inf_plus  / nb_inf])\n",
    "        val_entropie_sup = shannon([sup_moins / nb_sup, sup_plus  / nb_sup])\n",
    "        val_entropie = (nb_inf / nb_total) * val_entropie_inf + (nb_sup / nb_total) * val_entropie_sup\n",
    "        # si cette coupure minimise l'entropie, on mémorise ce seuil et son entropie:\n",
    "        if (min_entropie > val_entropie):\n",
    "            min_entropie = val_entropie\n",
    "            min_seuil = val_seuil\n",
    "    return (min_seuil, min_entropie)"
   ]
  },
  {
   "cell_type": "code",
   "execution_count": 489,
   "metadata": {},
   "outputs": [
    {
     "data": {
      "text/plain": [
       "(-0.17804813617951742, 0.0)"
      ]
     },
     "execution_count": 489,
     "metadata": {},
     "output_type": "execute_result"
    }
   ],
   "source": [
    "discretise(the_set,0) # le résultat dépend, bien sûr, de la base jouet"
   ]
  },
  {
   "cell_type": "code",
   "execution_count": 490,
   "metadata": {},
   "outputs": [
    {
     "data": {
      "text/plain": [
       "(0.15022085941143337, 0.2417233428068324)"
      ]
     },
     "execution_count": 490,
     "metadata": {},
     "output_type": "execute_result"
    }
   ],
   "source": [
    "discretise(the_set,1) # le résultat dépend, bien sûr, de la base jouet"
   ]
  },
  {
   "cell_type": "markdown",
   "metadata": {},
   "source": [
    "Une dernière fonction utile permet de diviser une base d'exemples en 2 sous-bases en utilisant un seuil sur la valeur d'un attribut donné.\n",
    "\n",
    "<font size=\"+1\">**[Q]**</font> Ecrire la fonction divise() dont la spécification est:\n",
    "\n",
    "    def divise(LSet,att,seuil):\n",
    "        \"\"\" LSet: LabeledSet\n",
    "            att : numéro d'attribut\n",
    "            seuil : valeur de seuil\n",
    "            rend le tuple contenant les 2 sous-LabeledSet obtenus par la\n",
    "            division de LSet selon le seuil sur l'attribut att\n",
    "        \"\"\"\n",
    "\n"
   ]
  },
  {
   "cell_type": "code",
   "execution_count": 491,
   "metadata": {
    "collapsed": true
   },
   "outputs": [],
   "source": [
    "def divise(LSet,att,seuil):\n",
    "    taille=LSet.size()\n",
    "    i=0\n",
    "    linf=LabeledSet(2)\n",
    "    lsup=LabeledSet(2)\n",
    "    while (i<taille):\n",
    "        a=LSet.getX(i)\n",
    "        if (a[att]<=seuil):\n",
    "            linf.addExample(LSet.getX(i),LSet.getY(i))\n",
    "        else:\n",
    "            lsup.addExample(LSet.getX(i),LSet.getY(i))\n",
    "        i=i+1\n",
    "    #print(linf.x)\n",
    "    #print(linf.y)\n",
    "    #print(\"=============================================\")\n",
    "    #print(lsup.x)\n",
    "    #print(lsup.y)\n",
    "    return (linf,lsup)"
   ]
  },
  {
   "cell_type": "code",
   "execution_count": 492,
   "metadata": {},
   "outputs": [
    {
     "name": "stdout",
     "output_type": "stream",
     "text": [
      "entropie inférieur: 0.0  / entropie supérieur: 0.4394969869215134\n"
     ]
    }
   ],
   "source": [
    "Linf, Lsup = divise(the_set,0,-0.5)\n",
    "print(\"entropie inférieur:\",entropie(Linf),\" / entropie supérieur:\", entropie(Lsup))\n",
    "# remarque: les résultats dépendent de votre base jouet..."
   ]
  },
  {
   "cell_type": "markdown",
   "metadata": {},
   "source": [
    "### Représentation d'un arbre en Python"
   ]
  },
  {
   "cell_type": "markdown",
   "metadata": {},
   "source": [
    "Un arbre de décision est doit être représenté en Python, pour cela, on utilise la classe <code>ArbreBinaire</code> suivante:"
   ]
  },
  {
   "cell_type": "code",
   "execution_count": 493,
   "metadata": {
    "collapsed": true
   },
   "outputs": [],
   "source": [
    "import graphviz as gv\n",
    "\n",
    "class ArbreBinaire:\n",
    "    def __init__(self):\n",
    "        self.attribut = None   # numéro de l'attribut\n",
    "        self.seuil = None\n",
    "        self.inferieur = None # ArbreBinaire Gauche (valeurs <= au seuil)\n",
    "        self.superieur = None # ArbreBinaire Droit (valeurs > au seuil)\n",
    "        self.classe = None # Classe si c'est une feuille: -1 ou +1\n",
    "        \n",
    "    def est_feuille(self):\n",
    "        \"\"\" rend True si l'arbre est une feuille \"\"\"\n",
    "        return self.seuil == None\n",
    "    \n",
    "    def ajoute_fils(self,ABinf,ABsup,att,seuil):\n",
    "        \"\"\" ABinf, ABsup: 2 arbres binaires\n",
    "            att: numéro d'attribut\n",
    "            seuil: valeur de seuil\n",
    "        \"\"\"\n",
    "        self.attribut = att\n",
    "        self.seuil = seuil\n",
    "        self.inferieur = ABinf\n",
    "        self.superieur = ABsup\n",
    "    \n",
    "    def ajoute_feuille(self,classe):\n",
    "        \"\"\" classe: -1 ou + 1\n",
    "        \"\"\"\n",
    "        self.classe = classe\n",
    "        \n",
    "    def classifie(self,exemple):\n",
    "        \"\"\" exemple : numpy.array\n",
    "            rend la classe de l'exemple: +1 ou -1\n",
    "        \"\"\"\n",
    "        if self.est_feuille():\n",
    "            return self.classe\n",
    "        if exemple[self.attribut] <= self.seuil:\n",
    "            return self.inferieur.classifie(exemple)\n",
    "        return self.superieur.classifie(exemple)\n",
    "    \n",
    "    def to_graph(self, g, prefixe='A'):\n",
    "        \"\"\" construit une représentation de l'arbre pour pouvoir\n",
    "            l'afficher\n",
    "        \"\"\"\n",
    "        if self.est_feuille():\n",
    "            g.node(prefixe,str(self.classe),shape='box')\n",
    "        else:\n",
    "            g.node(prefixe, \"attr: \"+str(self.attribut))\n",
    "            self.inferieur.to_graph(g,prefixe+\"g\")\n",
    "            self.superieur.to_graph(g,prefixe+\"d\")\n",
    "            g.edge(prefixe,prefixe+\"g\", '<='+ str(self.seuil))\n",
    "            g.edge(prefixe,prefixe+\"d\", '>'+ str(self.seuil))\n",
    "        \n",
    "        return g"
   ]
  },
  {
   "cell_type": "code",
   "execution_count": 494,
   "metadata": {},
   "outputs": [
    {
     "name": "stdout",
     "output_type": "stream",
     "text": [
      "True\n"
     ]
    },
    {
     "data": {
      "image/svg+xml": [
       "<?xml version=\"1.0\" encoding=\"UTF-8\" standalone=\"no\"?>\n",
       "<!DOCTYPE svg PUBLIC \"-//W3C//DTD SVG 1.1//EN\"\n",
       " \"http://www.w3.org/Graphics/SVG/1.1/DTD/svg11.dtd\">\n",
       "<!-- Generated by graphviz version 2.40.1 (20161225.0304)\n",
       " -->\n",
       "<!-- Title: %3 Pages: 1 -->\n",
       "<svg width=\"134pt\" height=\"133pt\"\n",
       " viewBox=\"0.00 0.00 134.00 132.80\" xmlns=\"http://www.w3.org/2000/svg\" xmlns:xlink=\"http://www.w3.org/1999/xlink\">\n",
       "<g id=\"graph0\" class=\"graph\" transform=\"scale(1 1) rotate(0) translate(4 128.8)\">\n",
       "<title>%3</title>\n",
       "<polygon fill=\"#ffffff\" stroke=\"transparent\" points=\"-4,4 -4,-128.8 130,-128.8 130,4 -4,4\"/>\n",
       "<!-- A -->\n",
       "<g id=\"node1\" class=\"node\">\n",
       "<title>A</title>\n",
       "<ellipse fill=\"none\" stroke=\"#000000\" cx=\"63\" cy=\"-106.8\" rx=\"46.3453\" ry=\"18\"/>\n",
       "<text text-anchor=\"middle\" x=\"63\" y=\"-102.6\" font-family=\"Times,serif\" font-size=\"14.00\" fill=\"#000000\">attr: nom</text>\n",
       "</g>\n",
       "<!-- Ag -->\n",
       "<g id=\"node2\" class=\"node\">\n",
       "<title>Ag</title>\n",
       "<polygon fill=\"none\" stroke=\"#000000\" points=\"54,-36 0,-36 0,0 54,0 54,-36\"/>\n",
       "<text text-anchor=\"middle\" x=\"27\" y=\"-13.8\" font-family=\"Times,serif\" font-size=\"14.00\" fill=\"#000000\">1</text>\n",
       "</g>\n",
       "<!-- A&#45;&gt;Ag -->\n",
       "<g id=\"edge1\" class=\"edge\">\n",
       "<title>A&#45;&gt;Ag</title>\n",
       "<path fill=\"none\" stroke=\"#000000\" d=\"M47.9208,-89.4589C43.7115,-83.8291 39.5248,-77.3403 36.7108,-70.8 33.3955,-63.0946 31.211,-54.2812 29.7721,-46.0912\"/>\n",
       "<polygon fill=\"#000000\" stroke=\"#000000\" points=\"33.2328,-45.5673 28.3191,-36.1809 26.3068,-46.5829 33.2328,-45.5673\"/>\n",
       "<text text-anchor=\"middle\" x=\"56.1446\" y=\"-58.2\" font-family=\"Times,serif\" font-size=\"14.00\" fill=\"#000000\">&lt;=42.0</text>\n",
       "</g>\n",
       "<!-- Ad -->\n",
       "<g id=\"node3\" class=\"node\">\n",
       "<title>Ad</title>\n",
       "<polygon fill=\"none\" stroke=\"#000000\" points=\"126,-36 72,-36 72,0 126,0 126,-36\"/>\n",
       "<text text-anchor=\"middle\" x=\"99\" y=\"-13.8\" font-family=\"Times,serif\" font-size=\"14.00\" fill=\"#000000\">2</text>\n",
       "</g>\n",
       "<!-- A&#45;&gt;Ad -->\n",
       "<g id=\"edge2\" class=\"edge\">\n",
       "<title>A&#45;&gt;Ad</title>\n",
       "<path fill=\"none\" stroke=\"#000000\" d=\"M70.2851,-88.83C75.278,-76.5142 82.0002,-59.9328 87.6853,-45.9095\"/>\n",
       "<polygon fill=\"#000000\" stroke=\"#000000\" points=\"91.0886,-46.8305 91.6021,-36.2481 84.6014,-44.2005 91.0886,-46.8305\"/>\n",
       "<text text-anchor=\"middle\" x=\"100.1973\" y=\"-58.2\" font-family=\"Times,serif\" font-size=\"14.00\" fill=\"#000000\">&gt;42.0</text>\n",
       "</g>\n",
       "</g>\n",
       "</svg>\n"
      ],
      "text/plain": [
       "<graphviz.dot.Digraph at 0x1a14ca4908>"
      ]
     },
     "execution_count": 494,
     "metadata": {},
     "output_type": "execute_result"
    }
   ],
   "source": [
    "# Exemple d'utilisation: \n",
    "un_arbre= ArbreBinaire()\n",
    "un_arbre.ajoute_feuille(1)\n",
    "print(un_arbre.est_feuille())\n",
    "\n",
    "un_arbre1 = ArbreBinaire()\n",
    "un_arbre1.ajoute_feuille(2)\n",
    "\n",
    "un_arbre2 = ArbreBinaire()\n",
    "un_arbre2.ajoute_fils(un_arbre,un_arbre1,\"nom\",42.0)\n",
    "\n",
    "\n",
    "un_arbre3 = ArbreBinaire()\n",
    "un_arbre3.ajoute_fils(un_arbre,un_arbre1,\"age\",30.0)\n",
    "\n",
    "gtree = gv.Digraph(format='png')\n",
    "un_arbre2.to_graph(gtree)"
   ]
  },
  {
   "cell_type": "markdown",
   "metadata": {},
   "source": [
    "### Construction de l'arbre de décision"
   ]
  },
  {
   "cell_type": "markdown",
   "metadata": {},
   "source": [
    "Pour construire un arbre de décision, il faut réaliser les étapes suivantes:\n",
    "- si l'entropie de Shannon de la distribution des classes de l'ensemble courant est inférieure à epsilon (réel positif fixé et qui est un paramètre de l'algorithme), alors construire une feuille avec cet ensemble, la classe associée à cette feuille est la classe majoritaire;\n",
    "- sinon, pour chaque attribut, calculer le seuil de discrétisation et l'entropie de Shannon correspondante\n",
    "    - choisir l'attribut qui donne une valeur d'entropie minimale\n",
    "    - l'attribut choisi sert à constituer un noeud de l'arbre de décision, les arcs issus de ce noeud sont labeller par un test (inférieur ou égal ou supérieur) par rapport au seuil trouvé\n",
    "    \n",
    "    \n",
    "<font size=\"+1\">**[Q]**</font> Ecrire la fonction qui construit un arbre de décision (binaire) à partir d'une base d'exemples. En plus de la base d'exemples, on utilise un argument \"epsilon\" qui est un réel >0 et qui sert pour le critère d'arrêt.\n",
    "Cette fonction a la spécification suivante:\n",
    "\n",
    "    def construit_AD(LSet,epsilon):\n",
    "        \"\"\" LSet : LabeledSet\n",
    "            epsilon : seuil d'entropie pour le critère d'arrêt \n",
    "        \"\"\"\n"
   ]
  },
  {
   "cell_type": "code",
   "execution_count": 495,
   "metadata": {
    "collapsed": true
   },
   "outputs": [],
   "source": [
    "def construit_AD(LSet, epsilon):\n",
    "    un_arbre = ArbreBinaire();\n",
    "    if(entropie(LSet) <= epsilon):\n",
    "        un_arbre.ajoute_feuille(classe_majoritaire(LSet));\n",
    "    else:\n",
    "        seuiles =[]\n",
    "        entropies = []\n",
    "        index = 0\n",
    "        seuile = 0\n",
    "        ent = 0\n",
    "        for c in range(LSet.getInputDimension()-1):\n",
    "            seuile, ent = discretise(LSet,c);\n",
    "            seuiles.append(seuile);\n",
    "            entropies.append(entropie);\n",
    "        index = entropies.index(min(entropies));\n",
    "        Linf, Lsup = divise(the_set,index,seuiles[index])\n",
    "        un_arbre1 = ArbreBinaire();\n",
    "        un_arbre1.ajoute_feuille(classe_majoritaire(Linf));\n",
    "        un_arbre2 = ArbreBinaire();\n",
    "        un_arbre2.ajoute_feuille(classe_majoritaire(Lsup));\n",
    "        un_arbre.ajoute_fils(un_arbre1,un_arbre2,index,seuiles[index])\n",
    "        \n",
    "    return un_arbre;"
   ]
  },
  {
   "cell_type": "code",
   "execution_count": 496,
   "metadata": {},
   "outputs": [
    {
     "data": {
      "image/svg+xml": [
       "<?xml version=\"1.0\" encoding=\"UTF-8\" standalone=\"no\"?>\n",
       "<!DOCTYPE svg PUBLIC \"-//W3C//DTD SVG 1.1//EN\"\n",
       " \"http://www.w3.org/Graphics/SVG/1.1/DTD/svg11.dtd\">\n",
       "<!-- Generated by graphviz version 2.40.1 (20161225.0304)\n",
       " -->\n",
       "<!-- Title: %3 Pages: 1 -->\n",
       "<svg width=\"253pt\" height=\"133pt\"\n",
       " viewBox=\"0.00 0.00 253.06 132.80\" xmlns=\"http://www.w3.org/2000/svg\" xmlns:xlink=\"http://www.w3.org/1999/xlink\">\n",
       "<g id=\"graph0\" class=\"graph\" transform=\"scale(1 1) rotate(0) translate(4 128.8)\">\n",
       "<title>%3</title>\n",
       "<polygon fill=\"#ffffff\" stroke=\"transparent\" points=\"-4,4 -4,-128.8 249.0552,-128.8 249.0552,4 -4,4\"/>\n",
       "<!-- A -->\n",
       "<g id=\"node1\" class=\"node\">\n",
       "<title>A</title>\n",
       "<ellipse fill=\"none\" stroke=\"#000000\" cx=\"92\" cy=\"-106.8\" rx=\"33.6643\" ry=\"18\"/>\n",
       "<text text-anchor=\"middle\" x=\"92\" y=\"-102.6\" font-family=\"Times,serif\" font-size=\"14.00\" fill=\"#000000\">attr: 0</text>\n",
       "</g>\n",
       "<!-- Ag -->\n",
       "<g id=\"node2\" class=\"node\">\n",
       "<title>Ag</title>\n",
       "<polygon fill=\"none\" stroke=\"#000000\" points=\"54,-36 0,-36 0,0 54,0 54,-36\"/>\n",
       "<text text-anchor=\"middle\" x=\"27\" y=\"-13.8\" font-family=\"Times,serif\" font-size=\"14.00\" fill=\"#000000\">&#45;1</text>\n",
       "</g>\n",
       "<!-- A&#45;&gt;Ag -->\n",
       "<g id=\"edge1\" class=\"edge\">\n",
       "<title>A&#45;&gt;Ag</title>\n",
       "<path fill=\"none\" stroke=\"#000000\" d=\"M62.6804,-97.8004C49.7164,-92.2124 35.7012,-83.5934 28.0502,-70.8 23.7488,-63.6075 22.3852,-54.8199 22.4098,-46.4931\"/>\n",
       "<polygon fill=\"#000000\" stroke=\"#000000\" points=\"25.9132,-46.5525 23.0669,-36.3472 18.9279,-46.1001 25.9132,-46.5525\"/>\n",
       "<text text-anchor=\"middle\" x=\"82.9749\" y=\"-58.2\" font-family=\"Times,serif\" font-size=\"14.00\" fill=\"#000000\">&lt;=&#45;0.17804813618</text>\n",
       "</g>\n",
       "<!-- Ad -->\n",
       "<g id=\"node3\" class=\"node\">\n",
       "<title>Ad</title>\n",
       "<polygon fill=\"none\" stroke=\"#000000\" points=\"185,-36 131,-36 131,0 185,0 185,-36\"/>\n",
       "<text text-anchor=\"middle\" x=\"158\" y=\"-13.8\" font-family=\"Times,serif\" font-size=\"14.00\" fill=\"#000000\">1</text>\n",
       "</g>\n",
       "<!-- A&#45;&gt;Ad -->\n",
       "<g id=\"edge2\" class=\"edge\">\n",
       "<title>A&#45;&gt;Ad</title>\n",
       "<path fill=\"none\" stroke=\"#000000\" d=\"M113.6324,-92.5049C121.4596,-86.5189 129.8705,-79.0337 136,-70.8 141.5408,-63.3571 145.9677,-54.3134 149.3557,-45.8291\"/>\n",
       "<polygon fill=\"#000000\" stroke=\"#000000\" points=\"152.7093,-46.8493 152.8602,-36.2556 146.1359,-44.443 152.7093,-46.8493\"/>\n",
       "<text text-anchor=\"middle\" x=\"195.0276\" y=\"-58.2\" font-family=\"Times,serif\" font-size=\"14.00\" fill=\"#000000\">&gt;&#45;0.17804813618</text>\n",
       "</g>\n",
       "</g>\n",
       "</svg>\n"
      ],
      "text/plain": [
       "<graphviz.dot.Digraph at 0x112a7c4a8>"
      ]
     },
     "execution_count": 496,
     "metadata": {},
     "output_type": "execute_result"
    }
   ],
   "source": [
    "#test de l'affichage \n",
    "abin = construit_AD(the_set,0.0)\n",
    "gtree = gv.Digraph(format='png')\n",
    "abin.to_graph(gtree)"
   ]
  },
  {
   "cell_type": "markdown",
   "metadata": {},
   "source": [
    "### Classification avec arbre de décision\n"
   ]
  },
  {
   "cell_type": "markdown",
   "metadata": {},
   "source": [
    "Pour classer un nouvel exemple avec un arbre de décision, il faut parcourir l'arbre, de la racine vers une feuille en respectant les tests rencontrés dans chaque arc. Une fois atteint une feuille, la classe de l'exemple est celle présente dans la feuille.\n",
    "\n",
    "La classe ArbreBinaire contient déjà une fonction <code>classifie</code> qui permet de classer un nouvel exemple et de renvoyer la classe +1 ou -1 selon le cas."
   ]
  },
  {
   "cell_type": "markdown",
   "metadata": {},
   "source": [
    "### Implémentation"
   ]
  },
  {
   "cell_type": "markdown",
   "metadata": {},
   "source": [
    "De la même façon que pour le knn, on définit le classifieur <code>ArbreDecision</code> (classe héritant de la classe Classifier vue lors du TD-TME 5) comme suit.\n",
    "\n",
    "Si toutes les fonctions précédentes ont été écrites correctement, il est maintenant possible de construire un arbre de décision à partir de la base jouet.\n"
   ]
  },
  {
   "cell_type": "markdown",
   "metadata": {},
   "source": [
    "## Applications à des données réelles"
   ]
  },
  {
   "cell_type": "code",
   "execution_count": 497,
   "metadata": {
    "collapsed": true
   },
   "outputs": [],
   "source": [
    "class ArbreDecision(Classifier):\n",
    "    # Constructeur\n",
    "    def __init__(self,epsilon):\n",
    "        # valeur seuil d'entropie pour arrêter la construction\n",
    "        self.epsilon= epsilon\n",
    "        self.racine = None\n",
    "    \n",
    "    # Permet de calculer la prediction sur x => renvoie un score\n",
    "    def predict(self,x):\n",
    "        # classification de l'exemple x avec l'arbre de décision\n",
    "        # on rend 0 (classe -1) ou 1 (classe 1)\n",
    "        classe = self.racine.classifie(x)\n",
    "        if (classe == 1):\n",
    "            return(1)\n",
    "        else:\n",
    "            return(-1)\n",
    "    \n",
    "    # Permet d'entrainer le modele sur un ensemble de données\n",
    "    def train(self,set):\n",
    "        # construction de l'arbre de décision \n",
    "        self.set=set\n",
    "        self.racine = construit_AD(set,self.epsilon)\n",
    "\n",
    "    # Permet d'afficher l'arbre\n",
    "    def plot(self):\n",
    "        gtree = gv.Digraph(format='png')\n",
    "        return self.racine.to_graph(gtree)\n",
    "    \n",
    "    #Permet de calculer la qualité du système \n",
    "    def accuracy(self, dataset):\n",
    "        nb_ok = 0\n",
    "        for i in range(dataset.size()):\n",
    "            output = self.predict(dataset.getX(i))\n",
    "            if (output * dataset.getY(i) > 0):\n",
    "                nb_ok = nb_ok + 1\n",
    "        acc = nb_ok / (dataset.size() * 1.0)\n",
    "        return acc"
   ]
  },
  {
   "cell_type": "code",
   "execution_count": 498,
   "metadata": {},
   "outputs": [
    {
     "data": {
      "image/png": "[encoded data removed]",
      "text/plain": [
       "<matplotlib.figure.Figure at 0x1a14bf8cf8>"
      ]
     },
     "metadata": {},
     "output_type": "display_data"
    }
   ],
   "source": [
    "# un exemple d'utilisation:\n",
    "ad=ArbreDecision(0.0)          # initialiation d'un arbre binaire qui utilisera epsilon= 0.0\n",
    "ad.train(the_set)              # construction de l'arbre à partir de la base jouet\n",
    "plot_frontiere(the_set,ad,20)  # tracé graphique de la frontière de décision\n",
    "plot2DSet(the_set) "
   ]
  },
  {
   "cell_type": "code",
   "execution_count": 499,
   "metadata": {},
   "outputs": [
    {
     "name": "stdout",
     "output_type": "stream",
     "text": [
      "1.0\n"
     ]
    },
    {
     "data": {
      "image/svg+xml": [
       "<?xml version=\"1.0\" encoding=\"UTF-8\" standalone=\"no\"?>\n",
       "<!DOCTYPE svg PUBLIC \"-//W3C//DTD SVG 1.1//EN\"\n",
       " \"http://www.w3.org/Graphics/SVG/1.1/DTD/svg11.dtd\">\n",
       "<!-- Generated by graphviz version 2.40.1 (20161225.0304)\n",
       " -->\n",
       "<!-- Title: %3 Pages: 1 -->\n",
       "<svg width=\"253pt\" height=\"133pt\"\n",
       " viewBox=\"0.00 0.00 253.06 132.80\" xmlns=\"http://www.w3.org/2000/svg\" xmlns:xlink=\"http://www.w3.org/1999/xlink\">\n",
       "<g id=\"graph0\" class=\"graph\" transform=\"scale(1 1) rotate(0) translate(4 128.8)\">\n",
       "<title>%3</title>\n",
       "<polygon fill=\"#ffffff\" stroke=\"transparent\" points=\"-4,4 -4,-128.8 249.0552,-128.8 249.0552,4 -4,4\"/>\n",
       "<!-- A -->\n",
       "<g id=\"node1\" class=\"node\">\n",
       "<title>A</title>\n",
       "<ellipse fill=\"none\" stroke=\"#000000\" cx=\"92\" cy=\"-106.8\" rx=\"33.6643\" ry=\"18\"/>\n",
       "<text text-anchor=\"middle\" x=\"92\" y=\"-102.6\" font-family=\"Times,serif\" font-size=\"14.00\" fill=\"#000000\">attr: 0</text>\n",
       "</g>\n",
       "<!-- Ag -->\n",
       "<g id=\"node2\" class=\"node\">\n",
       "<title>Ag</title>\n",
       "<polygon fill=\"none\" stroke=\"#000000\" points=\"54,-36 0,-36 0,0 54,0 54,-36\"/>\n",
       "<text text-anchor=\"middle\" x=\"27\" y=\"-13.8\" font-family=\"Times,serif\" font-size=\"14.00\" fill=\"#000000\">&#45;1</text>\n",
       "</g>\n",
       "<!-- A&#45;&gt;Ag -->\n",
       "<g id=\"edge1\" class=\"edge\">\n",
       "<title>A&#45;&gt;Ag</title>\n",
       "<path fill=\"none\" stroke=\"#000000\" d=\"M62.6804,-97.8004C49.7164,-92.2124 35.7012,-83.5934 28.0502,-70.8 23.7488,-63.6075 22.3852,-54.8199 22.4098,-46.4931\"/>\n",
       "<polygon fill=\"#000000\" stroke=\"#000000\" points=\"25.9132,-46.5525 23.0669,-36.3472 18.9279,-46.1001 25.9132,-46.5525\"/>\n",
       "<text text-anchor=\"middle\" x=\"82.9749\" y=\"-58.2\" font-family=\"Times,serif\" font-size=\"14.00\" fill=\"#000000\">&lt;=&#45;0.17804813618</text>\n",
       "</g>\n",
       "<!-- Ad -->\n",
       "<g id=\"node3\" class=\"node\">\n",
       "<title>Ad</title>\n",
       "<polygon fill=\"none\" stroke=\"#000000\" points=\"185,-36 131,-36 131,0 185,0 185,-36\"/>\n",
       "<text text-anchor=\"middle\" x=\"158\" y=\"-13.8\" font-family=\"Times,serif\" font-size=\"14.00\" fill=\"#000000\">1</text>\n",
       "</g>\n",
       "<!-- A&#45;&gt;Ad -->\n",
       "<g id=\"edge2\" class=\"edge\">\n",
       "<title>A&#45;&gt;Ad</title>\n",
       "<path fill=\"none\" stroke=\"#000000\" d=\"M113.6324,-92.5049C121.4596,-86.5189 129.8705,-79.0337 136,-70.8 141.5408,-63.3571 145.9677,-54.3134 149.3557,-45.8291\"/>\n",
       "<polygon fill=\"#000000\" stroke=\"#000000\" points=\"152.7093,-46.8493 152.8602,-36.2556 146.1359,-44.443 152.7093,-46.8493\"/>\n",
       "<text text-anchor=\"middle\" x=\"195.0276\" y=\"-58.2\" font-family=\"Times,serif\" font-size=\"14.00\" fill=\"#000000\">&gt;&#45;0.17804813618</text>\n",
       "</g>\n",
       "</g>\n",
       "</svg>\n"
      ],
      "text/plain": [
       "<graphviz.dot.Digraph at 0x1a14a459b0>"
      ]
     },
     "execution_count": 499,
     "metadata": {},
     "output_type": "execute_result"
    }
   ],
   "source": [
    "print(ad.accuracy(the_set))\n",
    "ad.plot()"
   ]
  },
  {
   "cell_type": "markdown",
   "metadata": {},
   "source": [
    "<font size=\"+1\">**[Q]**</font> Appliquer l'algorithme des arbres de décision à des données réelles (par exemple, celles utilisées avec les k-nn) et comparer les résultats obtenus par les 2 algorithmes.\n",
    "\n",
    "Un autre exemple d'utilisation sur une base plus grande:"
   ]
  },
  {
   "cell_type": "code",
   "execution_count": 500,
   "metadata": {
    "scrolled": true
   },
   "outputs": [
    {
     "name": "stdout",
     "output_type": "stream",
     "text": [
      "Taille de la base générée : 200 exemples\n"
     ]
    },
    {
     "data": {
      "image/png": "[encoded data removed]",
      "text/plain": [
       "<matplotlib.figure.Figure at 0x112912080>"
      ]
     },
     "metadata": {},
     "output_type": "display_data"
    }
   ],
   "source": [
    "autre_set=the_set = LabeledSet(2)\n",
    "ajouter_exemples_aleatoires(the_set, 100, 1, [-1])\n",
    "ajouter_exemples_aleatoires(the_set, 100, -1, [1])\n",
    "\n",
    "print(\"Taille de la base générée :\", autre_set.size(), \"exemples\")\n",
    "adautre=ArbreDecision(0.0)          \n",
    "adautre.train(autre_set)            \n",
    "plot_frontiere(autre_set,adautre,20)\n",
    "plot2DSet(autre_set) "
   ]
  },
  {
   "cell_type": "code",
   "execution_count": 501,
   "metadata": {},
   "outputs": [
    {
     "name": "stdout",
     "output_type": "stream",
     "text": [
      "0.88\n"
     ]
    },
    {
     "data": {
      "image/svg+xml": [
       "<?xml version=\"1.0\" encoding=\"UTF-8\" standalone=\"no\"?>\n",
       "<!DOCTYPE svg PUBLIC \"-//W3C//DTD SVG 1.1//EN\"\n",
       " \"http://www.w3.org/Graphics/SVG/1.1/DTD/svg11.dtd\">\n",
       "<!-- Generated by graphviz version 2.40.1 (20161225.0304)\n",
       " -->\n",
       "<!-- Title: %3 Pages: 1 -->\n",
       "<svg width=\"243pt\" height=\"133pt\"\n",
       " viewBox=\"0.00 0.00 243.39 132.80\" xmlns=\"http://www.w3.org/2000/svg\" xmlns:xlink=\"http://www.w3.org/1999/xlink\">\n",
       "<g id=\"graph0\" class=\"graph\" transform=\"scale(1 1) rotate(0) translate(4 128.8)\">\n",
       "<title>%3</title>\n",
       "<polygon fill=\"#ffffff\" stroke=\"transparent\" points=\"-4,4 -4,-128.8 239.3946,-128.8 239.3946,4 -4,4\"/>\n",
       "<!-- A -->\n",
       "<g id=\"node1\" class=\"node\">\n",
       "<title>A</title>\n",
       "<ellipse fill=\"none\" stroke=\"#000000\" cx=\"90\" cy=\"-106.8\" rx=\"33.6643\" ry=\"18\"/>\n",
       "<text text-anchor=\"middle\" x=\"90\" y=\"-102.6\" font-family=\"Times,serif\" font-size=\"14.00\" fill=\"#000000\">attr: 0</text>\n",
       "</g>\n",
       "<!-- Ag -->\n",
       "<g id=\"node2\" class=\"node\">\n",
       "<title>Ag</title>\n",
       "<polygon fill=\"none\" stroke=\"#000000\" points=\"54,-36 0,-36 0,0 54,0 54,-36\"/>\n",
       "<text text-anchor=\"middle\" x=\"27\" y=\"-13.8\" font-family=\"Times,serif\" font-size=\"14.00\" fill=\"#000000\">1</text>\n",
       "</g>\n",
       "<!-- A&#45;&gt;Ag -->\n",
       "<g id=\"edge1\" class=\"edge\">\n",
       "<title>A&#45;&gt;Ag</title>\n",
       "<path fill=\"none\" stroke=\"#000000\" d=\"M60.7367,-97.3454C48.2809,-91.7158 34.9735,-83.1924 27.7108,-70.8 23.4738,-63.5704 22.1719,-54.7721 22.2493,-46.4471\"/>\n",
       "<polygon fill=\"#000000\" stroke=\"#000000\" points=\"25.752,-46.5313 22.9678,-36.3088 18.7695,-46.0364 25.752,-46.5313\"/>\n",
       "<text text-anchor=\"middle\" x=\"79.6446\" y=\"-58.2\" font-family=\"Times,serif\" font-size=\"14.00\" fill=\"#000000\">&lt;=0.22736245966</text>\n",
       "</g>\n",
       "<!-- Ad -->\n",
       "<g id=\"node3\" class=\"node\">\n",
       "<title>Ad</title>\n",
       "<polygon fill=\"none\" stroke=\"#000000\" points=\"180,-36 126,-36 126,0 180,0 180,-36\"/>\n",
       "<text text-anchor=\"middle\" x=\"153\" y=\"-13.8\" font-family=\"Times,serif\" font-size=\"14.00\" fill=\"#000000\">&#45;1</text>\n",
       "</g>\n",
       "<!-- A&#45;&gt;Ad -->\n",
       "<g id=\"edge2\" class=\"edge\">\n",
       "<title>A&#45;&gt;Ad</title>\n",
       "<path fill=\"none\" stroke=\"#000000\" d=\"M110.1229,-92.2614C117.4122,-86.2455 125.2558,-78.8035 131,-70.8 136.4103,-63.2617 140.802,-54.1923 144.1979,-45.7138\"/>\n",
       "<polygon fill=\"#000000\" stroke=\"#000000\" points=\"147.5454,-46.7524 147.7283,-36.1592 140.9792,-44.3262 147.5454,-46.7524\"/>\n",
       "<text text-anchor=\"middle\" x=\"187.6973\" y=\"-58.2\" font-family=\"Times,serif\" font-size=\"14.00\" fill=\"#000000\">&gt;0.22736245966</text>\n",
       "</g>\n",
       "</g>\n",
       "</svg>\n"
      ],
      "text/plain": [
       "<graphviz.dot.Digraph at 0x1a14a86588>"
      ]
     },
     "execution_count": 501,
     "metadata": {},
     "output_type": "execute_result"
    }
   ],
   "source": [
    "print(adautre.accuracy(autre_set))\n",
    "adautre.plot()"
   ]
  },
  {
   "cell_type": "markdown",
   "metadata": {},
   "source": [
    "### Améliorations (facultatif)"
   ]
  },
  {
   "cell_type": "markdown",
   "metadata": {},
   "source": [
    "Adapter votre algorithme afin de pouvoir construire des arbres de décision avec des attributs catégoriels."
   ]
  },
  {
   "cell_type": "code",
   "execution_count": 502,
   "metadata": {
    "collapsed": true
   },
   "outputs": [],
   "source": [
    "def construit_AD2(LSet, epsilon):\n",
    "    un_arbre = ArbreBinaire();\n",
    "    if(entropie(LSet) <= epsilon):\n",
    "        feuille = ArbreBinaire();\n",
    "        feuille.ajoute_feuille(classe_majoritaire(LSet));\n",
    "        feuille.est_feuille();\n",
    "        return feuille;\n",
    "    else:\n",
    "        seuiles =[]\n",
    "        entropies = []\n",
    "        for c in range(LSet.getInputDimension()):\n",
    "            seuile, ent = discretise(LSet,c);\n",
    "            seuiles.append(seuile);\n",
    "            entropies.append(ent);\n",
    "            \n",
    "        index = entropies.index(min(entropies));    \n",
    "        Linf, Lsup = divise(LSet,index,seuiles[index])\n",
    "        un_arbre.ajoute_fils(construit_AD2(Linf,epsilon),construit_AD2(Lsup,epsilon),index,seuiles[index])\n",
    "\n",
    "\n",
    "    return un_arbre;"
   ]
  },
  {
   "cell_type": "code",
   "execution_count": 503,
   "metadata": {
    "collapsed": true
   },
   "outputs": [],
   "source": [
    "class ArbreDecision2(Classifier):\n",
    "    # Constructeur\n",
    "    def __init__(self,epsilon):\n",
    "        # valeur seuil d'entropie pour arrêter la construction\n",
    "        self.epsilon= epsilon\n",
    "        self.racine = None\n",
    "    \n",
    "    # Permet de calculer la prediction sur x => renvoie un score\n",
    "    def predict(self,x):\n",
    "        # classification de l'exemple x avec l'arbre de décision\n",
    "        # on rend 0 (classe -1) ou 1 (classe 1)\n",
    "        classe = self.racine.classifie(x)\n",
    "        if (classe == 1):\n",
    "            return(1)\n",
    "        else:\n",
    "            return(-1)\n",
    "    \n",
    "    # Permet d'entrainer le modele sur un ensemble de données\n",
    "    def train(self,set):\n",
    "        # construction de l'arbre de décision \n",
    "        self.set=set\n",
    "        self.racine = construit_AD2(set,self.epsilon)\n",
    "\n",
    "    # Permet d'afficher l'arbre\n",
    "    def plot(self):\n",
    "        gtree = gv.Digraph(format='png')\n",
    "        return self.racine.to_graph(gtree)\n",
    "    \n",
    "    #Permet de calculer la qualité du système \n",
    "    def accuracy(self, dataset):\n",
    "        nb_ok = 0\n",
    "        for i in range(dataset.size()):\n",
    "            output = self.predict(dataset.getX(i))\n",
    "            if (output * dataset.getY(i) > 0):\n",
    "                nb_ok = nb_ok + 1\n",
    "        acc = nb_ok / (dataset.size() * 1.0)\n",
    "        return acc"
   ]
  },
  {
   "cell_type": "code",
   "execution_count": 504,
   "metadata": {
    "collapsed": true
   },
   "outputs": [],
   "source": [
    "the_set = LabeledSet(2)\n",
    "ajouter_exemples_aleatoires(the_set, 100, 1.5, [-1])\n",
    "ajouter_exemples_aleatoires(the_set, 100, -1.5, [1])"
   ]
  },
  {
   "cell_type": "code",
   "execution_count": 505,
   "metadata": {},
   "outputs": [
    {
     "name": "stdout",
     "output_type": "stream",
     "text": [
      "Taille de la base générée : 200 exemples\n"
     ]
    },
    {
     "data": {
      "image/png": "[encoded data removed]",
      "text/plain": [
       "<matplotlib.figure.Figure at 0x1a14a860b8>"
      ]
     },
     "metadata": {},
     "output_type": "display_data"
    }
   ],
   "source": [
    "ad=ArbreDecision2(0.0)          # initialiation d'un arbre binaire qui utilisera epsilon= 0.0\n",
    "print(\"Taille de la base générée :\", the_set.size(), \"exemples\")\n",
    "ad.train(the_set)              # construction de l'arbre à partir de la base jouet\n",
    "plot_frontiere(the_set,ad,20)  # tracé graphique de la frontière de décision\n",
    "plot2DSet(the_set) "
   ]
  },
  {
   "cell_type": "code",
   "execution_count": 506,
   "metadata": {},
   "outputs": [
    {
     "name": "stdout",
     "output_type": "stream",
     "text": [
      "1.0\n"
     ]
    },
    {
     "data": {
      "image/svg+xml": [
       "<?xml version=\"1.0\" encoding=\"UTF-8\" standalone=\"no\"?>\n",
       "<!DOCTYPE svg PUBLIC \"-//W3C//DTD SVG 1.1//EN\"\n",
       " \"http://www.w3.org/Graphics/SVG/1.1/DTD/svg11.dtd\">\n",
       "<!-- Generated by graphviz version 2.40.1 (20161225.0304)\n",
       " -->\n",
       "<!-- Title: %3 Pages: 1 -->\n",
       "<svg width=\"1260pt\" height=\"577pt\"\n",
       " viewBox=\"0.00 0.00 1260.39 576.80\" xmlns=\"http://www.w3.org/2000/svg\" xmlns:xlink=\"http://www.w3.org/1999/xlink\">\n",
       "<g id=\"graph0\" class=\"graph\" transform=\"scale(1 1) rotate(0) translate(4 572.8)\">\n",
       "<title>%3</title>\n",
       "<polygon fill=\"#ffffff\" stroke=\"transparent\" points=\"-4,4 -4,-572.8 1256.3946,-572.8 1256.3946,4 -4,4\"/>\n",
       "<!-- A -->\n",
       "<g id=\"node1\" class=\"node\">\n",
       "<title>A</title>\n",
       "<ellipse fill=\"none\" stroke=\"#000000\" cx=\"511\" cy=\"-550.8\" rx=\"33.6643\" ry=\"18\"/>\n",
       "<text text-anchor=\"middle\" x=\"511\" y=\"-546.6\" font-family=\"Times,serif\" font-size=\"14.00\" fill=\"#000000\">attr: 0</text>\n",
       "</g>\n",
       "<!-- Ag -->\n",
       "<g id=\"node2\" class=\"node\">\n",
       "<title>Ag</title>\n",
       "<ellipse fill=\"none\" stroke=\"#000000\" cx=\"415\" cy=\"-462\" rx=\"33.6643\" ry=\"18\"/>\n",
       "<text text-anchor=\"middle\" x=\"415\" y=\"-457.8\" font-family=\"Times,serif\" font-size=\"14.00\" fill=\"#000000\">attr: 1</text>\n",
       "</g>\n",
       "<!-- A&#45;&gt;Ag -->\n",
       "<g id=\"edge29\" class=\"edge\">\n",
       "<title>A&#45;&gt;Ag</title>\n",
       "<path fill=\"none\" stroke=\"#000000\" d=\"M493.8371,-534.9243C478.684,-520.9077 456.4205,-500.314 439.4138,-484.5828\"/>\n",
       "<polygon fill=\"#000000\" stroke=\"#000000\" points=\"441.732,-481.9593 432.0143,-477.7382 436.9787,-487.098 441.732,-481.9593\"/>\n",
       "<text text-anchor=\"middle\" x=\"530.6446\" y=\"-502.2\" font-family=\"Times,serif\" font-size=\"14.00\" fill=\"#000000\">&lt;=0.0579663971778</text>\n",
       "</g>\n",
       "<!-- Ad -->\n",
       "<g id=\"node15\" class=\"node\">\n",
       "<title>Ad</title>\n",
       "<ellipse fill=\"none\" stroke=\"#000000\" cx=\"665\" cy=\"-462\" rx=\"33.6643\" ry=\"18\"/>\n",
       "<text text-anchor=\"middle\" x=\"665\" y=\"-457.8\" font-family=\"Times,serif\" font-size=\"14.00\" fill=\"#000000\">attr: 1</text>\n",
       "</g>\n",
       "<!-- A&#45;&gt;Ad -->\n",
       "<g id=\"edge30\" class=\"edge\">\n",
       "<title>A&#45;&gt;Ad</title>\n",
       "<path fill=\"none\" stroke=\"#000000\" d=\"M538.6924,-540.4102C554.9409,-533.8845 575.6268,-524.8216 593,-514.8 608.7506,-505.7143 625.1843,-493.8689 638.368,-483.7006\"/>\n",
       "<polygon fill=\"#000000\" stroke=\"#000000\" points=\"640.8127,-486.2313 646.5224,-477.3066 636.4934,-480.7228 640.8127,-486.2313\"/>\n",
       "<text text-anchor=\"middle\" x=\"672.6973\" y=\"-502.2\" font-family=\"Times,serif\" font-size=\"14.00\" fill=\"#000000\">&gt;0.0579663971778</text>\n",
       "</g>\n",
       "<!-- Agg -->\n",
       "<g id=\"node3\" class=\"node\">\n",
       "<title>Agg</title>\n",
       "<polygon fill=\"none\" stroke=\"#000000\" points=\"309,-391.2 255,-391.2 255,-355.2 309,-355.2 309,-391.2\"/>\n",
       "<text text-anchor=\"middle\" x=\"282\" y=\"-369\" font-family=\"Times,serif\" font-size=\"14.00\" fill=\"#000000\">1</text>\n",
       "</g>\n",
       "<!-- Ag&#45;&gt;Agg -->\n",
       "<g id=\"edge11\" class=\"edge\">\n",
       "<title>Ag&#45;&gt;Agg</title>\n",
       "<path fill=\"none\" stroke=\"#000000\" d=\"M382.2126,-457.2317C348.0631,-451.5409 297.8678,-440.8899 285.7108,-426 280.1743,-419.2189 278.2445,-410.1729 278.0038,-401.4867\"/>\n",
       "<polygon fill=\"#000000\" stroke=\"#000000\" points=\"281.5109,-401.38 278.4191,-391.2463 274.5167,-401.0963 281.5109,-401.38\"/>\n",
       "<text text-anchor=\"middle\" x=\"341.1446\" y=\"-413.4\" font-family=\"Times,serif\" font-size=\"14.00\" fill=\"#000000\">&lt;=0.618542472358</text>\n",
       "</g>\n",
       "<!-- Agd -->\n",
       "<g id=\"node4\" class=\"node\">\n",
       "<title>Agd</title>\n",
       "<ellipse fill=\"none\" stroke=\"#000000\" cx=\"388\" cy=\"-373.2\" rx=\"33.6643\" ry=\"18\"/>\n",
       "<text text-anchor=\"middle\" x=\"388\" y=\"-369\" font-family=\"Times,serif\" font-size=\"14.00\" fill=\"#000000\">attr: 0</text>\n",
       "</g>\n",
       "<!-- Ag&#45;&gt;Agd -->\n",
       "<g id=\"edge12\" class=\"edge\">\n",
       "<title>Ag&#45;&gt;Agd</title>\n",
       "<path fill=\"none\" stroke=\"#000000\" d=\"M409.5361,-444.03C405.7667,-431.6327 400.683,-414.913 396.4014,-400.8312\"/>\n",
       "<polygon fill=\"#000000\" stroke=\"#000000\" points=\"399.7135,-399.6926 393.4557,-391.1433 393.0162,-401.729 399.7135,-399.6926\"/>\n",
       "<text text-anchor=\"middle\" x=\"455.1973\" y=\"-413.4\" font-family=\"Times,serif\" font-size=\"14.00\" fill=\"#000000\">&gt;0.618542472358</text>\n",
       "</g>\n",
       "<!-- Agdg -->\n",
       "<g id=\"node5\" class=\"node\">\n",
       "<title>Agdg</title>\n",
       "<ellipse fill=\"none\" stroke=\"#000000\" cx=\"158\" cy=\"-284.4\" rx=\"33.6643\" ry=\"18\"/>\n",
       "<text text-anchor=\"middle\" x=\"158\" y=\"-280.2\" font-family=\"Times,serif\" font-size=\"14.00\" fill=\"#000000\">attr: 0</text>\n",
       "</g>\n",
       "<!-- Agd&#45;&gt;Agdg -->\n",
       "<g id=\"edge9\" class=\"edge\">\n",
       "<title>Agd&#45;&gt;Agdg</title>\n",
       "<path fill=\"none\" stroke=\"#000000\" d=\"M357.2626,-365.2628C332.9898,-358.6697 298.4325,-348.5576 269.0502,-337.2 242.3386,-326.8747 213.1279,-312.8721 191.3722,-301.8814\"/>\n",
       "<polygon fill=\"#000000\" stroke=\"#000000\" points=\"192.7343,-298.6473 182.2358,-297.2217 189.5539,-304.8831 192.7343,-298.6473\"/>\n",
       "<text text-anchor=\"middle\" x=\"327.4749\" y=\"-324.6\" font-family=\"Times,serif\" font-size=\"14.00\" fill=\"#000000\">&lt;=&#45;0.589964142444</text>\n",
       "</g>\n",
       "<!-- Agdd -->\n",
       "<g id=\"node10\" class=\"node\">\n",
       "<title>Agdd</title>\n",
       "<ellipse fill=\"none\" stroke=\"#000000\" cx=\"388\" cy=\"-284.4\" rx=\"33.6643\" ry=\"18\"/>\n",
       "<text text-anchor=\"middle\" x=\"388\" y=\"-280.2\" font-family=\"Times,serif\" font-size=\"14.00\" fill=\"#000000\">attr: 0</text>\n",
       "</g>\n",
       "<!-- Agd&#45;&gt;Agdd -->\n",
       "<g id=\"edge10\" class=\"edge\">\n",
       "<title>Agd&#45;&gt;Agdd</title>\n",
       "<path fill=\"none\" stroke=\"#000000\" d=\"M388,-354.8006C388,-342.6949 388,-326.6076 388,-312.8674\"/>\n",
       "<polygon fill=\"#000000\" stroke=\"#000000\" points=\"391.5001,-312.472 388,-302.472 384.5001,-312.4721 391.5001,-312.472\"/>\n",
       "<text text-anchor=\"middle\" x=\"441.5276\" y=\"-324.6\" font-family=\"Times,serif\" font-size=\"14.00\" fill=\"#000000\">&gt;&#45;0.589964142444</text>\n",
       "</g>\n",
       "<!-- Agdgg -->\n",
       "<g id=\"node6\" class=\"node\">\n",
       "<title>Agdgg</title>\n",
       "<polygon fill=\"none\" stroke=\"#000000\" points=\"54,-213.6 0,-213.6 0,-177.6 54,-177.6 54,-213.6\"/>\n",
       "<text text-anchor=\"middle\" x=\"27\" y=\"-191.4\" font-family=\"Times,serif\" font-size=\"14.00\" fill=\"#000000\">1</text>\n",
       "</g>\n",
       "<!-- Agdg&#45;&gt;Agdgg -->\n",
       "<g id=\"edge3\" class=\"edge\">\n",
       "<title>Agdg&#45;&gt;Agdgg</title>\n",
       "<path fill=\"none\" stroke=\"#000000\" d=\"M126.4446,-277.5373C97.5779,-270.6901 57.6534,-259.6025 46.0502,-248.4 39.1736,-241.7609 34.7699,-232.4581 31.9536,-223.5075\"/>\n",
       "<polygon fill=\"#000000\" stroke=\"#000000\" points=\"35.3098,-222.5066 29.4013,-213.7123 28.536,-224.2718 35.3098,-222.5066\"/>\n",
       "<text text-anchor=\"middle\" x=\"100.9749\" y=\"-235.8\" font-family=\"Times,serif\" font-size=\"14.00\" fill=\"#000000\">&lt;=&#45;1.39508701435</text>\n",
       "</g>\n",
       "<!-- Agdgd -->\n",
       "<g id=\"node7\" class=\"node\">\n",
       "<title>Agdgd</title>\n",
       "<ellipse fill=\"none\" stroke=\"#000000\" cx=\"158\" cy=\"-195.6\" rx=\"33.6643\" ry=\"18\"/>\n",
       "<text text-anchor=\"middle\" x=\"158\" y=\"-191.4\" font-family=\"Times,serif\" font-size=\"14.00\" fill=\"#000000\">attr: 0</text>\n",
       "</g>\n",
       "<!-- Agdg&#45;&gt;Agdgd -->\n",
       "<g id=\"edge4\" class=\"edge\">\n",
       "<title>Agdg&#45;&gt;Agdgd</title>\n",
       "<path fill=\"none\" stroke=\"#000000\" d=\"M158,-266.0006C158,-253.8949 158,-237.8076 158,-224.0674\"/>\n",
       "<polygon fill=\"#000000\" stroke=\"#000000\" points=\"161.5001,-223.672 158,-213.672 154.5001,-223.6721 161.5001,-223.672\"/>\n",
       "<text text-anchor=\"middle\" x=\"208.0276\" y=\"-235.8\" font-family=\"Times,serif\" font-size=\"14.00\" fill=\"#000000\">&gt;&#45;1.39508701435</text>\n",
       "</g>\n",
       "<!-- Agdgdg -->\n",
       "<g id=\"node8\" class=\"node\">\n",
       "<title>Agdgdg</title>\n",
       "<polygon fill=\"none\" stroke=\"#000000\" points=\"59,-124.8 5,-124.8 5,-88.8 59,-88.8 59,-124.8\"/>\n",
       "<text text-anchor=\"middle\" x=\"32\" y=\"-102.6\" font-family=\"Times,serif\" font-size=\"14.00\" fill=\"#000000\">&#45;1</text>\n",
       "</g>\n",
       "<!-- Agdgd&#45;&gt;Agdgdg -->\n",
       "<g id=\"edge1\" class=\"edge\">\n",
       "<title>Agdgd&#45;&gt;Agdgdg</title>\n",
       "<path fill=\"none\" stroke=\"#000000\" d=\"M126.6655,-188.5903C98.551,-181.7214 60.0702,-170.695 49.0502,-159.6 42.3919,-152.8964 38.3328,-143.5785 35.8586,-134.6339\"/>\n",
       "<polygon fill=\"#000000\" stroke=\"#000000\" points=\"39.271,-133.8551 33.6846,-124.8528 32.4378,-135.374 39.271,-133.8551\"/>\n",
       "<text text-anchor=\"middle\" x=\"103.9749\" y=\"-147\" font-family=\"Times,serif\" font-size=\"14.00\" fill=\"#000000\">&lt;=&#45;1.36865722715</text>\n",
       "</g>\n",
       "<!-- Agdgdd -->\n",
       "<g id=\"node9\" class=\"node\">\n",
       "<title>Agdgdd</title>\n",
       "<polygon fill=\"none\" stroke=\"#000000\" points=\"190,-124.8 136,-124.8 136,-88.8 190,-88.8 190,-124.8\"/>\n",
       "<text text-anchor=\"middle\" x=\"163\" y=\"-102.6\" font-family=\"Times,serif\" font-size=\"14.00\" fill=\"#000000\">1</text>\n",
       "</g>\n",
       "<!-- Agdgd&#45;&gt;Agdgdd -->\n",
       "<g id=\"edge2\" class=\"edge\">\n",
       "<title>Agdgd&#45;&gt;Agdgdd</title>\n",
       "<path fill=\"none\" stroke=\"#000000\" d=\"M159.036,-177.2006C159.7244,-164.975 160.6414,-148.6887 161.42,-134.8599\"/>\n",
       "<polygon fill=\"#000000\" stroke=\"#000000\" points=\"164.9146,-135.053 161.9824,-124.872 157.9257,-134.6594 164.9146,-135.053\"/>\n",
       "<text text-anchor=\"middle\" x=\"211.0276\" y=\"-147\" font-family=\"Times,serif\" font-size=\"14.00\" fill=\"#000000\">&gt;&#45;1.36865722715</text>\n",
       "</g>\n",
       "<!-- Agddg -->\n",
       "<g id=\"node11\" class=\"node\">\n",
       "<title>Agddg</title>\n",
       "<polygon fill=\"none\" stroke=\"#000000\" points=\"308,-213.6 254,-213.6 254,-177.6 308,-177.6 308,-213.6\"/>\n",
       "<text text-anchor=\"middle\" x=\"281\" y=\"-191.4\" font-family=\"Times,serif\" font-size=\"14.00\" fill=\"#000000\">&#45;1</text>\n",
       "</g>\n",
       "<!-- Agdd&#45;&gt;Agddg -->\n",
       "<g id=\"edge7\" class=\"edge\">\n",
       "<title>Agdd&#45;&gt;Agddg</title>\n",
       "<path fill=\"none\" stroke=\"#000000\" d=\"M356.1223,-278.0574C327.6644,-271.6713 289.1173,-260.9817 280.0502,-248.4 275.02,-241.4199 273.8053,-232.4621 274.2848,-223.9146\"/>\n",
       "<polygon fill=\"#000000\" stroke=\"#000000\" points=\"277.7748,-224.2146 275.5672,-213.8524 270.831,-223.3296 277.7748,-224.2146\"/>\n",
       "<text text-anchor=\"middle\" x=\"338.4749\" y=\"-235.8\" font-family=\"Times,serif\" font-size=\"14.00\" fill=\"#000000\">&lt;=&#45;0.526279124518</text>\n",
       "</g>\n",
       "<!-- Agddd -->\n",
       "<g id=\"node12\" class=\"node\">\n",
       "<title>Agddd</title>\n",
       "<ellipse fill=\"none\" stroke=\"#000000\" cx=\"414\" cy=\"-195.6\" rx=\"33.6643\" ry=\"18\"/>\n",
       "<text text-anchor=\"middle\" x=\"414\" y=\"-191.4\" font-family=\"Times,serif\" font-size=\"14.00\" fill=\"#000000\">attr: 1</text>\n",
       "</g>\n",
       "<!-- Agdd&#45;&gt;Agddd -->\n",
       "<g id=\"edge8\" class=\"edge\">\n",
       "<title>Agdd&#45;&gt;Agddd</title>\n",
       "<path fill=\"none\" stroke=\"#000000\" d=\"M393.2615,-266.43C396.8913,-254.0327 401.7867,-237.313 405.9098,-223.2312\"/>\n",
       "<polygon fill=\"#000000\" stroke=\"#000000\" points=\"409.2953,-224.1239 408.7463,-213.5433 402.5773,-222.1569 409.2953,-224.1239\"/>\n",
       "<text text-anchor=\"middle\" x=\"457.5276\" y=\"-235.8\" font-family=\"Times,serif\" font-size=\"14.00\" fill=\"#000000\">&gt;&#45;0.526279124518</text>\n",
       "</g>\n",
       "<!-- Agdddg -->\n",
       "<g id=\"node13\" class=\"node\">\n",
       "<title>Agdddg</title>\n",
       "<polygon fill=\"none\" stroke=\"#000000\" points=\"322,-124.8 268,-124.8 268,-88.8 322,-88.8 322,-124.8\"/>\n",
       "<text text-anchor=\"middle\" x=\"295\" y=\"-102.6\" font-family=\"Times,serif\" font-size=\"14.00\" fill=\"#000000\">&#45;1</text>\n",
       "</g>\n",
       "<!-- Agddd&#45;&gt;Agdddg -->\n",
       "<g id=\"edge5\" class=\"edge\">\n",
       "<title>Agddd&#45;&gt;Agdddg</title>\n",
       "<path fill=\"none\" stroke=\"#000000\" d=\"M380.7286,-191.1359C359.0596,-186.6047 331.595,-177.5572 313.7108,-159.6 306.9794,-152.8411 302.6595,-143.5104 299.8913,-134.5708\"/>\n",
       "<polygon fill=\"#000000\" stroke=\"#000000\" points=\"303.2595,-133.6152 297.3794,-124.8019 296.48,-135.3585 303.2595,-133.6152\"/>\n",
       "<text text-anchor=\"middle\" x=\"362.1446\" y=\"-147\" font-family=\"Times,serif\" font-size=\"14.00\" fill=\"#000000\">&lt;=1.4767749795</text>\n",
       "</g>\n",
       "<!-- Agdddd -->\n",
       "<g id=\"node14\" class=\"node\">\n",
       "<title>Agdddd</title>\n",
       "<polygon fill=\"none\" stroke=\"#000000\" points=\"441,-124.8 387,-124.8 387,-88.8 441,-88.8 441,-124.8\"/>\n",
       "<text text-anchor=\"middle\" x=\"414\" y=\"-102.6\" font-family=\"Times,serif\" font-size=\"14.00\" fill=\"#000000\">1</text>\n",
       "</g>\n",
       "<!-- Agddd&#45;&gt;Agdddd -->\n",
       "<g id=\"edge6\" class=\"edge\">\n",
       "<title>Agddd&#45;&gt;Agdddd</title>\n",
       "<path fill=\"none\" stroke=\"#000000\" d=\"M414,-177.2006C414,-165.0949 414,-149.0076 414,-135.2674\"/>\n",
       "<polygon fill=\"#000000\" stroke=\"#000000\" points=\"417.5001,-134.872 414,-124.872 410.5001,-134.8721 417.5001,-134.872\"/>\n",
       "<text text-anchor=\"middle\" x=\"458.1973\" y=\"-147\" font-family=\"Times,serif\" font-size=\"14.00\" fill=\"#000000\">&gt;1.4767749795</text>\n",
       "</g>\n",
       "<!-- Adg -->\n",
       "<g id=\"node16\" class=\"node\">\n",
       "<title>Adg</title>\n",
       "<ellipse fill=\"none\" stroke=\"#000000\" cx=\"692\" cy=\"-373.2\" rx=\"33.6643\" ry=\"18\"/>\n",
       "<text text-anchor=\"middle\" x=\"692\" y=\"-369\" font-family=\"Times,serif\" font-size=\"14.00\" fill=\"#000000\">attr: 0</text>\n",
       "</g>\n",
       "<!-- Ad&#45;&gt;Adg -->\n",
       "<g id=\"edge27\" class=\"edge\">\n",
       "<title>Ad&#45;&gt;Adg</title>\n",
       "<path fill=\"none\" stroke=\"#000000\" d=\"M662.5694,-443.9482C661.8184,-433.5309 661.9961,-420.3309 665.7108,-409.2 666.997,-405.3459 668.8613,-401.5586 671.0125,-397.9727\"/>\n",
       "<polygon fill=\"#000000\" stroke=\"#000000\" points=\"674.0184,-399.7779 676.785,-389.5507 668.2444,-395.8204 674.0184,-399.7779\"/>\n",
       "<text text-anchor=\"middle\" x=\"721.1446\" y=\"-413.4\" font-family=\"Times,serif\" font-size=\"14.00\" fill=\"#000000\">&lt;=0.816862790192</text>\n",
       "</g>\n",
       "<!-- Add -->\n",
       "<g id=\"node31\" class=\"node\">\n",
       "<title>Add</title>\n",
       "<polygon fill=\"none\" stroke=\"#000000\" points=\"825,-391.2 771,-391.2 771,-355.2 825,-355.2 825,-391.2\"/>\n",
       "<text text-anchor=\"middle\" x=\"798\" y=\"-369\" font-family=\"Times,serif\" font-size=\"14.00\" fill=\"#000000\">&#45;1</text>\n",
       "</g>\n",
       "<!-- Ad&#45;&gt;Add -->\n",
       "<g id=\"edge28\" class=\"edge\">\n",
       "<title>Ad&#45;&gt;Add</title>\n",
       "<path fill=\"none\" stroke=\"#000000\" d=\"M698.3389,-458.6278C722.5616,-454.5689 754.7005,-445.6371 776,-426 783.1613,-419.3976 788.0646,-410.1034 791.3889,-401.1494\"/>\n",
       "<polygon fill=\"#000000\" stroke=\"#000000\" points=\"794.8112,-401.9367 794.5074,-391.3462 788.1406,-399.8146 794.8112,-401.9367\"/>\n",
       "<text text-anchor=\"middle\" x=\"839.1973\" y=\"-413.4\" font-family=\"Times,serif\" font-size=\"14.00\" fill=\"#000000\">&gt;0.816862790192</text>\n",
       "</g>\n",
       "<!-- Adgg -->\n",
       "<g id=\"node17\" class=\"node\">\n",
       "<title>Adgg</title>\n",
       "<ellipse fill=\"none\" stroke=\"#000000\" cx=\"692\" cy=\"-284.4\" rx=\"33.6643\" ry=\"18\"/>\n",
       "<text text-anchor=\"middle\" x=\"692\" y=\"-280.2\" font-family=\"Times,serif\" font-size=\"14.00\" fill=\"#000000\">attr: 1</text>\n",
       "</g>\n",
       "<!-- Adg&#45;&gt;Adgg -->\n",
       "<g id=\"edge25\" class=\"edge\">\n",
       "<title>Adg&#45;&gt;Adgg</title>\n",
       "<path fill=\"none\" stroke=\"#000000\" d=\"M692,-354.8006C692,-342.6949 692,-326.6076 692,-312.8674\"/>\n",
       "<polygon fill=\"#000000\" stroke=\"#000000\" points=\"695.5001,-312.472 692,-302.472 688.5001,-312.4721 695.5001,-312.472\"/>\n",
       "<text text-anchor=\"middle\" x=\"747.1446\" y=\"-324.6\" font-family=\"Times,serif\" font-size=\"14.00\" fill=\"#000000\">&lt;=0.941834207013</text>\n",
       "</g>\n",
       "<!-- Adgd -->\n",
       "<g id=\"node26\" class=\"node\">\n",
       "<title>Adgd</title>\n",
       "<ellipse fill=\"none\" stroke=\"#000000\" cx=\"894\" cy=\"-284.4\" rx=\"33.6643\" ry=\"18\"/>\n",
       "<text text-anchor=\"middle\" x=\"894\" y=\"-280.2\" font-family=\"Times,serif\" font-size=\"14.00\" fill=\"#000000\">attr: 1</text>\n",
       "</g>\n",
       "<!-- Adg&#45;&gt;Adgd -->\n",
       "<g id=\"edge26\" class=\"edge\">\n",
       "<title>Adg&#45;&gt;Adgd</title>\n",
       "<path fill=\"none\" stroke=\"#000000\" d=\"M722.72,-365.6047C746.0849,-359.3293 778.7488,-349.4727 806,-337.2 826.2864,-328.0639 847.7206,-315.2775 864.3558,-304.5759\"/>\n",
       "<polygon fill=\"#000000\" stroke=\"#000000\" points=\"866.6112,-307.283 873.0661,-298.8814 862.7808,-301.424 866.6112,-307.283\"/>\n",
       "<text text-anchor=\"middle\" x=\"888.1973\" y=\"-324.6\" font-family=\"Times,serif\" font-size=\"14.00\" fill=\"#000000\">&gt;0.941834207013</text>\n",
       "</g>\n",
       "<!-- Adggg -->\n",
       "<g id=\"node18\" class=\"node\">\n",
       "<title>Adggg</title>\n",
       "<ellipse fill=\"none\" stroke=\"#000000\" cx=\"639\" cy=\"-195.6\" rx=\"33.6643\" ry=\"18\"/>\n",
       "<text text-anchor=\"middle\" x=\"639\" y=\"-191.4\" font-family=\"Times,serif\" font-size=\"14.00\" fill=\"#000000\">attr: 0</text>\n",
       "</g>\n",
       "<!-- Adgg&#45;&gt;Adggg -->\n",
       "<g id=\"edge19\" class=\"edge\">\n",
       "<title>Adgg&#45;&gt;Adggg</title>\n",
       "<path fill=\"none\" stroke=\"#000000\" d=\"M665.8766,-272.8475C655.961,-267.0309 645.7039,-258.94 640.0502,-248.4 636.0888,-241.0148 634.8224,-232.1721 634.8315,-223.8542\"/>\n",
       "<polygon fill=\"#000000\" stroke=\"#000000\" points=\"638.3326,-223.9341 635.4183,-213.748 631.3444,-223.5283 638.3326,-223.9341\"/>\n",
       "<text text-anchor=\"middle\" x=\"694.9749\" y=\"-235.8\" font-family=\"Times,serif\" font-size=\"14.00\" fill=\"#000000\">&lt;=&#45;1.40225902371</text>\n",
       "</g>\n",
       "<!-- Adggd -->\n",
       "<g id=\"node23\" class=\"node\">\n",
       "<title>Adggd</title>\n",
       "<ellipse fill=\"none\" stroke=\"#000000\" cx=\"770\" cy=\"-195.6\" rx=\"33.6643\" ry=\"18\"/>\n",
       "<text text-anchor=\"middle\" x=\"770\" y=\"-191.4\" font-family=\"Times,serif\" font-size=\"14.00\" fill=\"#000000\">attr: 1</text>\n",
       "</g>\n",
       "<!-- Adgg&#45;&gt;Adggd -->\n",
       "<g id=\"edge20\" class=\"edge\">\n",
       "<title>Adgg&#45;&gt;Adggd</title>\n",
       "<path fill=\"none\" stroke=\"#000000\" d=\"M717.3339,-272.4633C727.9316,-266.4559 739.6892,-258.3247 748,-248.4 754.1146,-241.098 758.7354,-231.8567 762.1235,-223.1539\"/>\n",
       "<polygon fill=\"#000000\" stroke=\"#000000\" points=\"765.4361,-224.2839 765.439,-213.6891 758.8297,-221.9697 765.4361,-224.2839\"/>\n",
       "<text text-anchor=\"middle\" x=\"808.0276\" y=\"-235.8\" font-family=\"Times,serif\" font-size=\"14.00\" fill=\"#000000\">&gt;&#45;1.40225902371</text>\n",
       "</g>\n",
       "<!-- Adgggg -->\n",
       "<g id=\"node19\" class=\"node\">\n",
       "<title>Adgggg</title>\n",
       "<ellipse fill=\"none\" stroke=\"#000000\" cx=\"525\" cy=\"-106.8\" rx=\"33.6643\" ry=\"18\"/>\n",
       "<text text-anchor=\"middle\" x=\"525\" y=\"-102.6\" font-family=\"Times,serif\" font-size=\"14.00\" fill=\"#000000\">attr: 0</text>\n",
       "</g>\n",
       "<!-- Adggg&#45;&gt;Adgggg -->\n",
       "<g id=\"edge15\" class=\"edge\">\n",
       "<title>Adggg&#45;&gt;Adgggg</title>\n",
       "<path fill=\"none\" stroke=\"#000000\" d=\"M608.0611,-188.2422C581.6181,-181.3418 546.3585,-170.4825 536.7108,-159.6 530.7117,-152.8331 527.569,-143.6845 525.9826,-134.9041\"/>\n",
       "<polygon fill=\"#000000\" stroke=\"#000000\" points=\"529.4506,-134.429 524.7572,-124.9305 522.5029,-135.2827 529.4506,-134.429\"/>\n",
       "<text text-anchor=\"middle\" x=\"588.6446\" y=\"-147\" font-family=\"Times,serif\" font-size=\"14.00\" fill=\"#000000\">&lt;=0.44596950028</text>\n",
       "</g>\n",
       "<!-- Adgggd -->\n",
       "<g id=\"node22\" class=\"node\">\n",
       "<title>Adgggd</title>\n",
       "<polygon fill=\"none\" stroke=\"#000000\" points=\"678,-124.8 624,-124.8 624,-88.8 678,-88.8 678,-124.8\"/>\n",
       "<text text-anchor=\"middle\" x=\"651\" y=\"-102.6\" font-family=\"Times,serif\" font-size=\"14.00\" fill=\"#000000\">1</text>\n",
       "</g>\n",
       "<!-- Adggg&#45;&gt;Adgggd -->\n",
       "<g id=\"edge16\" class=\"edge\">\n",
       "<title>Adggg&#45;&gt;Adgggd</title>\n",
       "<path fill=\"none\" stroke=\"#000000\" d=\"M641.4284,-177.63C643.0765,-165.4338 645.29,-149.0543 647.1732,-135.1187\"/>\n",
       "<polygon fill=\"#000000\" stroke=\"#000000\" points=\"650.6633,-135.4267 648.534,-125.0481 643.7263,-134.4892 650.6633,-135.4267\"/>\n",
       "<text text-anchor=\"middle\" x=\"694.6973\" y=\"-147\" font-family=\"Times,serif\" font-size=\"14.00\" fill=\"#000000\">&gt;0.44596950028</text>\n",
       "</g>\n",
       "<!-- Adggggg -->\n",
       "<g id=\"node20\" class=\"node\">\n",
       "<title>Adggggg</title>\n",
       "<polygon fill=\"none\" stroke=\"#000000\" points=\"486,-36 432,-36 432,0 486,0 486,-36\"/>\n",
       "<text text-anchor=\"middle\" x=\"459\" y=\"-13.8\" font-family=\"Times,serif\" font-size=\"14.00\" fill=\"#000000\">1</text>\n",
       "</g>\n",
       "<!-- Adgggg&#45;&gt;Adggggg -->\n",
       "<g id=\"edge13\" class=\"edge\">\n",
       "<title>Adgggg&#45;&gt;Adggggg</title>\n",
       "<path fill=\"none\" stroke=\"#000000\" d=\"M495.0461,-97.9726C481.806,-92.4238 467.4993,-83.7881 459.7108,-70.8 455.4013,-63.6134 454.0786,-54.8275 454.1593,-46.5005\"/>\n",
       "<polygon fill=\"#000000\" stroke=\"#000000\" points=\"457.6626,-46.5797 454.8928,-36.3533 450.6808,-46.0749 457.6626,-46.5797\"/>\n",
       "<text text-anchor=\"middle\" x=\"515.1446\" y=\"-58.2\" font-family=\"Times,serif\" font-size=\"14.00\" fill=\"#000000\">&lt;=0.278630836173</text>\n",
       "</g>\n",
       "<!-- Adggggd -->\n",
       "<g id=\"node21\" class=\"node\">\n",
       "<title>Adggggd</title>\n",
       "<polygon fill=\"none\" stroke=\"#000000\" points=\"619,-36 565,-36 565,0 619,0 619,-36\"/>\n",
       "<text text-anchor=\"middle\" x=\"592\" y=\"-13.8\" font-family=\"Times,serif\" font-size=\"14.00\" fill=\"#000000\">&#45;1</text>\n",
       "</g>\n",
       "<!-- Adgggg&#45;&gt;Adggggd -->\n",
       "<g id=\"edge14\" class=\"edge\">\n",
       "<title>Adgggg&#45;&gt;Adggggd</title>\n",
       "<path fill=\"none\" stroke=\"#000000\" d=\"M546.6731,-92.9309C554.809,-86.9001 563.6206,-79.2719 570,-70.8 575.5816,-63.3876 580.0195,-54.3522 583.4051,-45.8661\"/>\n",
       "<polygon fill=\"#000000\" stroke=\"#000000\" points=\"586.7606,-46.8804 586.9015,-36.2865 580.1849,-44.4803 586.7606,-46.8804\"/>\n",
       "<text text-anchor=\"middle\" x=\"631.1973\" y=\"-58.2\" font-family=\"Times,serif\" font-size=\"14.00\" fill=\"#000000\">&gt;0.278630836173</text>\n",
       "</g>\n",
       "<!-- Adggdg -->\n",
       "<g id=\"node24\" class=\"node\">\n",
       "<title>Adggdg</title>\n",
       "<polygon fill=\"none\" stroke=\"#000000\" points=\"796,-124.8 742,-124.8 742,-88.8 796,-88.8 796,-124.8\"/>\n",
       "<text text-anchor=\"middle\" x=\"769\" y=\"-102.6\" font-family=\"Times,serif\" font-size=\"14.00\" fill=\"#000000\">&#45;1</text>\n",
       "</g>\n",
       "<!-- Adggd&#45;&gt;Adggdg -->\n",
       "<g id=\"edge17\" class=\"edge\">\n",
       "<title>Adggd&#45;&gt;Adggdg</title>\n",
       "<path fill=\"none\" stroke=\"#000000\" d=\"M769.7928,-177.2006C769.6565,-165.0949 769.4753,-149.0076 769.3206,-135.2674\"/>\n",
       "<polygon fill=\"#000000\" stroke=\"#000000\" points=\"772.816,-134.8319 769.2035,-124.872 765.8164,-134.9108 772.816,-134.8319\"/>\n",
       "<text text-anchor=\"middle\" x=\"825.1446\" y=\"-147\" font-family=\"Times,serif\" font-size=\"14.00\" fill=\"#000000\">&lt;=0.762165219541</text>\n",
       "</g>\n",
       "<!-- Adggdd -->\n",
       "<g id=\"node25\" class=\"node\">\n",
       "<title>Adggdd</title>\n",
       "<polygon fill=\"none\" stroke=\"#000000\" points=\"929,-124.8 875,-124.8 875,-88.8 929,-88.8 929,-124.8\"/>\n",
       "<text text-anchor=\"middle\" x=\"902\" y=\"-102.6\" font-family=\"Times,serif\" font-size=\"14.00\" fill=\"#000000\">1</text>\n",
       "</g>\n",
       "<!-- Adggd&#45;&gt;Adggdd -->\n",
       "<g id=\"edge18\" class=\"edge\">\n",
       "<title>Adggd&#45;&gt;Adggdd</title>\n",
       "<path fill=\"none\" stroke=\"#000000\" d=\"M803.2951,-192.1076C827.2724,-187.9898 858.9738,-179.0371 880,-159.6 887.1525,-152.988 892.0538,-143.6916 895.3788,-134.7385\"/>\n",
       "<polygon fill=\"#000000\" stroke=\"#000000\" points=\"898.8006,-135.5279 898.4992,-124.9374 892.1304,-133.4043 898.8006,-135.5279\"/>\n",
       "<text text-anchor=\"middle\" x=\"943.1973\" y=\"-147\" font-family=\"Times,serif\" font-size=\"14.00\" fill=\"#000000\">&gt;0.762165219541</text>\n",
       "</g>\n",
       "<!-- Adgdg -->\n",
       "<g id=\"node27\" class=\"node\">\n",
       "<title>Adgdg</title>\n",
       "<polygon fill=\"none\" stroke=\"#000000\" points=\"921,-213.6 867,-213.6 867,-177.6 921,-177.6 921,-213.6\"/>\n",
       "<text text-anchor=\"middle\" x=\"894\" y=\"-191.4\" font-family=\"Times,serif\" font-size=\"14.00\" fill=\"#000000\">&#45;1</text>\n",
       "</g>\n",
       "<!-- Adgd&#45;&gt;Adgdg -->\n",
       "<g id=\"edge23\" class=\"edge\">\n",
       "<title>Adgd&#45;&gt;Adgdg</title>\n",
       "<path fill=\"none\" stroke=\"#000000\" d=\"M894,-266.0006C894,-253.8949 894,-237.8076 894,-224.0674\"/>\n",
       "<polygon fill=\"#000000\" stroke=\"#000000\" points=\"897.5001,-223.672 894,-213.672 890.5001,-223.6721 897.5001,-223.672\"/>\n",
       "<text text-anchor=\"middle\" x=\"949.1446\" y=\"-235.8\" font-family=\"Times,serif\" font-size=\"14.00\" fill=\"#000000\">&lt;=0.551075076818</text>\n",
       "</g>\n",
       "<!-- Adgdd -->\n",
       "<g id=\"node28\" class=\"node\">\n",
       "<title>Adgdd</title>\n",
       "<ellipse fill=\"none\" stroke=\"#000000\" cx=\"1027\" cy=\"-195.6\" rx=\"33.6643\" ry=\"18\"/>\n",
       "<text text-anchor=\"middle\" x=\"1027\" y=\"-191.4\" font-family=\"Times,serif\" font-size=\"14.00\" fill=\"#000000\">attr: 1</text>\n",
       "</g>\n",
       "<!-- Adgd&#45;&gt;Adgdd -->\n",
       "<g id=\"edge24\" class=\"edge\">\n",
       "<title>Adgd&#45;&gt;Adgdd</title>\n",
       "<path fill=\"none\" stroke=\"#000000\" d=\"M927.3389,-281.0278C951.5616,-276.9689 983.7005,-268.0371 1005,-248.4 1012.1613,-241.7976 1017.0646,-232.5034 1020.3889,-223.5494\"/>\n",
       "<polygon fill=\"#000000\" stroke=\"#000000\" points=\"1023.8112,-224.3367 1023.5074,-213.7462 1017.1406,-222.2146 1023.8112,-224.3367\"/>\n",
       "<text text-anchor=\"middle\" x=\"1068.1973\" y=\"-235.8\" font-family=\"Times,serif\" font-size=\"14.00\" fill=\"#000000\">&gt;0.551075076818</text>\n",
       "</g>\n",
       "<!-- Adgddg -->\n",
       "<g id=\"node29\" class=\"node\">\n",
       "<title>Adgddg</title>\n",
       "<polygon fill=\"none\" stroke=\"#000000\" points=\"1054,-124.8 1000,-124.8 1000,-88.8 1054,-88.8 1054,-124.8\"/>\n",
       "<text text-anchor=\"middle\" x=\"1027\" y=\"-102.6\" font-family=\"Times,serif\" font-size=\"14.00\" fill=\"#000000\">1</text>\n",
       "</g>\n",
       "<!-- Adgdd&#45;&gt;Adgddg -->\n",
       "<g id=\"edge21\" class=\"edge\">\n",
       "<title>Adgdd&#45;&gt;Adgddg</title>\n",
       "<path fill=\"none\" stroke=\"#000000\" d=\"M1027,-177.2006C1027,-165.0949 1027,-149.0076 1027,-135.2674\"/>\n",
       "<polygon fill=\"#000000\" stroke=\"#000000\" points=\"1030.5001,-134.872 1027,-124.872 1023.5001,-134.8721 1030.5001,-134.872\"/>\n",
       "<text text-anchor=\"middle\" x=\"1082.1446\" y=\"-147\" font-family=\"Times,serif\" font-size=\"14.00\" fill=\"#000000\">&lt;=0.597935066192</text>\n",
       "</g>\n",
       "<!-- Adgddd -->\n",
       "<g id=\"node30\" class=\"node\">\n",
       "<title>Adgddd</title>\n",
       "<polygon fill=\"none\" stroke=\"#000000\" points=\"1187,-124.8 1133,-124.8 1133,-88.8 1187,-88.8 1187,-124.8\"/>\n",
       "<text text-anchor=\"middle\" x=\"1160\" y=\"-102.6\" font-family=\"Times,serif\" font-size=\"14.00\" fill=\"#000000\">&#45;1</text>\n",
       "</g>\n",
       "<!-- Adgdd&#45;&gt;Adgddd -->\n",
       "<g id=\"edge22\" class=\"edge\">\n",
       "<title>Adgdd&#45;&gt;Adgddd</title>\n",
       "<path fill=\"none\" stroke=\"#000000\" d=\"M1060.3389,-192.2278C1084.5616,-188.1689 1116.7005,-179.2371 1138,-159.6 1145.1613,-152.9976 1150.0646,-143.7034 1153.3889,-134.7494\"/>\n",
       "<polygon fill=\"#000000\" stroke=\"#000000\" points=\"1156.8112,-135.5367 1156.5074,-124.9462 1150.1406,-133.4146 1156.8112,-135.5367\"/>\n",
       "<text text-anchor=\"middle\" x=\"1201.1973\" y=\"-147\" font-family=\"Times,serif\" font-size=\"14.00\" fill=\"#000000\">&gt;0.597935066192</text>\n",
       "</g>\n",
       "</g>\n",
       "</svg>\n"
      ],
      "text/plain": [
       "<graphviz.dot.Digraph at 0x1a14bf8b00>"
      ]
     },
     "execution_count": 506,
     "metadata": {},
     "output_type": "execute_result"
    }
   ],
   "source": [
    "print(ad.accuracy(the_set))\n",
    "ad.plot()"
   ]
  },
  {
   "cell_type": "code",
   "execution_count": null,
   "metadata": {},
   "outputs": [
    {
     "name": "stdout",
     "output_type": "stream",
     "text": [
      "Taille de la base générée : 400 exemples\n"
     ]
    },
    {
     "data": {
      "image/png": "[encoded data removed]",
      "text/plain": [
       "<matplotlib.figure.Figure at 0x112f03cf8>"
      ]
     },
     "metadata": {},
     "output_type": "display_data"
    }
   ],
   "source": [
    "the_set = LabeledSet(2)\n",
    "ajouter_exemples_aleatoires(the_set, 200, 1, [-1])\n",
    "ajouter_exemples_aleatoires(the_set, 200, -1, [1])\n",
    "# ============================================================== #\n",
    "ad=ArbreDecision2(0.0)          # initialiation d'un arbre binaire qui utilisera epsilon= 0.0\n",
    "print(\"Taille de la base générée :\", the_set.size(), \"exemples\")\n",
    "ad.train(the_set)              # construction de l'arbre à partir de la base jouet\n",
    "plot_frontiere(the_set,ad,20)  # tracé graphique de la frontière de décision\n",
    "plot2DSet(the_set) "
   ]
  },
  {
   "cell_type": "code",
   "execution_count": null,
   "metadata": {},
   "outputs": [
    {
     "name": "stdout",
     "output_type": "stream",
     "text": [
      "1.0\n"
     ]
    }
   ],
   "source": [
    "print(ad.accuracy(the_set))\n",
    "ad.plot()"
   ]
  },
  {
   "cell_type": "markdown",
   "metadata": {},
   "source": [
    "## Etape 3: Expérimentation"
   ]
  },
  {
   "cell_type": "markdown",
   "metadata": {
    "collapsed": true
   },
   "source": [
    "Comparez le résultat obtenu avec ceux obtenus avec les 2 classifiers implémentés lors des TD-TME précédents. Ensuite, utilisez votre implémentation sur d'autres bases de données que vous avez déjà trouvées ou que vous pourrez trouver sur le web."
   ]
  },
  {
   "cell_type": "code",
   "execution_count": null,
   "metadata": {},
   "outputs": [],
   "source": [
    "from sklearn.datasets import fetch_mldata\n",
    "\n",
    "def loadFile(name):\n",
    "    data = fetch_mldata(name, data_home='.')\n",
    "    print(data.data.shape)\n",
    "    unique=np.unique(data.target)\n",
    "    for i in range(len(data.target)):\n",
    "        if (data.target[i]==unique[0]):\n",
    "            data.target[i]=1\n",
    "        else:\n",
    "            data.target[i]=-1\n",
    "    return data\n",
    "datas = loadFile('breast-cancer_scale')"
   ]
  },
  {
   "cell_type": "code",
   "execution_count": null,
   "metadata": {
    "collapsed": true
   },
   "outputs": [],
   "source": [
    "def split (data,n):\n",
    "    taille=int(len(data.data)*n)\n",
    "    i=0\n",
    "    data_1=[]\n",
    "    label_1=[]\n",
    "    data_2=[]\n",
    "    label_2=[]\n",
    "    while (i<taille):\n",
    "        data_1.append(data.data[i])\n",
    "        label_1.append(data.target[i])\n",
    "        i=i+1\n",
    "    while (i<len(data.data)):\n",
    "        data_2.append(data.data[i])\n",
    "        label_2.append(data.target[i])\n",
    "        i=i+1\n",
    "    return (data_1,label_1,data_2,label_2)\n",
    "    \n",
    "ens=split(datas,0.9)"
   ]
  },
  {
   "cell_type": "code",
   "execution_count": null,
   "metadata": {
    "collapsed": true
   },
   "outputs": [],
   "source": [
    "def turn_to_LabeledSet(datas):\n",
    "    apprentissage = LabeledSet(2)\n",
    "    test = LabeledSet(2)\n",
    "    i=0\n",
    "    for point in datas[0]:\n",
    "        apprentissage.addExample(point,datas[1][i])\n",
    "        i=i+1\n",
    "    j=0\n",
    "    for point in datas[2]:\n",
    "        test.addExample(point,datas[3][j])\n",
    "    return (apprentissage,test)"
   ]
  },
  {
   "cell_type": "code",
   "execution_count": null,
   "metadata": {},
   "outputs": [],
   "source": [
    "ens_apprentissage, ens_test = turn_to_LabeledSet(ens);\n",
    "ens_apprentissage.getX(0)"
   ]
  },
  {
   "cell_type": "code",
   "execution_count": null,
   "metadata": {},
   "outputs": [],
   "source": [
    "\"\"\"On a essayé de diminuer l'epsilon afin d'avoir un meilleur résultat, mais on arrive pas à cause de la limitée de la récusion \"\"\"\n",
    "ad=ArbreDecision2(0.7)          \n",
    "print(\"Taille de la base générée :\", set_apprentissage_real.size(), \"exemples\")\n",
    "ad.train(ens_apprentissage)"
   ]
  },
  {
   "cell_type": "code",
   "execution_count": null,
   "metadata": {
    "collapsed": true
   },
   "outputs": [],
   "source": [
    "print(ad.accuracy(ens_test))\n",
    "ad.plot()"
   ]
  },
  {
   "cell_type": "markdown",
   "metadata": {},
   "source": [
    "## Les données calculées par les TMEs précédantes :\n",
    "#### Perceptron: 0.956140350877193 \n",
    "\n",
    "#### KNN: 0.9853801169590644\n",
    "### On a choisi les résultats meuilleurs au dessus  "
   ]
  }
 ],
 "metadata": {
  "kernelspec": {
   "display_name": "Python 3",
   "language": "python",
   "name": "python3"
  },
  "language_info": {
   "codemirror_mode": {
    "name": "ipython",
    "version": 3
   },
   "file_extension": ".py",
   "mimetype": "text/x-python",
   "name": "python",
   "nbconvert_exporter": "python",
   "pygments_lexer": "ipython3",
   "version": "3.5.4"
  }
 },
 "nbformat": 4,
 "nbformat_minor": 1
}
