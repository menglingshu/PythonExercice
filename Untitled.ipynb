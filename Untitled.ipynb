{
 "cells": [
  {
   "cell_type": "code",
   "execution_count": 3,
   "metadata": {
    "collapsed": true
   },
   "outputs": [],
   "source": [
    "import urllib.request as urlrequest\n",
    "import json\n",
    "\n",
    "url_visit = \"https://api.douban.com/v2/movie/1296753\"\n",
    "crawl_content = urlrequest.urlopen(url_visit).read()\n",
    "json_content = json.loads(crawl_content.decode('utf-8'))\n",
    "\n",
    "id = 27077687\n",
    "rating = json_content['rating']['average']\n",
    "\n",
    "\n",
    "with open(\"douban_book.txt\", \"a\") as outputfile:\n",
    "    outputfile.write(\"{}, {}\\n\".format(id, rating))\n"
   ]
  },
  {
   "cell_type": "code",
   "execution_count": 5,
   "metadata": {
    "collapsed": true
   },
   "outputs": [],
   "source": [
    "import urllib.request as urlrequest\n",
    "import json\n",
    "\n",
    "id_list = [26387939,11803087,20451290]\n",
    "\n",
    "with open(\"douban_movie.txt\", \"a\") as outputfile:\n",
    "    for id in id_list:\n",
    "        url_visit = \"https://api.douban.com/v2/movie/{}\".format(id)\n",
    "        crawl_content = urlrequest.urlopen(url_visit).read()\n",
    "        json_content = json.loads(crawl_content.decode('utf-8'))\n",
    "        \n",
    "        rating = json_content['rating']['average']\n",
    "        \n",
    "        outputfile.write('{},{}\\n'.format(id, rating))\n",
    "        "
   ]
  },
  {
   "cell_type": "code",
   "execution_count": 10,
   "metadata": {
    "collapsed": true
   },
   "outputs": [],
   "source": [
    "import urllib.request as urlrequest\n",
    "import json\n",
    "name_list = ['异形：契约','摔跤吧！爸爸','速度与激情8']\n",
    "with open(\"douban_name_movie.txt\", \"w\") as outputfile: \n",
    "    for name in name_list: \n",
    "        id = urllib.parse.quote(name) \n",
    "        url_visit = \"https://api.douban.com/v2/movie/search?q={}\".format(id) \n",
    "        crawl_content = urlrequest.urlopen(url_visit).read() \n",
    "        json_content = json.loads(crawl_content.decode('utf-8'))\n",
    "        \n",
    "        rank = json_content['subjects'][0]['rating']['average']\n",
    "        \n",
    "        outputfile.write('{}, {}\\n'.format(name, rank))"
   ]
  }
 ],
 "metadata": {
  "kernelspec": {
   "display_name": "Python 3",
   "language": "python",
   "name": "python3"
  },
  "language_info": {
   "codemirror_mode": {
    "name": "ipython",
    "version": 3
   },
   "file_extension": ".py",
   "mimetype": "text/x-python",
   "name": "python",
   "nbconvert_exporter": "python",
   "pygments_lexer": "ipython3",
   "version": "3.6.2"
  }
 },
 "nbformat": 4,
 "nbformat_minor": 2
}
