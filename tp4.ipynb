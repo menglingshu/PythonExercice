{
 "cells": [
  {
   "cell_type": "markdown",
   "metadata": {},
   "source": [
    "# 3I026 - Intelligence artificielle & Data science"
   ]
  },
  {
   "cell_type": "markdown",
   "metadata": {},
   "source": [
    "TP 4 : Programmation du kernel perceptron\n",
    "=======\n",
    "\n",
    "Dans ce TP, nous allons principalement étendre le perceptron du TP3 à l'aide de noyaux, avant de commencer le projet."
   ]
  },
  {
   "cell_type": "markdown",
   "metadata": {},
   "source": [
    "MENG_LINGSHU_3502972"
   ]
  },
  {
   "cell_type": "markdown",
   "metadata": {},
   "source": [
    "Double-cliquer ici et remplacer par les noms et prénoms de votre binôme"
   ]
  },
  {
   "cell_type": "code",
   "execution_count": 40,
   "metadata": {
    "collapsed": true
   },
   "outputs": [],
   "source": [
    "import numpy as np\n",
    "import pandas as pd\n",
    "import matplotlib.pyplot as plt\n",
    "%matplotlib inline"
   ]
  },
  {
   "cell_type": "code",
   "execution_count": 41,
   "metadata": {
    "collapsed": true
   },
   "outputs": [],
   "source": [
    "class LabeledSet:  \n",
    "    \n",
    "    def __init__(self, input_dimension):\n",
    "        self.input_dimension = input_dimension\n",
    "        self.nb_examples = 0\n",
    "    \n",
    "    def addExample(self, vector, label):\n",
    "        if (self.nb_examples == 0):\n",
    "            self.x = np.array([vector])\n",
    "            self.y = np.array([label])\n",
    "        else:\n",
    "            self.x = np.vstack((self.x,vector))\n",
    "            self.y = np.vstack((self.y,label))\n",
    "        \n",
    "        self.nb_examples = self.nb_examples + 1\n",
    "    \n",
    "    #Renvoie la dimension de l'espace d'entrée\n",
    "    def getInputDimension(self):\n",
    "        return self.input_dimension\n",
    "        \n",
    "    #Renvoie le nombre d'exemples dans le set\n",
    "    def size(self):\n",
    "        return self.nb_examples\n",
    "    \n",
    "    #Renvoie la valeur de x_i\n",
    "    def getX(self, i):\n",
    "        return self.x[i]\n",
    "            \n",
    "    #Renvoie la valeur de y_i\n",
    "    def getY(self, i):\n",
    "        return self.y[i]"
   ]
  },
  {
   "cell_type": "code",
   "execution_count": 42,
   "metadata": {
    "collapsed": true
   },
   "outputs": [],
   "source": [
    "class Classifier:\n",
    "    def __init__(self, input_dimension):\n",
    "        raise NotImplementedError(\"Please Implement this method\")\n",
    "    \n",
    "    #Permet de calculer la prediction sur x => renvoie un score\n",
    "    def predict(self, x):\n",
    "        raise NotImplementedError(\"Please Implement this method\")\n",
    "    \n",
    "    #Permet d'entrainer le modele sur un ensemble de données\n",
    "    def train(self, labeledSet):\n",
    "        raise NotImplementedError(\"Please Implement this method\")\n",
    "    \n",
    "    #Permet de calculer la qualité du système \n",
    "    def accuracy(self, dataset):\n",
    "        nb_ok = 0\n",
    "        for i in range(dataset.size()):\n",
    "            output = self.predict(dataset.getX(i))\n",
    "            if (output * dataset.getY(i) > 0):\n",
    "                nb_ok = nb_ok + 1\n",
    "        acc = nb_ok / (dataset.size() * 1.0)\n",
    "        return acc"
   ]
  },
  {
   "cell_type": "code",
   "execution_count": 43,
   "metadata": {
    "collapsed": true
   },
   "outputs": [],
   "source": [
    "def generer_exemple(mean1=0, mean2=0):\n",
    "    \"\"\"Genere un exemple\"\"\"\n",
    "    mean = [mean1, mean2]\n",
    "    cov = [[1, 0], [0, 6]]\n",
    "    return np.random.multivariate_normal(mean, cov)\n",
    "\n",
    "def generer_exemples(nombre_exemples, mean1=0, mean2=0):\n",
    "    \"\"\" Genere une liste de taille 'nombre_exemple' d'exemples \"\"\"\n",
    "    exemples = list()\n",
    "    for _ in range(nombre_exemples):\n",
    "        exemples.append(generer_exemple(mean1, mean2))   \n",
    "    return exemples\n",
    "\n",
    "def ajouter_exemples_aleatoires(the_set, nombre_exemples, mean1, mean2, labels):\n",
    "    \"\"\" Ajoute dans 'the_set' un total de 'nombre_exemples' exemples\n",
    "    associés aleatoirement à un label contenu dans 'labels'. \"\"\"\n",
    "    from random import choice\n",
    "    exemples = generer_exemples(nombre_exemples, mean1, mean2)\n",
    "    for exemple in exemples:\n",
    "        the_set.addExample(exemple, choice(labels))"
   ]
  },
  {
   "cell_type": "code",
   "execution_count": 44,
   "metadata": {
    "collapsed": true
   },
   "outputs": [],
   "source": [
    "def plot_frontiere(set, classifier, step=20):\n",
    "    mmax = set.x.max(0)\n",
    "    mmin = set.x.min(0)\n",
    "    x1grid, x2grid = np.meshgrid(np.linspace(mmin[0], mmax[0], step), np.linspace(mmin[1], mmax[1], step))\n",
    "    grid = np.hstack((x1grid.reshape(x1grid.size, 1), x2grid.reshape(x2grid.size, 1)))\n",
    "    \n",
    "    # calcul de la prediction pour chaque point de la grille\n",
    "    res = np.array([classifier.predict(grid[i,:]) for i in range(len(grid)) ])\n",
    "    res = res.reshape(x1grid.shape)\n",
    "    # tracé des frontieres\n",
    "    plt.contourf(x1grid, x2grid, res, colors=[\"red\", \"cyan\"], levels=[-1000,0,1000], linewidth=2)"
   ]
  },
  {
   "cell_type": "code",
   "execution_count": 45,
   "metadata": {
    "collapsed": true
   },
   "outputs": [],
   "source": [
    "def plot2DSet(dataset):\n",
    "    plt.scatter(dataset.x[0:int(dataset.size()/2),0],dataset.x[0:int(dataset.size()/2),1],marker='o')\n",
    "    plt.scatter(dataset.x[int(dataset.size()/2):dataset.size(),0],dataset.x[int(dataset.size()/2):dataset.size(),1],marker='x')\n"
   ]
  },
  {
   "cell_type": "code",
   "execution_count": 46,
   "metadata": {},
   "outputs": [
    {
     "data": {
      "image/png": "[encoded data removed]",
      "text/plain": [
       "<matplotlib.figure.Figure at 0x1a197f64e0>"
      ]
     },
     "metadata": {},
     "output_type": "display_data"
    }
   ],
   "source": [
    "the_set = LabeledSet(6)\n",
    "\n",
    "ajouter_exemples_aleatoires(the_set, 50, 0, 0, [1])\n",
    "ajouter_exemples_aleatoires(the_set, 50, 1, 1, [1])\n",
    "ajouter_exemples_aleatoires(the_set, 50, 1, 0, [-1])\n",
    "ajouter_exemples_aleatoires(the_set, 50, 0, 1, [-1])\n",
    "\n",
    "plot2DSet(set_test)"
   ]
  },
  {
   "cell_type": "markdown",
   "metadata": {},
   "source": [
    "Kernel Trick\n",
    "--------------"
   ]
  },
  {
   "cell_type": "markdown",
   "metadata": {},
   "source": [
    "Nous allons projeter (manuellement) les données 2D dans un espace de plus grande dimension. Voici un exemple de projection qui transforme un vecteur $(x_1,x_2)$ en un vecteur $(x_1,x_2,1)$"
   ]
  },
  {
   "cell_type": "code",
   "execution_count": 47,
   "metadata": {},
   "outputs": [
    {
     "data": {
      "text/plain": [
       "array([ 0.06729826, -6.24109145,  1.        ])"
      ]
     },
     "execution_count": 47,
     "metadata": {},
     "output_type": "execute_result"
    }
   ],
   "source": [
    "class KernelBias:\n",
    "    def transform(self, x):\n",
    "        y=np.asarray([x[0],x[1],1])\n",
    "        return y\n",
    "\n",
    "k=KernelBias()\n",
    "k.transform(the_set.getX(1))\n"
   ]
  },
  {
   "cell_type": "markdown",
   "metadata": {},
   "source": [
    "Implémentez la classe perceptron qui prend un Kernel en paramètre, et calcule le perceptron sur la version \"kernélisée\" des données. Tester ce perceptron sur le dataset 1 (2 gaussiennes) et le dataset XOR"
   ]
  },
  {
   "cell_type": "code",
   "execution_count": 48,
   "metadata": {
    "collapsed": true
   },
   "outputs": [],
   "source": [
    "class PerceptronKernel(Classifier):\n",
    "    \n",
    "    def __init__(self, dimension_kernel, learning_rate, nombre_iterations, kernel):\n",
    "        \n",
    "        self.dimension_kernel = dimension_kernel\n",
    "        self.learning_rate = learning_rate\n",
    "        self.nombre_iterations = nombre_iterations\n",
    "        self.kernel = kernel\n",
    "        self.w = np.random.rand(self.dimension_kernel)\n",
    "    \n",
    "    #Permet de calculer la prediction sur x => renvoie un score\n",
    "    def predict(self,x): \n",
    "        \n",
    "        z = np.dot(self.kernel.transform(x), self.w)\n",
    "        if z > 0:\n",
    "            return +1\n",
    "        else:\n",
    "            return -1\n",
    "\n",
    "    \n",
    "    #Permet d'entrainer le modele sur un ensemble de données\n",
    "    def train(self,labeledSet):\n",
    "        \n",
    "        for p in range(self.nombre_iterations):\n",
    "            for i in range(labeledSet.size()):  \n",
    "                if (self.predict(labeledSet.getX(i)) * labeledSet.getY(i)) < 0:\n",
    "                    self.w = self.w + self.learning_rate * labeledSet.getY(i) * self.kernel.transform(labeledSet.getX(i))\n",
    "                    "
   ]
  },
  {
   "cell_type": "code",
   "execution_count": 49,
   "metadata": {},
   "outputs": [
    {
     "name": "stdout",
     "output_type": "stream",
     "text": [
      "0.5\n"
     ]
    },
    {
     "data": {
      "image/png": "[encoded data removed]",
      "text/plain": [
       "<matplotlib.figure.Figure at 0x1a197f04a8>"
      ]
     },
     "metadata": {},
     "output_type": "display_data"
    }
   ],
   "source": [
    "N=100\n",
    "k=KernelBias()\n",
    "k.transform(the_set.getX(1))\n",
    "perceptron_k = PerceptronKernel(3, 0.0001, 10, k)\n",
    "### TODO: Tester le perceptron sur les deux datasets\n",
    "\n",
    "#dataset de l'apprentissage\n",
    "set_apprentissage = LabeledSet(3)\n",
    "ajouter_exemples_aleatoires(set_apprentissage, 50, 0, 0, [1])\n",
    "ajouter_exemples_aleatoires(set_apprentissage, 50, 1, 1, [1])\n",
    "ajouter_exemples_aleatoires(set_apprentissage, 50, 1, 0, [-1])\n",
    "ajouter_exemples_aleatoires(set_apprentissage, 50, 0, 1, [-1])\n",
    "\n",
    "#dataset de test\n",
    "set_test = LabeledSet(3)\n",
    "ajouter_exemples_aleatoires(set_test, 50, 3, 3, [1])\n",
    "ajouter_exemples_aleatoires(set_test, 50, -3, -3, [1])\n",
    "ajouter_exemples_aleatoires(set_test, 50, 3, -3, [-1])\n",
    "ajouter_exemples_aleatoires(set_test, 50, -3, 3, [-1])\n",
    "\n",
    "perceptron_k.train(set_apprentissage)\n",
    "plot_frontiere(set_test, perceptron_k, 200)\n",
    "print(perceptron_k.accuracy(set_test))\n",
    "plot_frontiere(set_test,perceptron_k,200)\n",
    "plot2DSet(set_test)"
   ]
  },
  {
   "cell_type": "markdown",
   "metadata": {},
   "source": [
    "Implémenter le kernel : $(x_1,x_2) \\rightarrow (1,x_1,x_2,x_1*x_1,x_2*x_2,x_1*x_2)$. Entrainez le perceptron correspondant sur le XOR. Que constatez vous ? Donnez une explication."
   ]
  },
  {
   "cell_type": "code",
   "execution_count": 50,
   "metadata": {
    "collapsed": true
   },
   "outputs": [],
   "source": [
    "#prof\n",
    "class KernelPoly:\n",
    "    def transform(self, x):\n",
    "        '''array = []\n",
    "        for i in range(3):\n",
    "            array.append(x[i])\n",
    "            array.append(pow(x[i], 2))\n",
    "        y=np.asarray([array, 1])'''\n",
    "        y=np.asarray([x[0], x[1], x[0]*x[1], pow(x[0],2), pow(x[1], 2), 1])\n",
    "        return y"
   ]
  },
  {
   "cell_type": "code",
   "execution_count": 59,
   "metadata": {},
   "outputs": [
    {
     "name": "stdout",
     "output_type": "stream",
     "text": [
      "0.78\n"
     ]
    },
    {
     "data": {
      "image/png": "[encoded data removed]",
      "text/plain": [
       "<matplotlib.figure.Figure at 0x1a0e576be0>"
      ]
     },
     "metadata": {},
     "output_type": "display_data"
    }
   ],
   "source": [
    "N=100\n",
    "k = KernelPoly()\n",
    "k.transform(the_set.getX(1))\n",
    "perceptron_k = PerceptronKernel(6, 0.0001, 10, k)\n",
    "\n",
    "### TODO: Tester le perceptron sur les deux datasets\n",
    "\n",
    "#dataset de l'apprentissage\n",
    "set_apprentissage = LabeledSet(6)\n",
    "ajouter_exemples_aleatoires(set_apprentissage, 50, 0, 0, [1])\n",
    "ajouter_exemples_aleatoires(set_apprentissage, 50, 1, 1, [1])\n",
    "ajouter_exemples_aleatoires(set_apprentissage, 50, 1, 0, [-1])\n",
    "ajouter_exemples_aleatoires(set_apprentissage, 50, 0, 1, [-1])\n",
    "\n",
    "#dataset de test\n",
    "set_test = LabeledSet(6)\n",
    "ajouter_exemples_aleatoires(set_test, 50, 3, 3, [1])\n",
    "ajouter_exemples_aleatoires(set_test, 50, -3, -3, [1])\n",
    "ajouter_exemples_aleatoires(set_test, 50, 3, -3, [-1])\n",
    "ajouter_exemples_aleatoires(set_test, 50, -3, 3, [-1])\n",
    "\n",
    "perceptron_k.train(set_apprentissage)\n",
    "plot_frontiere(set_test, perceptron_k, 200)\n",
    "print(perceptron_k.accuracy(set_test))\n",
    "plot_frontiere(set_test,perceptron_k, 200)\n",
    "plot2DSet(set_test)"
   ]
  },
  {
   "cell_type": "markdown",
   "metadata": {},
   "source": [
    "Mise en oeuvre sur des données réelles \n",
    "-------\n",
    "Tester la version à noyau du perceptron sur les données réelles"
   ]
  },
  {
   "cell_type": "code",
   "execution_count": 52,
   "metadata": {},
   "outputs": [
    {
     "name": "stdout",
     "output_type": "stream",
     "text": [
      "(683, 10)\n",
      "[[-0.860107 -0.111111 -1.       ..., -0.555556 -1.       -1.      ]\n",
      " [-0.859671 -0.111111 -0.333333 ..., -0.555556 -0.777778 -1.      ]\n",
      " [-0.857807 -0.555556 -1.       ..., -0.555556 -1.       -1.      ]\n",
      " ..., \n",
      " [-0.876716 -0.111111  1.       ...,  0.555556  1.       -0.777778]\n",
      " [-0.875424 -0.333333  0.555556 ...,  1.        0.111111 -1.      ]\n",
      " [-0.875424 -0.333333  0.555556 ...,  1.       -0.333333 -1.      ]]\n"
     ]
    }
   ],
   "source": [
    "from sklearn.datasets import fetch_mldata\n",
    "\n",
    "def loadFile(name):\n",
    "    data = fetch_mldata(name, data_home = '/Users/Lingshu/Desktop/3I026/TME4/')\n",
    "    print(data.data.shape)\n",
    "    unique = np.unique(data.target)\n",
    "    for i in range(len(data.target)):\n",
    "        if (data.target[i]==unique[0]):\n",
    "            data.target[i]=1\n",
    "        else:\n",
    "            data.target[i]=-1\n",
    "    return data.data, data.target\n",
    "datas,targets = loadFile('breast-cancer_scale')\n",
    "print(datas)\n",
    "#print(targets) #les labels\n",
    "#Les donnees sont dans data.data et data.target"
   ]
  },
  {
   "cell_type": "code",
   "execution_count": 53,
   "metadata": {},
   "outputs": [
    {
     "name": "stdout",
     "output_type": "stream",
     "text": [
      "341\n",
      "342\n",
      "683\n"
     ]
    }
   ],
   "source": [
    "def split(data):\n",
    "    data_apprentissage = data[:int(len(data)/2)]\n",
    "    data_test = data[int(len(data)/2):]\n",
    "    return data_apprentissage, data_test\n",
    "data_apprentissage, data_test = split(datas)\n",
    "labels_apprentissage, labels_test = split(targets)\n",
    "#on verifie si on reussit a separer les datas et les targets \n",
    "print(len(data_apprentissage))\n",
    "print(len(data_test))\n",
    "print(len(datas))"
   ]
  },
  {
   "cell_type": "code",
   "execution_count": 54,
   "metadata": {},
   "outputs": [
    {
     "name": "stdout",
     "output_type": "stream",
     "text": [
      "6\n"
     ]
    }
   ],
   "source": [
    "def turn_to_LabeledSet(tab1,tab2):\n",
    "    set_appretissage = LabeledSet(len(tab1))\n",
    "    for i in range(len(tab1)):\n",
    "        set_appretissage.addExample(tab1[i], tab2[i])\n",
    "    return set_apprentissage\n",
    "                   \n",
    "set_apprentissage_real = turn_to_LabeledSet(data_apprentissage,labels_apprentissage)\n",
    "set_test_real = turn_to_LabeledSet(data_test,labels_test)\n",
    "\n",
    "print(set_apprentissage_real.getInputDimension())"
   ]
  },
  {
   "cell_type": "code",
   "execution_count": 62,
   "metadata": {},
   "outputs": [
    {
     "name": "stdout",
     "output_type": "stream",
     "text": [
      "0.5\n"
     ]
    },
    {
     "data": {
      "image/png": "[encoded data removed]",
      "text/plain": [
       "<matplotlib.figure.Figure at 0x1a0e5823c8>"
      ]
     },
     "metadata": {},
     "output_type": "display_data"
    }
   ],
   "source": [
    "N=100\n",
    "k = KernelPoly()\n",
    "k.transform(the_set.getX(1))\n",
    "perceptron_k = PerceptronKernel(6, 0.0001, 10, k)\n",
    "\n",
    "perceptron_real = PerceptronKernel(set_apprentissage_real.getInputDimension(), 0.0001, 10, k)\n",
    "\n",
    "perceptron_real.train(set_apprentissage_real)\n",
    "plot_frontiere(set_test_real, perceptron_real, 200)\n",
    "print(perceptron_k.accuracy(set_test_real))\n",
    "plot_frontiere(set_test_real, perceptron_real, 200)\n",
    "plot2DSet(set_test_real) \n"
   ]
  }
 ],
 "metadata": {
  "kernelspec": {
   "display_name": "Python 3",
   "language": "python",
   "name": "python3"
  },
  "language_info": {
   "codemirror_mode": {
    "name": "ipython",
    "version": 3
   },
   "file_extension": ".py",
   "mimetype": "text/x-python",
   "name": "python",
   "nbconvert_exporter": "python",
   "pygments_lexer": "ipython3",
   "version": "3.6.2"
  }
 },
 "nbformat": 4,
 "nbformat_minor": 1
}
